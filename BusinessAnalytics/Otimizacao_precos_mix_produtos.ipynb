{
 "cells": [
  {
   "cell_type": "markdown",
   "metadata": {},
   "source": [
    "## Análise: Otimização de preços e mix de produtos de uma empresa fictícia"
   ]
  },
  {
   "cell_type": "markdown",
   "metadata": {},
   "source": [
    "### Criando o modelo matemático para otimização\n",
    "#### Parâmetros\n",
    "- Ai = Número máximo de smartphones modelo tipo i para vender este mês, onde i pertence ao conjunto {Lua1, Lua2}\n",
    "- Bi = Preço de venda de smartphones modelo tipo i, onde i pertence ao conjunto {Lua1, Lua2}\n",
    "- Ci = Preço de custo das peças componentes para smartphones modelo tipo i, onde i pertence ao conjunto {Lua1, Lua2}\n",
    "- Di = Custo de mão de obra de montagem por hora de smartphones modelo tipo i, onde i pertence ao conjunto {Lua1, Lua2}\n",
    "- Ei = Custo de mão de obra de teste por hora de smartphones modelo tipo i, onde i pertence ao conjunto {Lua1, Lua2}\n",
    "- F = Número máximo de horas de trabalho de montagem\n",
    "- G = Número máximo de horas de trabalho de teste\n",
    "- Hm,i = Horas de montagem necessárias para construir cada modelo de smartphone tipo i, onde i pertence ao conjunto {Lua1, Lua2}\n",
    "- Ht,i = Horas de teste necessárias para testar cada modelo de smartphone tipo i, onde i pertence ao conjunto {Lua1, Lua2}"
   ]
  },
  {
   "cell_type": "markdown",
   "metadata": {},
   "source": [
    "#### Variável objetivo\n",
    "- Xi = Número de smartphones modelo tipo i a produzir este mês, onde i pertence ao conjunto {Lua1, Lua2}"
   ]
  },
  {
   "cell_type": "markdown",
   "metadata": {},
   "source": [
    "#### Função objetivo\n",
    "LucroTotal = ∑(Xi * Bi) - ∑(Xi * Hm,i * Di) - ∑(Xi * Ht,i * Ei) - ∑(Xi * Ci)"
   ]
  },
  {
   "cell_type": "markdown",
   "metadata": {},
   "source": [
    "#### A função objetivo indica:\n",
    "LucroTotal = Faturamento - Custo para Produção(Montagem) - Custo para Produção(Teste) - Custo das Peças(Componentes)"
   ]
  },
  {
   "cell_type": "markdown",
   "metadata": {},
   "source": [
    "#### Restrições\n",
    "- O número de smartphones modelo tipo i a serem produzidos não pode ser negativo, ou seja, Xi >= 0, onde i pertence ao conjunto {Lua1, Lua2}.\n",
    "- O número total de horas de montagem não pode ser maior que o número máximo de horas de mão de obra de montagem disponíveis.\n",
    "- O número total de horas de teste não pode ser maior do que o máximo de horas de mão de obra de teste disponíveis.\n",
    "- O número de smartphones modelo tipo i a serem produzidos não pode ser maior do que o número máximo de smartphones modelo tipo i a serem vendidos neste mês, onde i pertence ao conjunto {Lua1, Lua2}."
   ]
  },
  {
   "cell_type": "markdown",
   "metadata": {},
   "source": [
    "### Instalando e Carregando os pacotes"
   ]
  },
  {
   "cell_type": "code",
   "execution_count": 1,
   "metadata": {},
   "outputs": [],
   "source": [
    "!pip install -q pulp"
   ]
  },
  {
   "cell_type": "code",
   "execution_count": 2,
   "metadata": {},
   "outputs": [],
   "source": [
    "# Imports \n",
    "# Pacote de modelagem para otimização linear\n",
    "from pulp import *"
   ]
  },
  {
   "cell_type": "markdown",
   "metadata": {},
   "source": [
    "### Implementando o modelo matemático"
   ]
  },
  {
   "cell_type": "code",
   "execution_count": 3,
   "metadata": {},
   "outputs": [],
   "source": [
    "# Número máximo de smartphones para vender este mês\n",
    "A_Lua1 = 600\n",
    "A_Lua2 = 1200"
   ]
  },
  {
   "cell_type": "code",
   "execution_count": 4,
   "metadata": {},
   "outputs": [],
   "source": [
    "# Preço de venda dos smartphones\n",
    "B_Lua1 = 300\n",
    "B_Lua2 = 450"
   ]
  },
  {
   "cell_type": "code",
   "execution_count": 5,
   "metadata": {},
   "outputs": [],
   "source": [
    "# Preço de custo dos smartphones\n",
    "C_Lua1 = 150\n",
    "C_Lua2 = 225"
   ]
  },
  {
   "cell_type": "code",
   "execution_count": 6,
   "metadata": {},
   "outputs": [],
   "source": [
    "# Valor da hora para montagem\n",
    "D_Lua1 = 11\n",
    "D_Lua2 = 11"
   ]
  },
  {
   "cell_type": "code",
   "execution_count": 7,
   "metadata": {},
   "outputs": [],
   "source": [
    "# Valor da hora para efetuar teste\n",
    "E_Lua1 = 15\n",
    "E_Lua2 = 15"
   ]
  },
  {
   "cell_type": "code",
   "execution_count": 8,
   "metadata": {},
   "outputs": [],
   "source": [
    "# Número máximo de horas para montagem \n",
    "F = 10000"
   ]
  },
  {
   "cell_type": "code",
   "execution_count": 9,
   "metadata": {},
   "outputs": [],
   "source": [
    "# Número máximo de horas para teste\n",
    "G = 3000"
   ]
  },
  {
   "cell_type": "code",
   "execution_count": 10,
   "metadata": {},
   "outputs": [],
   "source": [
    "# Horas de montagem necessárias para cada modelo de smartphone\n",
    "Hm_Lua1 = 5\n",
    "Hm_Lua2 = 6"
   ]
  },
  {
   "cell_type": "code",
   "execution_count": 11,
   "metadata": {},
   "outputs": [],
   "source": [
    "# Horas de teste necessárias para testar cada modelo de smartphone\n",
    "Ht_Lua1 = 1\n",
    "Ht_Lua2 = 2"
   ]
  },
  {
   "cell_type": "markdown",
   "metadata": {},
   "source": [
    "### Criação da Variável Para o Problema de Otimização"
   ]
  },
  {
   "cell_type": "code",
   "execution_count": 12,
   "metadata": {},
   "outputs": [
    {
     "data": {
      "text/plain": [
       "MixProdutos:\n",
       "MAXIMIZE\n",
       "None\n",
       "VARIABLES"
      ]
     },
     "execution_count": 12,
     "metadata": {},
     "output_type": "execute_result"
    }
   ],
   "source": [
    "# Variável para o problema\n",
    "problema = LpProblem(\"MixProdutos\", LpMaximize)\n",
    "problema"
   ]
  },
  {
   "cell_type": "code",
   "execution_count": 13,
   "metadata": {},
   "outputs": [
    {
     "name": "stdout",
     "output_type": "stream",
     "text": [
      "Help on class LpVariable in module pulp.pulp:\n",
      "\n",
      "class LpVariable(LpElement)\n",
      " |  LpVariable(name, lowBound=None, upBound=None, cat='Continuous', e=None)\n",
      " |  \n",
      " |  This class models an LP Variable with the specified associated parameters\n",
      " |  \n",
      " |  :param name: The name of the variable used in the output .lp file\n",
      " |  :param lowBound: The lower bound on this variable's range.\n",
      " |      Default is negative infinity\n",
      " |  :param upBound: The upper bound on this variable's range.\n",
      " |      Default is positive infinity\n",
      " |  :param cat: The category this variable is in, Integer, Binary or\n",
      " |      Continuous(default)\n",
      " |  :param e: Used for column based modelling: relates to the variable's\n",
      " |      existence in the objective function and constraints\n",
      " |  \n",
      " |  Method resolution order:\n",
      " |      LpVariable\n",
      " |      LpElement\n",
      " |      builtins.object\n",
      " |  \n",
      " |  Methods defined here:\n",
      " |  \n",
      " |  __init__(self, name, lowBound=None, upBound=None, cat='Continuous', e=None)\n",
      " |      Initialize self.  See help(type(self)) for accurate signature.\n",
      " |  \n",
      " |  __ne__(self, other)\n",
      " |      Return self!=value.\n",
      " |  \n",
      " |  addVariableToConstraints(self, e)\n",
      " |      adds a variable to the constraints indicated by\n",
      " |      the LpConstraintVars in e\n",
      " |  \n",
      " |  add_expression(self, e)\n",
      " |  \n",
      " |  asCplexLpAffineExpression(self, name, constant=1)\n",
      " |  \n",
      " |  asCplexLpVariable(self)\n",
      " |  \n",
      " |  bounds(self, low, up)\n",
      " |  \n",
      " |  fixValue(self)\n",
      " |      changes lower bound and upper bound to the initial value if exists.\n",
      " |      :return: None\n",
      " |  \n",
      " |  getLb(self)\n",
      " |  \n",
      " |  getUb(self)\n",
      " |  \n",
      " |  infeasibilityGap(self, mip=1)\n",
      " |  \n",
      " |  isBinary(self)\n",
      " |  \n",
      " |  isConstant(self)\n",
      " |  \n",
      " |  isFixed(self)\n",
      " |      :return: True if upBound and lowBound are the same\n",
      " |      :rtype: bool\n",
      " |  \n",
      " |  isFree(self)\n",
      " |  \n",
      " |  isInteger(self)\n",
      " |  \n",
      " |  isPositive(self)\n",
      " |  \n",
      " |  positive(self)\n",
      " |  \n",
      " |  round(self, epsInt=1e-05, eps=1e-07)\n",
      " |  \n",
      " |  roundedValue(self, eps=1e-05)\n",
      " |  \n",
      " |  setInitialValue(self, val, check=True)\n",
      " |      sets the initial value of the variable to `val`\n",
      " |      May be used for warmStart a solver, if supported by the solver\n",
      " |      \n",
      " |      :param float val: value to set to variable\n",
      " |      :param bool check: if True, we check if the value fits inside the variable bounds\n",
      " |      :return: True if the value was set\n",
      " |      :raises ValueError: if check=True and the value does not fit inside the bounds\n",
      " |  \n",
      " |  toDict(self)\n",
      " |      Exports a variable into a dictionary with its relevant information\n",
      " |      \n",
      " |      :return: a dictionary with the variable information\n",
      " |      :rtype: dict\n",
      " |  \n",
      " |  to_dict = toDict(self)\n",
      " |  \n",
      " |  unfixValue(self)\n",
      " |  \n",
      " |  valid(self, eps)\n",
      " |  \n",
      " |  value(self)\n",
      " |  \n",
      " |  valueOrDefault(self)\n",
      " |  \n",
      " |  ----------------------------------------------------------------------\n",
      " |  Class methods defined here:\n",
      " |  \n",
      " |  dict(name, indices, lowBound=None, upBound=None, cat='Continuous') from builtins.type\n",
      " |  \n",
      " |  dicts(name, indices=None, lowBound=None, upBound=None, cat='Continuous', indexStart=[], indexs=None) from builtins.type\n",
      " |      This function creates a dictionary of :py:class:`LpVariable` with the specified associated parameters.\n",
      " |      \n",
      " |      :param name: The prefix to the name of each LP variable created\n",
      " |      :param indices: A list of strings of the keys to the dictionary of LP\n",
      " |          variables, and the main part of the variable name itself\n",
      " |      :param lowBound: The lower bound on these variables' range. Default is\n",
      " |          negative infinity\n",
      " |      :param upBound: The upper bound on these variables' range. Default is\n",
      " |          positive infinity\n",
      " |      :param cat: The category these variables are in, Integer or\n",
      " |          Continuous(default)\n",
      " |      :param indexs: (deprecated) Replaced with `indices` parameter\n",
      " |      \n",
      " |      :return: A dictionary of :py:class:`LpVariable`\n",
      " |  \n",
      " |  fromDict(dj=None, varValue=None, **kwargs) from builtins.type\n",
      " |      Initializes a variable object from information that comes from a dictionary (kwargs)\n",
      " |      \n",
      " |      :param dj: shadow price of the variable\n",
      " |      :param float varValue: the value to set the variable\n",
      " |      :param kwargs: arguments to initialize the variable\n",
      " |      :return: a :py:class:`LpVariable`\n",
      " |      :rtype: :LpVariable\n",
      " |  \n",
      " |  from_dict = fromDict(dj=None, varValue=None, **kwargs) from builtins.type\n",
      " |      Initializes a variable object from information that comes from a dictionary (kwargs)\n",
      " |      \n",
      " |      :param dj: shadow price of the variable\n",
      " |      :param float varValue: the value to set the variable\n",
      " |      :param kwargs: arguments to initialize the variable\n",
      " |      :return: a :py:class:`LpVariable`\n",
      " |      :rtype: :LpVariable\n",
      " |  \n",
      " |  matrix(name, indices=None, lowBound=None, upBound=None, cat='Continuous', indexStart=[], indexs=None) from builtins.type\n",
      " |  \n",
      " |  ----------------------------------------------------------------------\n",
      " |  Methods inherited from LpElement:\n",
      " |  \n",
      " |  __add__(self, other)\n",
      " |  \n",
      " |  __bool__(self)\n",
      " |  \n",
      " |  __div__(self, other)\n",
      " |  \n",
      " |  __eq__(self, other)\n",
      " |      Return self==value.\n",
      " |  \n",
      " |  __ge__(self, other)\n",
      " |      Return self>=value.\n",
      " |  \n",
      " |  __hash__(self)\n",
      " |      Return hash(self).\n",
      " |  \n",
      " |  __le__(self, other)\n",
      " |      Return self<=value.\n",
      " |  \n",
      " |  __mul__(self, other)\n",
      " |  \n",
      " |  __neg__(self)\n",
      " |  \n",
      " |  __pos__(self)\n",
      " |  \n",
      " |  __radd__(self, other)\n",
      " |  \n",
      " |  __rdiv__(self, other)\n",
      " |  \n",
      " |  __repr__(self)\n",
      " |      Return repr(self).\n",
      " |  \n",
      " |  __rmul__(self, other)\n",
      " |  \n",
      " |  __rsub__(self, other)\n",
      " |  \n",
      " |  __str__(self)\n",
      " |      Return str(self).\n",
      " |  \n",
      " |  __sub__(self, other)\n",
      " |  \n",
      " |  getName(self)\n",
      " |  \n",
      " |  setName(self, name)\n",
      " |  \n",
      " |  ----------------------------------------------------------------------\n",
      " |  Data descriptors inherited from LpElement:\n",
      " |  \n",
      " |  __dict__\n",
      " |      dictionary for instance variables (if defined)\n",
      " |  \n",
      " |  __weakref__\n",
      " |      list of weak references to the object (if defined)\n",
      " |  \n",
      " |  name\n",
      " |  \n",
      " |  ----------------------------------------------------------------------\n",
      " |  Data and other attributes inherited from LpElement:\n",
      " |  \n",
      " |  expression = re.compile('[\\\\-\\\\+\\\\[\\\\]\\\\ \\\\->/]')\n",
      " |  \n",
      " |  illegal_chars = '-+[] ->/'\n",
      " |  \n",
      " |  trans = {32: 95, 43: 95, 45: 95, 47: 95, 62: 95, 91: 95, 93: 95}\n",
      "\n"
     ]
    }
   ],
   "source": [
    "help(LpVariable)"
   ]
  },
  {
   "cell_type": "code",
   "execution_count": 14,
   "metadata": {},
   "outputs": [],
   "source": [
    "# Define as variáveis\n",
    "x_Lua1 = LpVariable(\"Unidades Lua1\", 0, None, LpInteger)\n",
    "x_Lua2 = LpVariable(\"Unidades Lua2\", 0, None, LpInteger)"
   ]
  },
  {
   "cell_type": "code",
   "execution_count": 15,
   "metadata": {},
   "outputs": [
    {
     "name": "stdout",
     "output_type": "stream",
     "text": [
      "Unidades_Lua1\n",
      "Unidades_Lua2\n"
     ]
    }
   ],
   "source": [
    "print(x_Lua1)\n",
    "print(x_Lua2)"
   ]
  },
  {
   "cell_type": "markdown",
   "metadata": {},
   "source": [
    "### Implementação da função objetivo"
   ]
  },
  {
   "cell_type": "code",
   "execution_count": 16,
   "metadata": {},
   "outputs": [
    {
     "data": {
      "text/plain": [
       "300*Unidades_Lua1 + 450*Unidades_Lua2 + 0"
      ]
     },
     "execution_count": 16,
     "metadata": {},
     "output_type": "execute_result"
    }
   ],
   "source": [
    "# Faturamento\n",
    "faturamento = (x_Lua1 * B_Lua1) + (x_Lua2 * B_Lua2)\n",
    "faturamento"
   ]
  },
  {
   "cell_type": "code",
   "execution_count": 17,
   "metadata": {},
   "outputs": [
    {
     "data": {
      "text/plain": [
       "55*Unidades_Lua1 + 66*Unidades_Lua2 + 0"
      ]
     },
     "execution_count": 17,
     "metadata": {},
     "output_type": "execute_result"
    }
   ],
   "source": [
    "# Custo Montagem\n",
    "custo_montagem = (x_Lua1 * Hm_Lua1 * D_Lua1) + (x_Lua2 * Hm_Lua2 * D_Lua2)\n",
    "custo_montagem"
   ]
  },
  {
   "cell_type": "code",
   "execution_count": 18,
   "metadata": {},
   "outputs": [
    {
     "data": {
      "text/plain": [
       "15*Unidades_Lua1 + 30*Unidades_Lua2 + 0"
      ]
     },
     "execution_count": 18,
     "metadata": {},
     "output_type": "execute_result"
    }
   ],
   "source": [
    "# Custo testes\n",
    "custo_teste = (x_Lua1 * Ht_Lua1 * E_Lua1) + (x_Lua2 * Ht_Lua2 * E_Lua2)\n",
    "custo_teste"
   ]
  },
  {
   "cell_type": "code",
   "execution_count": 19,
   "metadata": {},
   "outputs": [
    {
     "data": {
      "text/plain": [
       "150*Unidades_Lua1 + 225*Unidades_Lua2 + 0"
      ]
     },
     "execution_count": 19,
     "metadata": {},
     "output_type": "execute_result"
    }
   ],
   "source": [
    "# Custo das peças\n",
    "custo_pecas = (x_Lua1 * C_Lua1) + (x_Lua2 * C_Lua2)\n",
    "custo_pecas"
   ]
  },
  {
   "cell_type": "code",
   "execution_count": 20,
   "metadata": {},
   "outputs": [
    {
     "data": {
      "text/plain": [
       "MixProdutos:\n",
       "MAXIMIZE\n",
       "80*Unidades_Lua1 + 129*Unidades_Lua2 + 0\n",
       "VARIABLES\n",
       "0 <= Unidades_Lua1 Integer\n",
       "0 <= Unidades_Lua2 Integer"
      ]
     },
     "execution_count": 20,
     "metadata": {},
     "output_type": "execute_result"
    }
   ],
   "source": [
    "# Substituindo as variáveis na função objetivo\n",
    "problema += faturamento - custo_montagem - custo_teste - custo_pecas\n",
    "problema"
   ]
  },
  {
   "cell_type": "markdown",
   "metadata": {},
   "source": [
    "### Restrições"
   ]
  },
  {
   "cell_type": "code",
   "execution_count": 21,
   "metadata": {},
   "outputs": [],
   "source": [
    "# O número máximo de horas de montagem disponíveis.\n",
    "problema += (x_Lua1 * Hm_Lua1) + (x_Lua2 * Hm_Lua2) <= F,\"Número Máximo de Horas de Montagem\""
   ]
  },
  {
   "cell_type": "code",
   "execution_count": 22,
   "metadata": {},
   "outputs": [],
   "source": [
    "# O número máximo de horas de teste disponíveis.\n",
    "problema += (x_Lua1 * Ht_Lua1) + (x_Lua2 * Ht_Lua2) <= G, \"Número Máximo de Horas de Teste\""
   ]
  },
  {
   "cell_type": "code",
   "execution_count": 23,
   "metadata": {},
   "outputs": [],
   "source": [
    "# Produção menor ou igual a demanda pelo modelo Lua1\n",
    "problema += x_Lua1 <= A_Lua1,\"Produção menor ou igual a demanda pelo modelo Lua1\""
   ]
  },
  {
   "cell_type": "code",
   "execution_count": 24,
   "metadata": {},
   "outputs": [],
   "source": [
    "# Produção menor ou igual a demanda pelo modelo Lua2\n",
    "problema += x_Lua2 <= A_Lua2,\"Produção menor ou igual a demanda pelo modelo Lua2\""
   ]
  },
  {
   "cell_type": "code",
   "execution_count": 25,
   "metadata": {},
   "outputs": [
    {
     "data": {
      "text/plain": [
       "MixProdutos:\n",
       "MAXIMIZE\n",
       "80*Unidades_Lua1 + 129*Unidades_Lua2 + 0\n",
       "SUBJECT TO\n",
       "Número_Máximo_de_Horas_de_Montagem: 5 Unidades_Lua1 + 6 Unidades_Lua2 <= 10000\n",
       "\n",
       "Número_Máximo_de_Horas_de_Teste: Unidades_Lua1 + 2 Unidades_Lua2 <= 3000\n",
       "\n",
       "Produção_menor_ou_igual_a_demanda_pelo_modelo_Lua1: Unidades_Lua1 <= 600\n",
       "\n",
       "Produção_menor_ou_igual_a_demanda_pelo_modelo_Lua2: Unidades_Lua2 <= 1200\n",
       "\n",
       "VARIABLES\n",
       "0 <= Unidades_Lua1 Integer\n",
       "0 <= Unidades_Lua2 Integer"
      ]
     },
     "execution_count": 25,
     "metadata": {},
     "output_type": "execute_result"
    }
   ],
   "source": [
    "# Problema final\n",
    "problema"
   ]
  },
  {
   "cell_type": "code",
   "execution_count": 26,
   "metadata": {},
   "outputs": [
    {
     "data": {
      "text/plain": [
       "1"
      ]
     },
     "execution_count": 26,
     "metadata": {},
     "output_type": "execute_result"
    }
   ],
   "source": [
    "### Resolvendo o problema de otimização\n",
    "problema.solve()"
   ]
  },
  {
   "cell_type": "code",
   "execution_count": 27,
   "metadata": {},
   "outputs": [
    {
     "name": "stdout",
     "output_type": "stream",
     "text": [
      "Lucro Maximizado:  199600.0\n"
     ]
    }
   ],
   "source": [
    "# Lucro Maximizado\n",
    "print(\"Lucro Maximizado: \", value(problema.objective))"
   ]
  },
  {
   "cell_type": "code",
   "execution_count": 28,
   "metadata": {},
   "outputs": [
    {
     "name": "stdout",
     "output_type": "stream",
     "text": [
      "Número de Unidades do Modelo 1 a Produzir:  560.0\n"
     ]
    }
   ],
   "source": [
    "# Número de Unidades para Produzir - Modelo 1\n",
    "print(\"Número de Unidades do Modelo 1 a Produzir: \", problema.variables()[0].varValue)"
   ]
  },
  {
   "cell_type": "code",
   "execution_count": 29,
   "metadata": {},
   "outputs": [
    {
     "name": "stdout",
     "output_type": "stream",
     "text": [
      "Número de Unidades do Modelo 2 a Produzir:  1200.0\n"
     ]
    }
   ],
   "source": [
    "# Número de Unidades para Produzir - Modelo 2\n",
    "print(\"Número de Unidades do Modelo 2 a Produzir: \", problema.variables()[1].varValue)"
   ]
  },
  {
   "cell_type": "markdown",
   "metadata": {},
   "source": [
    "### Conclusão\n",
    "A empresa Lua Smart Tech deve produzir 560 unidades do modelo Lua1 e 1200 unidades do modelo Lua2 para atingir o lucro máximo de R$199.600 ."
   ]
  },
  {
   "cell_type": "code",
   "execution_count": null,
   "metadata": {},
   "outputs": [],
   "source": []
  }
 ],
 "metadata": {
  "kernelspec": {
   "display_name": "Python 3",
   "language": "python",
   "name": "python3"
  },
  "language_info": {
   "codemirror_mode": {
    "name": "ipython",
    "version": 3
   },
   "file_extension": ".py",
   "mimetype": "text/x-python",
   "name": "python",
   "nbconvert_exporter": "python",
   "pygments_lexer": "ipython3",
   "version": "3.7.6"
  }
 },
 "nbformat": 4,
 "nbformat_minor": 4
}
