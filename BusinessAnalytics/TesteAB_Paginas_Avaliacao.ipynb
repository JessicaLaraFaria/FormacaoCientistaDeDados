{
 "cells": [
  {
   "cell_type": "markdown",
   "metadata": {},
   "source": [
    "## Análise : Páginas com Avaliações de Usuários Aumentam as Vendas de Produtos Online\n",
    "### Meta: Entender se as avaliações de usuários (reviews) fazem ou não diferença para o usuário efetuar uma compra no portal. Para isso efetuaremos o Teste A/B no conjunto de dados."
   ]
  },
  {
   "cell_type": "markdown",
   "metadata": {},
   "source": [
    "### Execução de 5 passos para analisar o Teste A/B:\n",
    "\n",
    "1. Configurar o experimento.\n",
    "\n",
    "2. Executar o teste de hipóteses e registrar a taxa de sucesso de cada grupo.\n",
    "\n",
    "3. Criar o Plot da distribuição da diferença entre as duas amostras.\n",
    "\n",
    "4. Calculando o poder estatístico.\n",
    "\n",
    "5. Avaliar como o tamanho das amostras afeta os Testes A/B."
   ]
  },
  {
   "cell_type": "markdown",
   "metadata": {},
   "source": [
    "### Dicionário:\n",
    "- Variante A(grupo controle): Mostra o número atual de comentários e avaliações de usuários\n",
    "- Variante B(grupo teste): Não mostra os comentários de usuários no site."
   ]
  },
  {
   "cell_type": "code",
   "execution_count": 1,
   "metadata": {},
   "outputs": [],
   "source": [
    "# Importação dos pacotes\n",
    "import pandas as pd\n",
    "import numpy as np\n",
    "import datetime \n",
    "import matplotlib\n",
    "import matplotlib.pyplot as plt\n",
    "import scipy.stats as scs\n",
    "\n",
    "# Formatação dos gráficos\n",
    "plt.style.use('fivethirtyeight')\n",
    "plt.figure(1, figsize = (15, 6))\n",
    "%matplotlib inline"
   ]
  },
  {
   "cell_type": "markdown",
   "metadata": {},
   "source": [
    "### Carregando os dados"
   ]
  },
  {
   "cell_type": "code",
   "execution_count": 2,
   "metadata": {},
   "outputs": [],
   "source": [
    "df_vendas = pd.read_csv(\"dados/dataset.csv\")"
   ]
  },
  {
   "cell_type": "code",
   "execution_count": 3,
   "metadata": {},
   "outputs": [
    {
     "data": {
      "text/html": [
       "<div>\n",
       "<style scoped>\n",
       "    .dataframe tbody tr th:only-of-type {\n",
       "        vertical-align: middle;\n",
       "    }\n",
       "\n",
       "    .dataframe tbody tr th {\n",
       "        vertical-align: top;\n",
       "    }\n",
       "\n",
       "    .dataframe thead th {\n",
       "        text-align: right;\n",
       "    }\n",
       "</style>\n",
       "<table border=\"1\" class=\"dataframe\">\n",
       "  <thead>\n",
       "    <tr style=\"text-align: right;\">\n",
       "      <th></th>\n",
       "      <th>id</th>\n",
       "      <th>variante</th>\n",
       "      <th>compra</th>\n",
       "      <th>data</th>\n",
       "    </tr>\n",
       "  </thead>\n",
       "  <tbody>\n",
       "    <tr>\n",
       "      <th>0</th>\n",
       "      <td>0x6f9421</td>\n",
       "      <td>A</td>\n",
       "      <td>False</td>\n",
       "      <td>2019-12-26</td>\n",
       "    </tr>\n",
       "    <tr>\n",
       "      <th>1</th>\n",
       "      <td>0x59d442</td>\n",
       "      <td>A</td>\n",
       "      <td>False</td>\n",
       "      <td>2019-08-16</td>\n",
       "    </tr>\n",
       "    <tr>\n",
       "      <th>2</th>\n",
       "      <td>0x6db8f8</td>\n",
       "      <td>A</td>\n",
       "      <td>True</td>\n",
       "      <td>2019-03-18</td>\n",
       "    </tr>\n",
       "    <tr>\n",
       "      <th>3</th>\n",
       "      <td>0x68245d</td>\n",
       "      <td>A</td>\n",
       "      <td>False</td>\n",
       "      <td>2019-02-13</td>\n",
       "    </tr>\n",
       "    <tr>\n",
       "      <th>4</th>\n",
       "      <td>0x28566e</td>\n",
       "      <td>A</td>\n",
       "      <td>False</td>\n",
       "      <td>2019-09-28</td>\n",
       "    </tr>\n",
       "  </tbody>\n",
       "</table>\n",
       "</div>"
      ],
      "text/plain": [
       "         id variante  compra        data\n",
       "0  0x6f9421        A   False  2019-12-26\n",
       "1  0x59d442        A   False  2019-08-16\n",
       "2  0x6db8f8        A    True  2019-03-18\n",
       "3  0x68245d        A   False  2019-02-13\n",
       "4  0x28566e        A   False  2019-09-28"
      ]
     },
     "execution_count": 3,
     "metadata": {},
     "output_type": "execute_result"
    }
   ],
   "source": [
    "df_vendas.head()"
   ]
  },
  {
   "cell_type": "code",
   "execution_count": 4,
   "metadata": {},
   "outputs": [
    {
     "data": {
      "text/html": [
       "<div>\n",
       "<style scoped>\n",
       "    .dataframe tbody tr th:only-of-type {\n",
       "        vertical-align: middle;\n",
       "    }\n",
       "\n",
       "    .dataframe tbody tr th {\n",
       "        vertical-align: top;\n",
       "    }\n",
       "\n",
       "    .dataframe thead th {\n",
       "        text-align: right;\n",
       "    }\n",
       "</style>\n",
       "<table border=\"1\" class=\"dataframe\">\n",
       "  <thead>\n",
       "    <tr style=\"text-align: right;\">\n",
       "      <th></th>\n",
       "      <th>id</th>\n",
       "      <th>variante</th>\n",
       "      <th>compra</th>\n",
       "      <th>data</th>\n",
       "    </tr>\n",
       "  </thead>\n",
       "  <tbody>\n",
       "    <tr>\n",
       "      <th>54995</th>\n",
       "      <td>0x451451</td>\n",
       "      <td>A</td>\n",
       "      <td>False</td>\n",
       "      <td>2019-06-19</td>\n",
       "    </tr>\n",
       "    <tr>\n",
       "      <th>54996</th>\n",
       "      <td>0x871d51</td>\n",
       "      <td>A</td>\n",
       "      <td>False</td>\n",
       "      <td>2019-03-22</td>\n",
       "    </tr>\n",
       "    <tr>\n",
       "      <th>54997</th>\n",
       "      <td>0x50d163</td>\n",
       "      <td>A</td>\n",
       "      <td>False</td>\n",
       "      <td>2019-02-10</td>\n",
       "    </tr>\n",
       "    <tr>\n",
       "      <th>54998</th>\n",
       "      <td>0x3544c4</td>\n",
       "      <td>B</td>\n",
       "      <td>False</td>\n",
       "      <td>2020-01-09</td>\n",
       "    </tr>\n",
       "    <tr>\n",
       "      <th>54999</th>\n",
       "      <td>0x983331</td>\n",
       "      <td>A</td>\n",
       "      <td>False</td>\n",
       "      <td>2019-09-05</td>\n",
       "    </tr>\n",
       "  </tbody>\n",
       "</table>\n",
       "</div>"
      ],
      "text/plain": [
       "             id variante  compra        data\n",
       "54995  0x451451        A   False  2019-06-19\n",
       "54996  0x871d51        A   False  2019-03-22\n",
       "54997  0x50d163        A   False  2019-02-10\n",
       "54998  0x3544c4        B   False  2020-01-09\n",
       "54999  0x983331        A   False  2019-09-05"
      ]
     },
     "execution_count": 4,
     "metadata": {},
     "output_type": "execute_result"
    }
   ],
   "source": [
    "df_vendas.tail()"
   ]
  },
  {
   "cell_type": "markdown",
   "metadata": {},
   "source": [
    "### Análise Exploratória"
   ]
  },
  {
   "cell_type": "code",
   "execution_count": 5,
   "metadata": {},
   "outputs": [
    {
     "data": {
      "text/plain": [
       "(55000, 4)"
      ]
     },
     "execution_count": 5,
     "metadata": {},
     "output_type": "execute_result"
    }
   ],
   "source": [
    "df_vendas.shape"
   ]
  },
  {
   "cell_type": "code",
   "execution_count": 6,
   "metadata": {},
   "outputs": [
    {
     "data": {
      "text/plain": [
       "id          object\n",
       "variante    object\n",
       "compra        bool\n",
       "data        object\n",
       "dtype: object"
      ]
     },
     "execution_count": 6,
     "metadata": {},
     "output_type": "execute_result"
    }
   ],
   "source": [
    "df_vendas.dtypes"
   ]
  },
  {
   "cell_type": "code",
   "execution_count": 7,
   "metadata": {},
   "outputs": [
    {
     "data": {
      "text/plain": [
       "'2019-01-01'"
      ]
     },
     "execution_count": 7,
     "metadata": {},
     "output_type": "execute_result"
    }
   ],
   "source": [
    "df_vendas['data'].min()"
   ]
  },
  {
   "cell_type": "code",
   "execution_count": 8,
   "metadata": {},
   "outputs": [
    {
     "data": {
      "text/plain": [
       "'2020-01-30'"
      ]
     },
     "execution_count": 8,
     "metadata": {},
     "output_type": "execute_result"
    }
   ],
   "source": [
    "df_vendas['data'].max()"
   ]
  },
  {
   "cell_type": "code",
   "execution_count": 9,
   "metadata": {},
   "outputs": [
    {
     "data": {
      "text/plain": [
       "id          0\n",
       "variante    0\n",
       "compra      0\n",
       "data        0\n",
       "dtype: int64"
      ]
     },
     "execution_count": 9,
     "metadata": {},
     "output_type": "execute_result"
    }
   ],
   "source": [
    "df_vendas.isnull().sum()"
   ]
  },
  {
   "cell_type": "code",
   "execution_count": 10,
   "metadata": {},
   "outputs": [
    {
     "data": {
      "text/plain": [
       "55000"
      ]
     },
     "execution_count": 10,
     "metadata": {},
     "output_type": "execute_result"
    }
   ],
   "source": [
    "# Verificando se tem ID duplicado\n",
    "df_vendas.id.value_counts().count()"
   ]
  },
  {
   "cell_type": "code",
   "execution_count": 11,
   "metadata": {},
   "outputs": [
    {
     "data": {
      "text/plain": [
       "False    46416\n",
       "True      8584\n",
       "Name: compra, dtype: int64"
      ]
     },
     "execution_count": 11,
     "metadata": {},
     "output_type": "execute_result"
    }
   ],
   "source": [
    "# Verifica quantidade de registros para cada opção da variável 'compra'\n",
    "df_vendas.compra.value_counts()"
   ]
  },
  {
   "cell_type": "code",
   "execution_count": 12,
   "metadata": {},
   "outputs": [
    {
     "data": {
      "text/plain": [
       "A    50000\n",
       "B     5000\n",
       "Name: variante, dtype: int64"
      ]
     },
     "execution_count": 12,
     "metadata": {},
     "output_type": "execute_result"
    }
   ],
   "source": [
    "# Proporção das variantes mostradas para os usuários\n",
    "df_vendas.variante.value_counts()"
   ]
  },
  {
   "cell_type": "code",
   "execution_count": 13,
   "metadata": {},
   "outputs": [
    {
     "data": {
      "text/plain": [
       "90.9090909090909"
      ]
     },
     "execution_count": 13,
     "metadata": {},
     "output_type": "execute_result"
    }
   ],
   "source": [
    "# Probabilidade de um usuário visualizar a variante A\n",
    "df_vendas[df_vendas.variante == 'A'].shape[0]/df_vendas.shape[0] * 100"
   ]
  },
  {
   "cell_type": "code",
   "execution_count": 14,
   "metadata": {},
   "outputs": [
    {
     "data": {
      "text/plain": [
       "9.090909090909092"
      ]
     },
     "execution_count": 14,
     "metadata": {},
     "output_type": "execute_result"
    }
   ],
   "source": [
    "# Probabilidade de um usuário visualizar a variante B\n",
    "df_vendas[df_vendas.variante == 'B'].shape[0]/df_vendas.shape[0] * 100"
   ]
  },
  {
   "cell_type": "code",
   "execution_count": 15,
   "metadata": {},
   "outputs": [
    {
     "data": {
      "text/plain": [
       "7603"
      ]
     },
     "execution_count": 15,
     "metadata": {},
     "output_type": "execute_result"
    }
   ],
   "source": [
    "# Total de compras realizadas quando a variante = A\n",
    "df_vendas[df_vendas.variante == 'A'].compra.sum()"
   ]
  },
  {
   "cell_type": "code",
   "execution_count": 16,
   "metadata": {},
   "outputs": [
    {
     "data": {
      "text/plain": [
       "981"
      ]
     },
     "execution_count": 16,
     "metadata": {},
     "output_type": "execute_result"
    }
   ],
   "source": [
    "# Total de compras realizadas quando a variante = B\n",
    "df_vendas[df_vendas.variante == 'B'].compra.sum()"
   ]
  },
  {
   "cell_type": "code",
   "execution_count": 17,
   "metadata": {},
   "outputs": [
    {
     "data": {
      "text/plain": [
       "0.15607272727272728"
      ]
     },
     "execution_count": 17,
     "metadata": {},
     "output_type": "execute_result"
    }
   ],
   "source": [
    "# Probabilidade de conversão independente da variante recebida\n",
    "df_vendas.compra.mean()"
   ]
  },
  {
   "cell_type": "code",
   "execution_count": 18,
   "metadata": {},
   "outputs": [
    {
     "data": {
      "text/plain": [
       "0.15206"
      ]
     },
     "execution_count": 18,
     "metadata": {},
     "output_type": "execute_result"
    }
   ],
   "source": [
    "# Probabilidade de conversão para usuário do grupo A\n",
    "df_vendas[df_vendas.variante == 'A'].compra.mean()"
   ]
  },
  {
   "cell_type": "code",
   "execution_count": 19,
   "metadata": {},
   "outputs": [
    {
     "data": {
      "text/plain": [
       "0.1962"
      ]
     },
     "execution_count": 19,
     "metadata": {},
     "output_type": "execute_result"
    }
   ],
   "source": [
    "# Probabilidade de conversão para usuário do grupo B\n",
    "df_vendas[df_vendas.variante == 'B'].compra.mean()"
   ]
  },
  {
   "cell_type": "markdown",
   "metadata": {},
   "source": [
    "A probabilidade de um usuário utilizar o grupo de teste é de 10% e a probabilidade de vendas do grupo de teste é de 19%. "
   ]
  },
  {
   "cell_type": "markdown",
   "metadata": {},
   "source": [
    "### Passo 1: Configurando o Experimento"
   ]
  },
  {
   "cell_type": "markdown",
   "metadata": {},
   "source": [
    "### Definindo as Hipóteses para o Teste A/B\n",
    "- Hipótese Nula: PB - PA = 0 (Lê-se: Probabilidade de B menos probabilidade de A é igual a zero. Essa hipótese diz que mostrar ou não as avaliações, não teve impacto no poder de compra do usuário)\n",
    "- Hipótese Alternativa: PB - PA > 0 (Lê-se: Probabilidade de B menos probabilidade de A é maior que zero. Essa hipótese diz que a variante B terá um efeito diferente da variante A, ou seja, há diferença se mostrar ou não as avaliações nas páginas)"
   ]
  },
  {
   "cell_type": "markdown",
   "metadata": {},
   "source": [
    "### Pré-Processamento dos Dados"
   ]
  },
  {
   "cell_type": "code",
   "execution_count": 20,
   "metadata": {},
   "outputs": [],
   "source": [
    "def extrai_data(x):\n",
    "    return x[:7]"
   ]
  },
  {
   "cell_type": "code",
   "execution_count": 21,
   "metadata": {},
   "outputs": [],
   "source": [
    "df_vendas['ano_mes'] = df_vendas['data'].apply(extrai_data)"
   ]
  },
  {
   "cell_type": "code",
   "execution_count": 22,
   "metadata": {},
   "outputs": [
    {
     "data": {
      "text/html": [
       "<div>\n",
       "<style scoped>\n",
       "    .dataframe tbody tr th:only-of-type {\n",
       "        vertical-align: middle;\n",
       "    }\n",
       "\n",
       "    .dataframe tbody tr th {\n",
       "        vertical-align: top;\n",
       "    }\n",
       "\n",
       "    .dataframe thead th {\n",
       "        text-align: right;\n",
       "    }\n",
       "</style>\n",
       "<table border=\"1\" class=\"dataframe\">\n",
       "  <thead>\n",
       "    <tr style=\"text-align: right;\">\n",
       "      <th></th>\n",
       "      <th>id</th>\n",
       "      <th>variante</th>\n",
       "      <th>compra</th>\n",
       "      <th>data</th>\n",
       "      <th>ano_mes</th>\n",
       "    </tr>\n",
       "  </thead>\n",
       "  <tbody>\n",
       "    <tr>\n",
       "      <th>0</th>\n",
       "      <td>0x6f9421</td>\n",
       "      <td>A</td>\n",
       "      <td>False</td>\n",
       "      <td>2019-12-26</td>\n",
       "      <td>2019-12</td>\n",
       "    </tr>\n",
       "    <tr>\n",
       "      <th>1</th>\n",
       "      <td>0x59d442</td>\n",
       "      <td>A</td>\n",
       "      <td>False</td>\n",
       "      <td>2019-08-16</td>\n",
       "      <td>2019-08</td>\n",
       "    </tr>\n",
       "    <tr>\n",
       "      <th>2</th>\n",
       "      <td>0x6db8f8</td>\n",
       "      <td>A</td>\n",
       "      <td>True</td>\n",
       "      <td>2019-03-18</td>\n",
       "      <td>2019-03</td>\n",
       "    </tr>\n",
       "    <tr>\n",
       "      <th>3</th>\n",
       "      <td>0x68245d</td>\n",
       "      <td>A</td>\n",
       "      <td>False</td>\n",
       "      <td>2019-02-13</td>\n",
       "      <td>2019-02</td>\n",
       "    </tr>\n",
       "    <tr>\n",
       "      <th>4</th>\n",
       "      <td>0x28566e</td>\n",
       "      <td>A</td>\n",
       "      <td>False</td>\n",
       "      <td>2019-09-28</td>\n",
       "      <td>2019-09</td>\n",
       "    </tr>\n",
       "  </tbody>\n",
       "</table>\n",
       "</div>"
      ],
      "text/plain": [
       "         id variante  compra        data  ano_mes\n",
       "0  0x6f9421        A   False  2019-12-26  2019-12\n",
       "1  0x59d442        A   False  2019-08-16  2019-08\n",
       "2  0x6db8f8        A    True  2019-03-18  2019-03\n",
       "3  0x68245d        A   False  2019-02-13  2019-02\n",
       "4  0x28566e        A   False  2019-09-28  2019-09"
      ]
     },
     "execution_count": 22,
     "metadata": {},
     "output_type": "execute_result"
    }
   ],
   "source": [
    "df_vendas.head()"
   ]
  },
  {
   "cell_type": "code",
   "execution_count": 23,
   "metadata": {},
   "outputs": [],
   "source": [
    "df_vendas_2020 = df_vendas[df_vendas['ano_mes'] == '2020-01']"
   ]
  },
  {
   "cell_type": "code",
   "execution_count": 24,
   "metadata": {},
   "outputs": [
    {
     "data": {
      "text/html": [
       "<div>\n",
       "<style scoped>\n",
       "    .dataframe tbody tr th:only-of-type {\n",
       "        vertical-align: middle;\n",
       "    }\n",
       "\n",
       "    .dataframe tbody tr th {\n",
       "        vertical-align: top;\n",
       "    }\n",
       "\n",
       "    .dataframe thead th {\n",
       "        text-align: right;\n",
       "    }\n",
       "</style>\n",
       "<table border=\"1\" class=\"dataframe\">\n",
       "  <thead>\n",
       "    <tr style=\"text-align: right;\">\n",
       "      <th></th>\n",
       "      <th>id</th>\n",
       "      <th>variante</th>\n",
       "      <th>compra</th>\n",
       "      <th>data</th>\n",
       "      <th>ano_mes</th>\n",
       "    </tr>\n",
       "  </thead>\n",
       "  <tbody>\n",
       "    <tr>\n",
       "      <th>5</th>\n",
       "      <td>0x792f1d</td>\n",
       "      <td>A</td>\n",
       "      <td>False</td>\n",
       "      <td>2020-01-14</td>\n",
       "      <td>2020-01</td>\n",
       "    </tr>\n",
       "    <tr>\n",
       "      <th>7</th>\n",
       "      <td>0x724b78</td>\n",
       "      <td>B</td>\n",
       "      <td>False</td>\n",
       "      <td>2020-01-23</td>\n",
       "      <td>2020-01</td>\n",
       "    </tr>\n",
       "    <tr>\n",
       "      <th>9</th>\n",
       "      <td>0x684bf9</td>\n",
       "      <td>A</td>\n",
       "      <td>False</td>\n",
       "      <td>2020-01-17</td>\n",
       "      <td>2020-01</td>\n",
       "    </tr>\n",
       "    <tr>\n",
       "      <th>10</th>\n",
       "      <td>0x6394dc</td>\n",
       "      <td>A</td>\n",
       "      <td>False</td>\n",
       "      <td>2020-01-06</td>\n",
       "      <td>2020-01</td>\n",
       "    </tr>\n",
       "    <tr>\n",
       "      <th>11</th>\n",
       "      <td>0x625f5d</td>\n",
       "      <td>A</td>\n",
       "      <td>False</td>\n",
       "      <td>2020-01-05</td>\n",
       "      <td>2020-01</td>\n",
       "    </tr>\n",
       "  </tbody>\n",
       "</table>\n",
       "</div>"
      ],
      "text/plain": [
       "          id variante  compra        data  ano_mes\n",
       "5   0x792f1d        A   False  2020-01-14  2020-01\n",
       "7   0x724b78        B   False  2020-01-23  2020-01\n",
       "9   0x684bf9        A   False  2020-01-17  2020-01\n",
       "10  0x6394dc        A   False  2020-01-06  2020-01\n",
       "11  0x625f5d        A   False  2020-01-05  2020-01"
      ]
     },
     "execution_count": 24,
     "metadata": {},
     "output_type": "execute_result"
    }
   ],
   "source": [
    "df_vendas_2020.head()"
   ]
  },
  {
   "cell_type": "code",
   "execution_count": 25,
   "metadata": {},
   "outputs": [
    {
     "data": {
      "text/plain": [
       "(8821, 5)"
      ]
     },
     "execution_count": 25,
     "metadata": {},
     "output_type": "execute_result"
    }
   ],
   "source": [
    "df_vendas_2020.shape"
   ]
  },
  {
   "cell_type": "markdown",
   "metadata": {},
   "source": [
    "### Criação do Baseline"
   ]
  },
  {
   "cell_type": "code",
   "execution_count": 26,
   "metadata": {},
   "outputs": [],
   "source": [
    "df_ab = df_vendas_2020[['variante', 'compra']]"
   ]
  },
  {
   "cell_type": "code",
   "execution_count": 27,
   "metadata": {},
   "outputs": [],
   "source": [
    "df_ab.columns = ['grupo', 'conversao']"
   ]
  },
  {
   "cell_type": "code",
   "execution_count": 28,
   "metadata": {},
   "outputs": [
    {
     "data": {
      "text/html": [
       "<div>\n",
       "<style scoped>\n",
       "    .dataframe tbody tr th:only-of-type {\n",
       "        vertical-align: middle;\n",
       "    }\n",
       "\n",
       "    .dataframe tbody tr th {\n",
       "        vertical-align: top;\n",
       "    }\n",
       "\n",
       "    .dataframe thead th {\n",
       "        text-align: right;\n",
       "    }\n",
       "</style>\n",
       "<table border=\"1\" class=\"dataframe\">\n",
       "  <thead>\n",
       "    <tr style=\"text-align: right;\">\n",
       "      <th></th>\n",
       "      <th>grupo</th>\n",
       "      <th>conversao</th>\n",
       "    </tr>\n",
       "  </thead>\n",
       "  <tbody>\n",
       "    <tr>\n",
       "      <th>5</th>\n",
       "      <td>A</td>\n",
       "      <td>False</td>\n",
       "    </tr>\n",
       "    <tr>\n",
       "      <th>7</th>\n",
       "      <td>B</td>\n",
       "      <td>False</td>\n",
       "    </tr>\n",
       "    <tr>\n",
       "      <th>9</th>\n",
       "      <td>A</td>\n",
       "      <td>False</td>\n",
       "    </tr>\n",
       "    <tr>\n",
       "      <th>10</th>\n",
       "      <td>A</td>\n",
       "      <td>False</td>\n",
       "    </tr>\n",
       "    <tr>\n",
       "      <th>11</th>\n",
       "      <td>A</td>\n",
       "      <td>False</td>\n",
       "    </tr>\n",
       "  </tbody>\n",
       "</table>\n",
       "</div>"
      ],
      "text/plain": [
       "   grupo  conversao\n",
       "5      A      False\n",
       "7      B      False\n",
       "9      A      False\n",
       "10     A      False\n",
       "11     A      False"
      ]
     },
     "execution_count": 28,
     "metadata": {},
     "output_type": "execute_result"
    }
   ],
   "source": [
    "df_ab.head()"
   ]
  },
  {
   "cell_type": "code",
   "execution_count": 29,
   "metadata": {},
   "outputs": [],
   "source": [
    "# Tabela pivot\n",
    "df_ab_sum = df_ab.pivot_table(values = 'conversao', index = 'grupo', aggfunc = np.sum)"
   ]
  },
  {
   "cell_type": "code",
   "execution_count": 30,
   "metadata": {},
   "outputs": [
    {
     "data": {
      "text/html": [
       "<div>\n",
       "<style scoped>\n",
       "    .dataframe tbody tr th:only-of-type {\n",
       "        vertical-align: middle;\n",
       "    }\n",
       "\n",
       "    .dataframe tbody tr th {\n",
       "        vertical-align: top;\n",
       "    }\n",
       "\n",
       "    .dataframe thead th {\n",
       "        text-align: right;\n",
       "    }\n",
       "</style>\n",
       "<table border=\"1\" class=\"dataframe\">\n",
       "  <thead>\n",
       "    <tr style=\"text-align: right;\">\n",
       "      <th></th>\n",
       "      <th>conversao</th>\n",
       "    </tr>\n",
       "    <tr>\n",
       "      <th>grupo</th>\n",
       "      <th></th>\n",
       "    </tr>\n",
       "  </thead>\n",
       "  <tbody>\n",
       "    <tr>\n",
       "      <th>A</th>\n",
       "      <td>587.0</td>\n",
       "    </tr>\n",
       "    <tr>\n",
       "      <th>B</th>\n",
       "      <td>981.0</td>\n",
       "    </tr>\n",
       "  </tbody>\n",
       "</table>\n",
       "</div>"
      ],
      "text/plain": [
       "       conversao\n",
       "grupo           \n",
       "A          587.0\n",
       "B          981.0"
      ]
     },
     "execution_count": 30,
     "metadata": {},
     "output_type": "execute_result"
    }
   ],
   "source": [
    "df_ab_sum.head()"
   ]
  },
  {
   "cell_type": "code",
   "execution_count": 31,
   "metadata": {},
   "outputs": [],
   "source": [
    "# Sumário com total\n",
    "df_ab_sum['total'] = df_ab.pivot_table(values = 'conversao', index = 'grupo', aggfunc = lambda x: len(x))"
   ]
  },
  {
   "cell_type": "code",
   "execution_count": 32,
   "metadata": {},
   "outputs": [],
   "source": [
    "# Sumário com taxa\n",
    "df_ab_sum['taxa'] = df_ab.pivot_table(values = 'conversao', index = 'grupo')"
   ]
  },
  {
   "cell_type": "code",
   "execution_count": 33,
   "metadata": {},
   "outputs": [
    {
     "data": {
      "text/html": [
       "<div>\n",
       "<style scoped>\n",
       "    .dataframe tbody tr th:only-of-type {\n",
       "        vertical-align: middle;\n",
       "    }\n",
       "\n",
       "    .dataframe tbody tr th {\n",
       "        vertical-align: top;\n",
       "    }\n",
       "\n",
       "    .dataframe thead th {\n",
       "        text-align: right;\n",
       "    }\n",
       "</style>\n",
       "<table border=\"1\" class=\"dataframe\">\n",
       "  <thead>\n",
       "    <tr style=\"text-align: right;\">\n",
       "      <th></th>\n",
       "      <th>conversao</th>\n",
       "      <th>total</th>\n",
       "      <th>taxa</th>\n",
       "    </tr>\n",
       "    <tr>\n",
       "      <th>grupo</th>\n",
       "      <th></th>\n",
       "      <th></th>\n",
       "      <th></th>\n",
       "    </tr>\n",
       "  </thead>\n",
       "  <tbody>\n",
       "    <tr>\n",
       "      <th>A</th>\n",
       "      <td>587.0</td>\n",
       "      <td>3821</td>\n",
       "      <td>0.153625</td>\n",
       "    </tr>\n",
       "    <tr>\n",
       "      <th>B</th>\n",
       "      <td>981.0</td>\n",
       "      <td>5000</td>\n",
       "      <td>0.196200</td>\n",
       "    </tr>\n",
       "  </tbody>\n",
       "</table>\n",
       "</div>"
      ],
      "text/plain": [
       "       conversao  total      taxa\n",
       "grupo                            \n",
       "A          587.0   3821  0.153625\n",
       "B          981.0   5000  0.196200"
      ]
     },
     "execution_count": 33,
     "metadata": {},
     "output_type": "execute_result"
    }
   ],
   "source": [
    "df_ab_sum.head()"
   ]
  },
  {
   "cell_type": "code",
   "execution_count": 34,
   "metadata": {},
   "outputs": [],
   "source": [
    "conversao_A = df_ab_sum['conversao'][0]\n",
    "total_A = df_ab_sum['total'][0]\n",
    "taxa_A = df_ab_sum['taxa'][0]\n",
    "\n",
    "conversao_B = df_ab_sum['conversao'][1]\n",
    "total_B = df_ab_sum['total'][1]\n",
    "taxa_B = df_ab_sum['taxa'][1]"
   ]
  },
  {
   "cell_type": "code",
   "execution_count": 35,
   "metadata": {},
   "outputs": [],
   "source": [
    "conversao_base = taxa_A"
   ]
  },
  {
   "cell_type": "code",
   "execution_count": 36,
   "metadata": {},
   "outputs": [
    {
     "data": {
      "text/plain": [
       "0.15362470557445695"
      ]
     },
     "execution_count": 36,
     "metadata": {},
     "output_type": "execute_result"
    }
   ],
   "source": [
    "conversao_base"
   ]
  },
  {
   "cell_type": "code",
   "execution_count": 37,
   "metadata": {},
   "outputs": [],
   "source": [
    "# Efeito mínimo detectável(nível de significância)\n",
    "efeito_min = taxa_B - taxa_A"
   ]
  },
  {
   "cell_type": "code",
   "execution_count": 38,
   "metadata": {},
   "outputs": [
    {
     "data": {
      "text/plain": [
       "0.04257529442554306"
      ]
     },
     "execution_count": 38,
     "metadata": {},
     "output_type": "execute_result"
    }
   ],
   "source": [
    "efeito_min"
   ]
  },
  {
   "cell_type": "markdown",
   "metadata": {},
   "source": [
    "### Passo 2: Execução do Teste de Hipótese\n",
    "\n",
    "- Alfa(Nível de significância): normalmente 5%; probabilidade de rejeitar a hipótese nula quando a hipótese nula for verdadeira\n",
    "\n",
    "- Beta: probabilidade de aceitar a hipótese nula quando a hipótese nula é realmente falsa.\n",
    "- p: probabilidade"
   ]
  },
  {
   "cell_type": "code",
   "execution_count": 39,
   "metadata": {},
   "outputs": [],
   "source": [
    "# Parâmetros que usaremos para executar o teste\n",
    "alfa = 0.05\n",
    "beta = 0.2"
   ]
  },
  {
   "cell_type": "code",
   "execution_count": 40,
   "metadata": {},
   "outputs": [],
   "source": [
    "# Tamanho da amostra\n",
    "n = 50000"
   ]
  },
  {
   "cell_type": "code",
   "execution_count": 41,
   "metadata": {},
   "outputs": [],
   "source": [
    "# Teste Binomial(usando padrão de 5% para nível de significância)\n",
    "teste_binom = scs.binom(n, p = conversao_base)"
   ]
  },
  {
   "cell_type": "code",
   "execution_count": 42,
   "metadata": {},
   "outputs": [],
   "source": [
    "# Teste binomial com efeito mínimo( nível de significância de 0.04)\n",
    "teste_binom_min = scs.binom(n, p = taxa_B)"
   ]
  },
  {
   "cell_type": "code",
   "execution_count": 43,
   "metadata": {},
   "outputs": [
    {
     "data": {
      "text/plain": [
       "<BarContainer object of 50001 artists>"
      ]
     },
     "execution_count": 43,
     "metadata": {},
     "output_type": "execute_result"
    },
    {
     "data": {
      "image/png": "[encoded data removed]",
      "text/plain": [
       "<Figure size 720x720 with 1 Axes>"
      ]
     },
     "metadata": {
      "needs_background": "light"
     },
     "output_type": "display_data"
    }
   ],
   "source": [
    "# probability mass function (pmf)\n",
    "# Plot\n",
    "\n",
    "# Área de plotagem\n",
    "fig, ax = plt.subplots(figsize=(10, 10))\n",
    "\n",
    "# Definição de valores para x\n",
    "x = np.linspace(0, int(n), int(n) + 1)\n",
    "\n",
    "# Resultados mostrados com a pmf e alfa de 0.5\n",
    "ax.bar(x, teste_binom.pmf(x), alpha = 0.5)\n",
    "ax.bar(x, teste_binom_min.pmf(x), alpha = 0.5)"
   ]
  },
  {
   "cell_type": "markdown",
   "metadata": {},
   "source": [
    "Observação do gráfico: a variante B (representada pela linha vermelha) apresentou um maior número de conversão do que a variante A (representada pela linha azul), porém o pico da variante A indica que tem uma maior probabilidade para conversão."
   ]
  },
  {
   "cell_type": "markdown",
   "metadata": {},
   "source": [
    "### Passo 3: Plot da Distribuição"
   ]
  },
  {
   "cell_type": "code",
   "execution_count": 44,
   "metadata": {},
   "outputs": [
    {
     "data": {
      "text/plain": [
       "Text(0, 0.5, 'Probabilidade')"
      ]
     },
     "execution_count": 44,
     "metadata": {},
     "output_type": "execute_result"
    },
    {
     "data": {
      "image/png": "[encoded data removed]",
      "text/plain": [
       "<Figure size 1008x432 with 1 Axes>"
      ]
     },
     "metadata": {
      "needs_background": "light"
     },
     "output_type": "display_data"
    }
   ],
   "source": [
    "# Gráfico para comparar os dois grupos traçando a distribuição do grupo de controle(variante A) e calculando a probabilidade \n",
    "# de obter o resultado de nosso grupo de teste(variante B).\n",
    "\n",
    "# Plot da distribuição da variante A\n",
    "\n",
    "# Area de plotagem\n",
    "fig, ax= plt.subplots(figsize = (14, 6))\n",
    "\n",
    "# Teste de A\n",
    "x = np.linspace(conversao_A - 49, conversao_A + 50, 100)\n",
    "y = scs.binom(total_A, taxa_A).pmf(x)\n",
    "\n",
    "# Cria barra vertical\n",
    "ax.bar(x,y, alpha = 0.5)\n",
    "ax.axvline(x = taxa_B * total_A, c= 'magenta', alpha = 0.75, linestyle = '--')\n",
    "\n",
    "# Labels\n",
    "plt.xlabel('Conversão')\n",
    "plt.ylabel('Probabilidade')"
   ]
  },
  {
   "cell_type": "markdown",
   "metadata": {},
   "source": [
    "Observação do gráfico: Caso o total de usuários do grupo A fossem submetidos a taxa do grupo B, a conversão teria sido maior, em aproximadamente 750 vendas para aquele mês."
   ]
  },
  {
   "cell_type": "code",
   "execution_count": 45,
   "metadata": {},
   "outputs": [
    {
     "data": {
      "text/plain": [
       "Text(0, 0.5, 'Probabilidade')"
      ]
     },
     "execution_count": 45,
     "metadata": {},
     "output_type": "execute_result"
    },
    {
     "data": {
      "image/png": "[encoded data removed]",
      "text/plain": [
       "<Figure size 1008x432 with 1 Axes>"
      ]
     },
     "metadata": {
      "needs_background": "light"
     },
     "output_type": "display_data"
    }
   ],
   "source": [
    "# Plot da distribuição das 2 variantes\n",
    "\n",
    "# Área de plotagem \n",
    "fig, ax = plt.subplots(figsize = (14,6))\n",
    "\n",
    "# Gráfico de A\n",
    "xA = np.linspace(conversao_A - 49, conversao_A + 50, 100)\n",
    "yA = scs.binom(total_A, taxa_A).pmf(xA)\n",
    "ax.bar(xA, yA, alpha = 0.5)\n",
    "\n",
    "# Gráfico de B\n",
    "xB = np.linspace(conversao_B - 49, conversao_B + 50, 100)\n",
    "yB = scs.binom(total_B, taxa_B).pmf(xB)\n",
    "ax.bar(xB, yB, alpha = 0.5)\n",
    "\n",
    "# Labels\n",
    "plt.xlabel('Conversão')\n",
    "plt.ylabel('Probabilidade')"
   ]
  },
  {
   "cell_type": "markdown",
   "metadata": {},
   "source": [
    "Para fazer a comparação dos dois grupos, será utilizado a taxa de converção e assim contruir as distribuições de \n",
    "probabilidade. Será necessario padronizar os dados para comparar a probabilidade de sucesso, p para cada grupo"
   ]
  },
  {
   "cell_type": "code",
   "execution_count": 46,
   "metadata": {},
   "outputs": [],
   "source": [
    "# Probabilidade(taxas de conversão)\n",
    "p_A = taxa_A\n",
    "p_B = taxa_B\n",
    "\n",
    "# Número de acessos\n",
    "n_A = 3821\n",
    "n_B = 5000"
   ]
  },
  {
   "cell_type": "code",
   "execution_count": 47,
   "metadata": {},
   "outputs": [],
   "source": [
    "# Erro padrão(standard error) para a média de ambos os grupos\n",
    "SE_A = np.sqrt(p_A * (1 - p_A)) / np.sqrt(total_A)\n",
    "SE_B = np.sqrt(p_B * (1 - p_B)) / np.sqrt(total_B)"
   ]
  },
  {
   "cell_type": "code",
   "execution_count": 48,
   "metadata": {},
   "outputs": [
    {
     "name": "stdout",
     "output_type": "stream",
     "text": [
      "0.005833423432971666\n",
      "0.0056161474339621814\n"
     ]
    }
   ],
   "source": [
    "print(SE_A)\n",
    "print(SE_B)"
   ]
  },
  {
   "cell_type": "code",
   "execution_count": 49,
   "metadata": {},
   "outputs": [
    {
     "data": {
      "text/plain": [
       "Text(0, 0.5, 'PDF - Probabilidade de densidade')"
      ]
     },
     "execution_count": 49,
     "metadata": {},
     "output_type": "execute_result"
    },
    {
     "data": {
      "image/png": "[encoded data removed]",
      "text/plain": [
       "<Figure size 1008x432 with 1 Axes>"
      ]
     },
     "metadata": {
      "needs_background": "light"
     },
     "output_type": "display_data"
    }
   ],
   "source": [
    "# Plot das distribuições das hipóteses nula e alternativa\n",
    "\n",
    "# Area de plotagem\n",
    "fig, ax = plt.subplots(figsize = (14,6))\n",
    "\n",
    "# Dados para a variável aleatória\n",
    "x = np.linspace(0, p_B - p_A, 100)\n",
    "\n",
    "# Distribuição de A\n",
    "yA = scs.norm(p_A, SE_A).pdf(x)\n",
    "ax.plot(xA, yA)\n",
    "ax.axvline(x = p_A, c = 'blue', alpha = 0.5, linestyle = '--')\n",
    "\n",
    "# Distribuição de B\n",
    "yB = scs.norm(p_B, SE_B).pdf(x)\n",
    "ax.plot(xB, yB)\n",
    "ax.axvline(x = p_B, c = 'red', alpha = 0.5, linestyle = '--')\n",
    "\n",
    "#Labels\n",
    "plt.xlabel('Proporção de Conversão')\n",
    "plt.ylabel('PDF - Probabilidade de densidade')"
   ]
  },
  {
   "cell_type": "markdown",
   "metadata": {},
   "source": [
    "Observação do gráfico: As linhas contínuas representam a taxa de conversão média para cada grupo. A distância entre a linha azul e a linha vermelha é igual à diferença média entre o grupo de A e B. "
   ]
  },
  {
   "cell_type": "markdown",
   "metadata": {},
   "source": [
    "### Verificando a Hipótese Nula e a Hipótese Alternativa\n",
    "obs: A hipótese nula afirma que a diferença de probabilidade entre os dois grupos é zero. Portanto, a média para essa distribuição normal será zero. A outra propriedade de que precisaremos para a distribuição normal é o desvio padrão ou a variância."
   ]
  },
  {
   "cell_type": "markdown",
   "metadata": {},
   "source": [
    "- A hipótese nula será uma distribuição normal com uma média de zero e um desvio padrão igual ao erro padrão agrupado.\n",
    "- A hipótese alternativa tem o mesmo desvio padrão que a hipótese nula, mas a média estará localizada na diferença na taxa de conversão, d_hat. Isso faz sentido porque podemos calcular a diferença nas taxas de conversão diretamente dos dados, mas a distribuição normal representa possíveis valores que nosso experimento poderia ter nos dado.\n"
   ]
  },
  {
   "cell_type": "code",
   "execution_count": 50,
   "metadata": {},
   "outputs": [],
   "source": [
    "# Calcula a probabilidade agrupada\n",
    "prob_agrupada = (p_A * n_A + p_B * n_B) / (n_A + n_B)"
   ]
  },
  {
   "cell_type": "code",
   "execution_count": 51,
   "metadata": {},
   "outputs": [
    {
     "data": {
      "text/plain": [
       "5.1827257006909795"
      ]
     },
     "execution_count": 51,
     "metadata": {},
     "output_type": "execute_result"
    }
   ],
   "source": [
    "# Calculando z\n",
    "z = (p_B - p_A)/ (prob_agrupada * (1 - prob_agrupada) * (1/n_A + 1 / n_B))**0.5\n",
    "z"
   ]
  },
  {
   "cell_type": "code",
   "execution_count": 52,
   "metadata": {},
   "outputs": [
    {
     "data": {
      "text/plain": [
       "True"
      ]
     },
     "execution_count": 52,
     "metadata": {},
     "output_type": "execute_result"
    }
   ],
   "source": [
    "# Verificando se z é maior que 1.64(nível de significância de 0.05)\n",
    "z > 1.64"
   ]
  },
  {
   "cell_type": "markdown",
   "metadata": {},
   "source": [
    "### Plot da Distribuição da Probabilidade\n",
    "será criado por série de funções auxiliares "
   ]
  },
  {
   "cell_type": "code",
   "execution_count": 53,
   "metadata": {},
   "outputs": [],
   "source": [
    "# Função que retona a probabilidade agrupada para 2 amostras\n",
    "def prob_agrupada_func(n_A, n_B, X_A, X_B):\n",
    "    return( X_A + X_B)/ (n_A +n_B)"
   ]
  },
  {
   "cell_type": "code",
   "execution_count": 54,
   "metadata": {},
   "outputs": [],
   "source": [
    "# Função que retorna o erro padrão agrupado para 2 amostras\n",
    "def erro_padrao_agrupado_func(n_A, n_B, X_A, X_B):\n",
    "    p_hat = prob_agrupada_func(n_A, n_B, X_A, X_B)\n",
    "    SE = np.sqrt(p_hat * (1- p_hat) * (1/ n_A + 1/ n_B))\n",
    "    return SE"
   ]
  },
  {
   "cell_type": "code",
   "execution_count": 55,
   "metadata": {},
   "outputs": [],
   "source": [
    "# Função que retorna o valor de z para determinado nível de significância\n",
    "def z_val(sig_level = 0.05, two_tailed = True):\n",
    "    \n",
    "    # Gera distribuição para o valor z\n",
    "    z_dist = scs.norm()\n",
    "    \n",
    "    # Verifica se devemos checar as duas caudas\n",
    "    if two_tailed:\n",
    "        sig_level = sig_level/2\n",
    "        area = 1- sig_level\n",
    "    else:\n",
    "        area = 1- sig_level\n",
    "        \n",
    "    # Valor de z\n",
    "    z = z_dist.ppf(area)\n",
    "    \n",
    "    return z"
   ]
  },
  {
   "cell_type": "code",
   "execution_count": 56,
   "metadata": {},
   "outputs": [],
   "source": [
    "# Calcula o intervalo de confiança\n",
    "def int_confianca(sample_mean = 0, sample_std = 1, sample_size = 1, sig_level = 0.05):\n",
    "    \n",
    "    # Calcula o valor de z\n",
    "    z = z_val(sig_level)\n",
    "    \n",
    "    # Limites à esquerda e direita\n",
    "    left = sample_mean - z * sample_std / np.sqrt(sample_size)\n",
    "    right = sample_mean + z * sample_std / np.sqrt(sample_size)\n",
    "    \n",
    "    return(left, right)"
   ]
  },
  {
   "cell_type": "code",
   "execution_count": 57,
   "metadata": {},
   "outputs": [],
   "source": [
    "# Função que calcula o intervalo de confiança de duas caldas\n",
    "def plot_IC(ax, mu, s, sig_level = 0.05, color = 'grey'):\n",
    "    \n",
    "    # Calcula o intervalo de confiança\n",
    "    left, right = int_confianca(sample_mean = mu, sample_std = s, sig_level = sig_level)\n",
    "    \n",
    "    # Inclui o intervalo no gráfico\n",
    "    ax.axvline(left, c= color, linestyle = '--', alpha = 0.5)\n",
    "    ax.axvline(right, c = color, linestyle = '--', alpha = 0.5)"
   ]
  },
  {
   "cell_type": "code",
   "execution_count": 58,
   "metadata": {},
   "outputs": [],
   "source": [
    "# Função para o plot de uma distribuição normal\n",
    "def plot_dist_normal(ax, mu, std, with_IC = False, sig_level = 0.05, label = None):\n",
    "    \n",
    "    # Gera valores para a variável aleatória x\n",
    "    x = np.linspace(mu -12 * std, mu + 12 * std, 1000)\n",
    "    \n",
    "    # Cria a distribuição normal\n",
    "    y = scs.norm(mu, std).pdf(x)\n",
    "    \n",
    "    # Plot\n",
    "    ax.plot(x, y, label = label)\n",
    "    \n",
    "    # Se tivermos intervalo de confiança, incluímos no plot\n",
    "    if with_IC:\n",
    "        plot_IC(ax, mu, std, sig_level = sig_level)"
   ]
  },
  {
   "cell_type": "markdown",
   "metadata": {},
   "source": [
    "Função para o plot da distribuição de hipótese nula onde, se não houver mudança real, a distribuição das diferenças entre os grupos de teste e controle será normalmente distribuída."
   ]
  },
  {
   "cell_type": "code",
   "execution_count": 59,
   "metadata": {},
   "outputs": [],
   "source": [
    "# Função para o plot da distribuição da H0\n",
    "def plot_H0(ax, stderr):\n",
    "    plot_dist_normal(ax, 0, stderr, label = 'H0 - Hipótese Nula')\n",
    "    plot_IC(ax, mu =0, s= stderr, sig_level = 0.05)"
   ]
  },
  {
   "cell_type": "markdown",
   "metadata": {},
   "source": [
    "Função para o plot da distribuição de hipótese alternativa onde, se houver uma mudança real, a distribuição das diferenças \n",
    "entre o teste e os grupos de controle será normalmente distribuída e centralizada em torno de d_hat"
   ]
  },
  {
   "cell_type": "code",
   "execution_count": 60,
   "metadata": {},
   "outputs": [],
   "source": [
    "# Função para o plot da distribuição da H1\n",
    "def plot_H1(ax, stderr, d_hat):\n",
    "    plot_dist_normal(ax, d_hat, stderr, label = \"H1 - Hipótese Alternativa\")"
   ]
  },
  {
   "cell_type": "code",
   "execution_count": 61,
   "metadata": {},
   "outputs": [],
   "source": [
    "# Função que preenche entre o limite de significância superior e a distribuição para hipótese alternativa\n",
    "def show_area(ax, d_hat, stderr, sig_level):\n",
    "    \n",
    "    # Intervalo de confiança\n",
    "    left, right = int_confianca(sample_mean = 0, sample_std = stderr, sig_level = sig_level)\n",
    "    \n",
    "    # Valores para x\n",
    "    x = np.linspace(-12 * stderr, 12 * stderr, 1000)\n",
    "    \n",
    "    # H0\n",
    "    null = ab_dist(stderr, 'controle')\n",
    "    \n",
    "    # H1\n",
    "    alternative = ab_dist(stderr, d_hat, 'teste')\n",
    "    \n",
    "    # Se o tipo de área for igual a power\n",
    "    # Será preenchido entre o limite de significância superior e a distribuição para hipótese alternativa\n",
    "    ax.fill_between(x, 0, alternative.pdf(x), color = 'green', alpha = 0.25, where = (x > right))\n",
    "    ax.text(-3 * stderr, null.pdf(0), 'power = {0:.3f}'.format( 1- alternative.cdf(right)), \n",
    "            fontsize = 12, ha = 'right', color = 'k')"
   ]
  },
  {
   "cell_type": "code",
   "execution_count": 62,
   "metadata": {},
   "outputs": [],
   "source": [
    "# Função que retorna um objeto de distribuição dependente do tipo de grupo\n",
    "def ab_dist(stderr, d_hat = 0, group_type = 'controle'):\n",
    "    \n",
    "    # Verifica o tipo de grupo\n",
    "    if group_type == 'controle':\n",
    "        sample_mean = 0\n",
    "    elif group_type == 'teste':\n",
    "        sample_mean = d_hat\n",
    "        \n",
    "    # Cria uma distribuição normal que depende da média e do desvio padrão\n",
    "    dist = scs.norm(sample_mean, stderr)\n",
    "    return dist"
   ]
  },
  {
   "cell_type": "code",
   "execution_count": 63,
   "metadata": {},
   "outputs": [],
   "source": [
    "# Função que retorna o valor p\n",
    "def p_val(n_A, n_B, p_A, p_B):\n",
    "    return scs.binom(n_A, p_A).pmf(p_B * n_B)"
   ]
  },
  {
   "cell_type": "code",
   "execution_count": 64,
   "metadata": {},
   "outputs": [],
   "source": [
    "# Função para o plot da análise do Teste A/B\n",
    "def abplot_func(n_A, n_B, bcr, d_hat, sig_level = 0.05, show_p_value = False, show_legend = True):\n",
    "    \n",
    "    # Define a área de plotagem\n",
    "    fig, ax = plt.subplots(figsize = (14,8))\n",
    "    \n",
    "    # Define parâmetros para encontrar o erro padrão agrupado\n",
    "    X_A = bcr * n_A\n",
    "    X_B = (bcr + d_hat) * n_B\n",
    "    stderr = erro_padrao_agrupado_func(n_A, n_B, X_A, X_B)\n",
    "    \n",
    "    # Plot da distribuição da hipótese nula e alternativa\n",
    "    plot_H0(ax, stderr)\n",
    "    plot_H1(ax, stderr, d_hat)\n",
    "    \n",
    "    # Definir a extensão da área do plot\n",
    "    ax.set_xlim( -8 * stderr, 8 * stderr)\n",
    "    \n",
    "    # Ajusta o gráfico e preenche a área interior\n",
    "    show_area(ax, d_hat, stderr, sig_level)\n",
    "    \n",
    "    #Mostra valores_p com base nas disitrbuições para os dois grupos\n",
    "    if show_p_value:\n",
    "        null = ab_dist(stderr, 'controle')\n",
    "        p_value = p_val(n_A, n_B, bcr, bcr + d_hat)\n",
    "        ax.text(3 * stderr, null.pdf(0), 'Valor-p= {0:4f}'.format(p_value), fontsize = 14, ha = 'left')\n",
    "        \n",
    "    # Mostra a legenda\n",
    "    if show_legend:\n",
    "        plt.legend()\n",
    "        \n",
    "    plt.xlabel('d')\n",
    "    plt.ylabel('PDF')\n",
    "    plt.show()"
   ]
  },
  {
   "cell_type": "code",
   "execution_count": 65,
   "metadata": {},
   "outputs": [
    {
     "data": {
      "image/png": "[encoded data removed]",
      "text/plain": [
       "<Figure size 1008x576 with 1 Axes>"
      ]
     },
     "metadata": {
      "needs_background": "light"
     },
     "output_type": "display_data"
    }
   ],
   "source": [
    "# Definir parâmetros e executar a função\n",
    "n = n_A + n_B\n",
    "conversao_base = p_A\n",
    "d_hat = p_B - p_A\n",
    "abplot_func(n_A, n_B, conversao_base, d_hat, show_p_value = True)"
   ]
  },
  {
   "cell_type": "markdown",
   "metadata": {},
   "source": [
    "Observação do gráfico: Linha azul representa a distribuição normal para H0 e a linha vermelha, H1. Como as duas curvas têm formato idêntico, podemos comparar a distância entre as médias das duas distribuições.Podemos ver que a curva de hipótese alternativa sugere que o grupo de teste tem uma taxa de conversão maior do que o grupo de controle. Rejeitamos, portanto, a H0.\n",
    "Este gráfico também pode ser usado para determinar diretamente o poder estatístico. O 'power' indicou 99% de certeza de que se removermos as avaliações da página, a conversão será maior.\n"
   ]
  },
  {
   "cell_type": "markdown",
   "metadata": {},
   "source": [
    "### Passo 4: Calculando o poder estatístico"
   ]
  },
  {
   "cell_type": "markdown",
   "metadata": {},
   "source": [
    "O poder estatítico é o grau de certeza sobre o resultado. A área sombreada em verde representa o poder estatístico e o valor calculado para o poder também é exibido no gráfico. As linhas tracejadas em cinza no gráfico acima representam o intervalo de confiança (95% para o gráfico acima) para a hipótese nula. O poder estatístico é calculado encontrando a área sob a distribuição de hipótese alternativa e fora do intervalo de confiança da hipótese nula."
   ]
  },
  {
   "cell_type": "markdown",
   "metadata": {},
   "source": [
    "### Passo 5: Avaliar como o tamanho das amostras afeta os Testes A/B"
   ]
  },
  {
   "cell_type": "markdown",
   "metadata": {},
   "source": [
    "Os experimentos são normalmente configurados para uma potência mínima desejada de 80%. Sabe-se que, se aumentarmos o tamanho da amostra para cada grupo, diminuiremos a variância combinada para nossa hipótese nula e alternativa e assim aumenta o poder estatístico."
   ]
  },
  {
   "cell_type": "markdown",
   "metadata": {},
   "source": [
    "O tamanho da amostra está diretamente relacionado à rapidez com que podemos concluir os experimentos e fornecer resultados estatisticamente significativos. "
   ]
  },
  {
   "cell_type": "code",
   "execution_count": 66,
   "metadata": {},
   "outputs": [
    {
     "name": "stdout",
     "output_type": "stream",
     "text": [
      "0.8416212335729143\n",
      "1.6448536269514722\n"
     ]
    }
   ],
   "source": [
    "# Calculamos os valores de z alfa e beta\n",
    "sig_level = 0.05\n",
    "beta = 0.2\n",
    "k = n_A/n_B\n",
    "standard_norm = scs.norm(0, 1)\n",
    "Z_beta = standard_norm.ppf(1-beta)\n",
    "Z_alpha = standard_norm.ppf(1-sig_level)\n",
    "print(Z_beta)\n",
    "print(Z_alpha)"
   ]
  },
  {
   "cell_type": "code",
   "execution_count": 67,
   "metadata": {},
   "outputs": [],
   "source": [
    "# Função para encontrar o tamanho mínimo da amostra\n",
    "def calcula_tamanho_min_amostra(n_A, \n",
    "                                n_B, \n",
    "                                p_A, \n",
    "                                p_B, \n",
    "                                power = 0.8, \n",
    "                                sig_level = 0.05, \n",
    "                                two_sided = False):\n",
    "   \n",
    "    k = n_A/n_B\n",
    "    \n",
    "    # Distribuição normal para determinar os valores z\n",
    "    standard_norm = scs.norm(0, 1)\n",
    "\n",
    "    # Valor de z para o poder estatístico\n",
    "    Z_beta = standard_norm.ppf(power)\n",
    "    \n",
    "    # Encontrar z alfa\n",
    "    if two_sided == True:\n",
    "        Z_alpha = standard_norm.ppf(1-sig_level/2)\n",
    "    else:\n",
    "        Z_alpha = standard_norm.ppf(1-sig_level)\n",
    "\n",
    "    # Probabilidade agrupada\n",
    "    pooled_prob = (p_A + p_B) / 2\n",
    "\n",
    "    # Tamanho mínimo da amostra\n",
    "    min_N = (2 * pooled_prob * (1 - pooled_prob) * (Z_beta + Z_alpha)**2 / efeito_min**2)    \n",
    "\n",
    "    return min_N"
   ]
  },
  {
   "cell_type": "code",
   "execution_count": 68,
   "metadata": {},
   "outputs": [
    {
     "data": {
      "text/plain": [
       "1249.8068972849476"
      ]
     },
     "execution_count": 68,
     "metadata": {},
     "output_type": "execute_result"
    }
   ],
   "source": [
    "# Tamanho mínimo da amostra com two_sided = True\n",
    "calcula_tamanho_min_amostra(n_A, n_B, p_A, p_B, power = 0.8, sig_level = 0.05, two_sided = True)"
   ]
  },
  {
   "cell_type": "code",
   "execution_count": 69,
   "metadata": {},
   "outputs": [
    {
     "data": {
      "text/plain": [
       "984.4720435225323"
      ]
     },
     "execution_count": 69,
     "metadata": {},
     "output_type": "execute_result"
    }
   ],
   "source": [
    "# Tamanho mínimo da amostra com two_sided = False\n",
    "calcula_tamanho_min_amostra(n_A, n_B, p_A, p_B, power = 0.8, sig_level = 0.05, two_sided = False)"
   ]
  },
  {
   "cell_type": "code",
   "execution_count": 70,
   "metadata": {},
   "outputs": [
    {
     "data": {
      "text/plain": [
       "984.4720435225323"
      ]
     },
     "execution_count": 70,
     "metadata": {},
     "output_type": "execute_result"
    }
   ],
   "source": [
    "# Tamanho mínimo da amostra considerando a baseline\n",
    "conversao_base + efeito_min\n",
    "\n",
    "# Calcula a probabilidade agrupada\n",
    "probabilidade_agrupada = (conversao_base + conversao_base + efeito_min)/ 2\n",
    "\n",
    "# Soma de z alfa e beta\n",
    "Z_beta + Z_alpha\n",
    "\n",
    "min_N = (2 * probabilidade_agrupada * (1 - probabilidade_agrupada) * (Z_beta + Z_alpha)** 2/ efeito_min**2)\n",
    "min_N"
   ]
  },
  {
   "cell_type": "code",
   "execution_count": 71,
   "metadata": {},
   "outputs": [
    {
     "data": {
      "image/png": "[encoded data removed]",
      "text/plain": [
       "<Figure size 1008x576 with 1 Axes>"
      ]
     },
     "metadata": {
      "needs_background": "light"
     },
     "output_type": "display_data"
    }
   ],
   "source": [
    "# Executa a função para 984 amostras\n",
    "abplot_func(n_A = 984, n_B = 984, bcr = p_A, d_hat = p_B - p_A, sig_level = 0.05, show_p_value = False, show_legend = True)"
   ]
  },
  {
   "cell_type": "markdown",
   "metadata": {},
   "source": [
    "Observação do gráfico: a alteração do tamanho da amostra para 984 registros indicou que o grupo B ainda geraria uma maior conversão porém podemos afirmar com apenas 70% de certeza, o que não é considerado ideal."
   ]
  },
  {
   "cell_type": "code",
   "execution_count": 72,
   "metadata": {},
   "outputs": [
    {
     "data": {
      "image/png": "[encoded data removed]",
      "text/plain": [
       "<Figure size 1008x576 with 1 Axes>"
      ]
     },
     "metadata": {
      "needs_background": "light"
     },
     "output_type": "display_data"
    }
   ],
   "source": [
    "# Executa a função para 1249 amostras\n",
    "abplot_func(n_A = 1249, n_B = 1249, bcr = p_A, d_hat = p_B - p_A, sig_level = 0.05, show_p_value = False, show_legend = True)"
   ]
  },
  {
   "cell_type": "markdown",
   "metadata": {},
   "source": [
    "Observação do gráfico: O tamanho da amostra de 1249 indica que o grupo B gera uma maior conversão, e esse resultado é apresentado com um poder de certeza de 80%,  que é o ideal mínimo."
   ]
  },
  {
   "cell_type": "markdown",
   "metadata": {},
   "source": [
    "### Conclusão\n",
    "O poder calculado para este tamanho de amostra foi de aproximadamente 0,80. Portanto, para afirmar que a mudança na página removendo as avaliações de usuários realmente aumentou a taxa de conversão precisamos de pelos menos 1249 amostras. Então, para o conjunto de dados acima, com 1249 amostras podemos afirmar que sim, remover as avaliações de usuários da página aumenta a taxa de conversão."
   ]
  }
 ],
 "metadata": {
  "kernelspec": {
   "display_name": "Python 3",
   "language": "python",
   "name": "python3"
  },
  "language_info": {
   "codemirror_mode": {
    "name": "ipython",
    "version": 3
   },
   "file_extension": ".py",
   "mimetype": "text/x-python",
   "name": "python",
   "nbconvert_exporter": "python",
   "pygments_lexer": "ipython3",
   "version": "3.7.6"
  }
 },
 "nbformat": 4,
 "nbformat_minor": 4
}
