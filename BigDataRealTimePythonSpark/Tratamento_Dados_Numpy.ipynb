{
 "cells": [
  {
   "cell_type": "markdown",
   "id": "ad4eb9f7",
   "metadata": {},
   "source": [
    "<div align='center'><font color='blue'>\n",
    "<h2>Estudo de Caso</h2>\n",
    "<h3>Limpeza e Pré-Processamento de Dados com Numpy</h3></font>\n",
    "</div>"
   ]
  },
  {
   "cell_type": "markdown",
   "id": "d87512cb",
   "metadata": {},
   "source": [
    "- Serão utilizados dados reais publicados em: https://www.openintro.org/data/index.php?data=loans_full_schema\n",
    "- Esse  conjunto  de  dados  representa  milhares  de  empréstimos  feitos  por  meio  da plataforma  Lending  Club,  que  é  uma  plataforma  que  permite  que  indivíduos  emprestem  para outros indivíduos.\n",
    "- Além  disso  será usado  um  dataset  com  cotação  do  dólar  em  relação  ao  Euro.  Extraímos uma pequena amostra de dados do site: https://finance.yahoo.com."
   ]
  },
  {
   "cell_type": "markdown",
   "id": "84d089f2",
   "metadata": {},
   "source": [
    "<font color='blue'><h3>Etapas do projeto:</h3> \\\n",
    "Etapa 1 - Manipulação e Tratamento das Colunas do tipo String \\\n",
    "Etapa 2 - Manipulação e Tratamento das Colunas Numéricas \\\n",
    "Etapa 3 - Carregar Segundo Dataset para trabalhar em conjunto \\\n",
    "Etapa 4 - \n",
    "    </font>"
   ]
  },
  {
   "cell_type": "code",
   "execution_count": 1,
   "id": "ae0f49da",
   "metadata": {},
   "outputs": [
    {
     "name": "stdout",
     "output_type": "stream",
     "text": [
      "A versão do Python utilizada nesse projeto é 3.9.7\n"
     ]
    }
   ],
   "source": [
    "from platform import python_version\n",
    "print('A versão do Python utilizada nesse projeto é', python_version())"
   ]
  },
  {
   "cell_type": "code",
   "execution_count": 2,
   "id": "fe8a8479",
   "metadata": {},
   "outputs": [],
   "source": [
    "import numpy as np"
   ]
  },
  {
   "cell_type": "code",
   "execution_count": 3,
   "id": "d60638b4",
   "metadata": {},
   "outputs": [
    {
     "name": "stdout",
     "output_type": "stream",
     "text": [
      "numpy: 1.20.3\n",
      "\n"
     ]
    }
   ],
   "source": [
    "%reload_ext watermark\n",
    "%watermark --iversion"
   ]
  },
  {
   "cell_type": "code",
   "execution_count": 4,
   "id": "3923f75c",
   "metadata": {},
   "outputs": [],
   "source": [
    "import warnings\n",
    "warnings.filterwarnings('ignore')"
   ]
  },
  {
   "cell_type": "code",
   "execution_count": 5,
   "id": "29718e93",
   "metadata": {},
   "outputs": [],
   "source": [
    "# Configuração de impressão do Numpy\n",
    "np.set_printoptions(suppress = True, linewidth = 200, precision = 2)"
   ]
  },
  {
   "cell_type": "markdown",
   "id": "2a1270b0",
   "metadata": {},
   "source": [
    "### Carregando os dados"
   ]
  },
  {
   "cell_type": "code",
   "execution_count": 6,
   "id": "c4988049",
   "metadata": {},
   "outputs": [],
   "source": [
    "dados = np.genfromtxt('dados/dataset1.csv', \n",
    "                      delimiter = ';', \n",
    "                      skip_header = 1, \n",
    "                      autostrip = True, \n",
    "                      encoding = 'cp1252')"
   ]
  },
  {
   "cell_type": "code",
   "execution_count": 7,
   "id": "7d25c2bc",
   "metadata": {},
   "outputs": [
    {
     "data": {
      "text/plain": [
       "numpy.ndarray"
      ]
     },
     "execution_count": 7,
     "metadata": {},
     "output_type": "execute_result"
    }
   ],
   "source": [
    "type(dados)"
   ]
  },
  {
   "cell_type": "code",
   "execution_count": 8,
   "id": "5484a517",
   "metadata": {},
   "outputs": [
    {
     "data": {
      "text/plain": [
       "(10000, 14)"
      ]
     },
     "execution_count": 8,
     "metadata": {},
     "output_type": "execute_result"
    }
   ],
   "source": [
    "dados.shape"
   ]
  },
  {
   "cell_type": "code",
   "execution_count": 9,
   "id": "b4127867",
   "metadata": {},
   "outputs": [
    {
     "data": {
      "text/plain": [
       "array([[48010226.  ,         nan,    35000.  , ...,         nan,         nan,     9452.96],\n",
       "       [57693261.  ,         nan,    30000.  , ...,         nan,         nan,     4679.7 ],\n",
       "       [59432726.  ,         nan,    15000.  , ...,         nan,         nan,     1969.83],\n",
       "       ...,\n",
       "       [50415990.  ,         nan,    10000.  , ...,         nan,         nan,     2185.64],\n",
       "       [46154151.  ,         nan,         nan, ...,         nan,         nan,     3199.4 ],\n",
       "       [66055249.  ,         nan,    10000.  , ...,         nan,         nan,      301.9 ]])"
      ]
     },
     "execution_count": 9,
     "metadata": {},
     "output_type": "execute_result"
    }
   ],
   "source": [
    "dados.view()"
   ]
  },
  {
   "cell_type": "markdown",
   "id": "5c109cd4",
   "metadata": {},
   "source": [
    "- O dataset foi carregado com as colunas de string com valores 'nan'"
   ]
  },
  {
   "cell_type": "markdown",
   "id": "7f7f2533",
   "metadata": {},
   "source": [
    "### Verificando valores ausentes"
   ]
  },
  {
   "cell_type": "code",
   "execution_count": 10,
   "id": "02f067f6",
   "metadata": {},
   "outputs": [
    {
     "data": {
      "text/plain": [
       "88005"
      ]
     },
     "execution_count": 10,
     "metadata": {},
     "output_type": "execute_result"
    }
   ],
   "source": [
    "np.isnan(dados).sum()"
   ]
  },
  {
   "cell_type": "code",
   "execution_count": 11,
   "id": "122f3868",
   "metadata": {},
   "outputs": [
    {
     "name": "stdout",
     "output_type": "stream",
     "text": [
      "68616520.0\n"
     ]
    }
   ],
   "source": [
    "# soma o maior valor + 1 ignora valores nan\n",
    "# Esse valor aleatório será usado para preencher os valores ausentes no momento da carga de dados de variáveis\n",
    "# numéricas e depois será tratado esse valor como valor ausente\n",
    "valor_um = np.nanmax(dados) + 1\n",
    "print(valor_um)"
   ]
  },
  {
   "cell_type": "code",
   "execution_count": 12,
   "id": "ac3b0e97",
   "metadata": {},
   "outputs": [
    {
     "name": "stdout",
     "output_type": "stream",
     "text": [
      "[54015809.19         nan    15273.46         nan    15311.04         nan       16.62      440.92         nan         nan         nan         nan         nan     3143.85]\n"
     ]
    }
   ],
   "source": [
    "# Calcula a média (variáveis numéricas) ignorando valores nan por coluna\n",
    "# Será usado para separar variáveis numéricas das variáveis de string\n",
    "media_ignorando_nan = np.nanmean(dados, axis = 0)\n",
    "print(media_ignorando_nan)"
   ]
  },
  {
   "cell_type": "code",
   "execution_count": 13,
   "id": "95c8f7bb",
   "metadata": {},
   "outputs": [
    {
     "data": {
      "text/plain": [
       "array([ 1,  3,  5,  8,  9, 10, 11, 12], dtype=int64)"
      ]
     },
     "execution_count": 13,
     "metadata": {},
     "output_type": "execute_result"
    }
   ],
   "source": [
    "# Colunas do tipo string com valores ausentes\n",
    "colunas_strings = np.argwhere(np.isnan(media_ignorando_nan)).squeeze() ; colunas_strings"
   ]
  },
  {
   "cell_type": "code",
   "execution_count": 14,
   "id": "88f17367",
   "metadata": {},
   "outputs": [
    {
     "data": {
      "text/plain": [
       "array([ 0,  2,  4,  6,  7, 13], dtype=int64)"
      ]
     },
     "execution_count": 14,
     "metadata": {},
     "output_type": "execute_result"
    }
   ],
   "source": [
    "# Colunas do tipo numérico\n",
    "colunas_num = np.argwhere(np.isnan(media_ignorando_nan) == False).squeeze(); colunas_num"
   ]
  },
  {
   "cell_type": "markdown",
   "id": "51214394",
   "metadata": {},
   "source": [
    "- Carregar dataset separando colunas numéricas de strings"
   ]
  },
  {
   "cell_type": "code",
   "execution_count": 15,
   "id": "d59a935f",
   "metadata": {},
   "outputs": [],
   "source": [
    "arr_string = np.genfromtxt('dados/dataset1.csv', \n",
    "                           delimiter = ';', \n",
    "                           skip_header = 1, \n",
    "                           autostrip = True, \n",
    "                           encoding = 'cp1252', \n",
    "                           usecols = colunas_strings,\n",
    "                           dtype = str)"
   ]
  },
  {
   "cell_type": "code",
   "execution_count": 16,
   "id": "a6529724",
   "metadata": {},
   "outputs": [
    {
     "data": {
      "text/plain": [
       "array([['May-15', 'Current', '36 months', ..., 'Verified', 'https://www.lendingclub.com/browse/loanDetail.action?loan_id=48010226', 'CA'],\n",
       "       ['', 'Current', '36 months', ..., 'Source Verified', 'https://www.lendingclub.com/browse/loanDetail.action?loan_id=57693261', 'NY'],\n",
       "       ['Sep-15', 'Current', '36 months', ..., 'Verified', 'https://www.lendingclub.com/browse/loanDetail.action?loan_id=59432726', 'PA'],\n",
       "       ...,\n",
       "       ['Jun-15', 'Current', '36 months', ..., 'Source Verified', 'https://www.lendingclub.com/browse/loanDetail.action?loan_id=50415990', 'CA'],\n",
       "       ['Apr-15', 'Current', '36 months', ..., 'Source Verified', 'https://www.lendingclub.com/browse/loanDetail.action?loan_id=46154151', 'OH'],\n",
       "       ['Dec-15', 'Current', '36 months', ..., '', 'https://www.lendingclub.com/browse/loanDetail.action?loan_id=66055249', 'IL']], dtype='<U69')"
      ]
     },
     "execution_count": 16,
     "metadata": {},
     "output_type": "execute_result"
    }
   ],
   "source": [
    "arr_string"
   ]
  },
  {
   "cell_type": "code",
   "execution_count": 17,
   "id": "b1eea63b",
   "metadata": {},
   "outputs": [
    {
     "data": {
      "text/plain": [
       "(10000, 8)"
      ]
     },
     "execution_count": 17,
     "metadata": {},
     "output_type": "execute_result"
    }
   ],
   "source": [
    "arr_string.shape"
   ]
  },
  {
   "cell_type": "code",
   "execution_count": 18,
   "id": "4a2f326f",
   "metadata": {},
   "outputs": [
    {
     "data": {
      "text/plain": [
       "array([[48010226.  ,    35000.  ,    35000.  ,       13.33,     1184.86,     9452.96],\n",
       "       [57693261.  ,    30000.  ,    30000.  , 68616520.  ,      938.57,     4679.7 ],\n",
       "       [59432726.  ,    15000.  ,    15000.  , 68616520.  ,      494.86,     1969.83],\n",
       "       ...,\n",
       "       [50415990.  ,    10000.  ,    10000.  , 68616520.  , 68616520.  ,     2185.64],\n",
       "       [46154151.  , 68616520.  ,    10000.  ,       16.55,      354.3 ,     3199.4 ],\n",
       "       [66055249.  ,    10000.  ,    10000.  , 68616520.  ,      309.97,      301.9 ]])"
      ]
     },
     "execution_count": 18,
     "metadata": {},
     "output_type": "execute_result"
    }
   ],
   "source": [
    "arr_num = np.genfromtxt('dados/dataset1.csv',\n",
    "                         delimiter = ';',\n",
    "                         skip_header = 1,\n",
    "                         autostrip = True,\n",
    "                         encoding ='cp1252',\n",
    "                         usecols = colunas_num,\n",
    "                         filling_values = valor_um) ; arr_num"
   ]
  },
  {
   "cell_type": "markdown",
   "id": "d2fa86dc",
   "metadata": {},
   "source": [
    "- Carrega o cabeçalho do dataset, separando as colunas strings das colunas numéricas"
   ]
  },
  {
   "cell_type": "code",
   "execution_count": 19,
   "id": "7d6025f8",
   "metadata": {},
   "outputs": [
    {
     "data": {
      "text/plain": [
       "array(['id', 'issue_d', 'loan_amnt', 'loan_status', 'funded_amnt', 'term', 'int_rate', 'installment', 'grade', 'sub_grade', 'verification_status', 'url', 'addr_state', 'total_pymnt'], dtype='<U19')"
      ]
     },
     "execution_count": 19,
     "metadata": {},
     "output_type": "execute_result"
    }
   ],
   "source": [
    "arr_cabecalho = np.genfromtxt('dados/dataset1.csv',\n",
    "                             delimiter = ';',\n",
    "                             skip_footer = dados.shape[0],\n",
    "                             autostrip= True,\n",
    "                             dtype = str,\n",
    "                             encoding = 'cp1252'); arr_cabecalho"
   ]
  },
  {
   "cell_type": "code",
   "execution_count": 20,
   "id": "4216be27",
   "metadata": {},
   "outputs": [],
   "source": [
    "header_string, header_num = arr_cabecalho[colunas_strings], arr_cabecalho[colunas_num]; "
   ]
  },
  {
   "cell_type": "code",
   "execution_count": 21,
   "id": "5402dd54",
   "metadata": {},
   "outputs": [
    {
     "data": {
      "text/plain": [
       "array(['issue_d', 'loan_status', 'term', 'grade', 'sub_grade', 'verification_status', 'url', 'addr_state'], dtype='<U19')"
      ]
     },
     "execution_count": 21,
     "metadata": {},
     "output_type": "execute_result"
    }
   ],
   "source": [
    "header_string "
   ]
  },
  {
   "cell_type": "code",
   "execution_count": 22,
   "id": "944fa440",
   "metadata": {},
   "outputs": [
    {
     "data": {
      "text/plain": [
       "array(['id', 'loan_amnt', 'funded_amnt', 'int_rate', 'installment', 'total_pymnt'], dtype='<U19')"
      ]
     },
     "execution_count": 22,
     "metadata": {},
     "output_type": "execute_result"
    }
   ],
   "source": [
    "header_num"
   ]
  },
  {
   "cell_type": "markdown",
   "id": "7f7e9644",
   "metadata": {},
   "source": [
    "### Função de checkpoint\n",
    "- Serão criadas funções de checkpoint para salvar os resultados intermédiários"
   ]
  },
  {
   "cell_type": "markdown",
   "id": "eeb6a527",
   "metadata": {},
   "source": [
    "#### Checkpoint 1"
   ]
  },
  {
   "cell_type": "code",
   "execution_count": 23,
   "id": "b10f991f",
   "metadata": {},
   "outputs": [],
   "source": [
    "def checkpoint(file_name, checkpoint_header, checkpoint_data):\n",
    "    np.savez(file_name, header = checkpoint_header, data = checkpoint_data)\n",
    "    checkpoint_variable = np.load(file_name + '.npz')\n",
    "    return(checkpoint_variable)"
   ]
  },
  {
   "cell_type": "code",
   "execution_count": 24,
   "id": "8b24b8a3",
   "metadata": {},
   "outputs": [],
   "source": [
    "checkpoint_inicial = checkpoint('dados/checkpoint-inicial', header_string, arr_string)"
   ]
  },
  {
   "cell_type": "code",
   "execution_count": 25,
   "id": "3954cd30",
   "metadata": {},
   "outputs": [
    {
     "data": {
      "text/plain": [
       "array([['May-15', 'Current', '36 months', ..., 'Verified', 'https://www.lendingclub.com/browse/loanDetail.action?loan_id=48010226', 'CA'],\n",
       "       ['', 'Current', '36 months', ..., 'Source Verified', 'https://www.lendingclub.com/browse/loanDetail.action?loan_id=57693261', 'NY'],\n",
       "       ['Sep-15', 'Current', '36 months', ..., 'Verified', 'https://www.lendingclub.com/browse/loanDetail.action?loan_id=59432726', 'PA'],\n",
       "       ...,\n",
       "       ['Jun-15', 'Current', '36 months', ..., 'Source Verified', 'https://www.lendingclub.com/browse/loanDetail.action?loan_id=50415990', 'CA'],\n",
       "       ['Apr-15', 'Current', '36 months', ..., 'Source Verified', 'https://www.lendingclub.com/browse/loanDetail.action?loan_id=46154151', 'OH'],\n",
       "       ['Dec-15', 'Current', '36 months', ..., '', 'https://www.lendingclub.com/browse/loanDetail.action?loan_id=66055249', 'IL']], dtype='<U69')"
      ]
     },
     "execution_count": 25,
     "metadata": {},
     "output_type": "execute_result"
    }
   ],
   "source": [
    "checkpoint_inicial['data']"
   ]
  },
  {
   "cell_type": "code",
   "execution_count": 26,
   "id": "e37da1ea",
   "metadata": {},
   "outputs": [
    {
     "data": {
      "text/plain": [
       "True"
      ]
     },
     "execution_count": 26,
     "metadata": {},
     "output_type": "execute_result"
    }
   ],
   "source": [
    "np.array_equal(checkpoint_inicial['data'], arr_string)"
   ]
  },
  {
   "cell_type": "markdown",
   "id": "800af785",
   "metadata": {},
   "source": [
    "<font color= 'blue'><h3>ETAPA 1 - Manipulação e Tratamento das Colunas do tipo String</h3></font>"
   ]
  },
  {
   "cell_type": "markdown",
   "id": "cf29dbe5",
   "metadata": {},
   "source": [
    "### Pré-Processamento da Variável issue_date com Label Encoding\n",
    "- Label encoding: Converter as categorias de uma variável para sua representação numérica correspondente"
   ]
  },
  {
   "cell_type": "code",
   "execution_count": 27,
   "id": "dbc33d3c",
   "metadata": {},
   "outputs": [
    {
     "data": {
      "text/plain": [
       "array(['issue_d', 'loan_status', 'term', 'grade', 'sub_grade', 'verification_status', 'url', 'addr_state'], dtype='<U19')"
      ]
     },
     "execution_count": 27,
     "metadata": {},
     "output_type": "execute_result"
    }
   ],
   "source": [
    "header_string"
   ]
  },
  {
   "cell_type": "code",
   "execution_count": 28,
   "id": "bee1489c",
   "metadata": {},
   "outputs": [
    {
     "data": {
      "text/plain": [
       "array(['issue_date', 'loan_status', 'term', 'grade', 'sub_grade', 'verification_status', 'url', 'addr_state'], dtype='<U19')"
      ]
     },
     "execution_count": 28,
     "metadata": {},
     "output_type": "execute_result"
    }
   ],
   "source": [
    "header_string[0] = 'issue_date' ; header_string"
   ]
  },
  {
   "cell_type": "code",
   "execution_count": 29,
   "id": "f9f62196",
   "metadata": {},
   "outputs": [
    {
     "data": {
      "text/plain": [
       "array(['', 'Apr-15', 'Aug-15', 'Dec-15', 'Feb-15', 'Jan-15', 'Jul-15', 'Jun-15', 'Mar-15', 'May-15', 'Nov-15', 'Oct-15', 'Sep-15'], dtype='<U69')"
      ]
     },
     "execution_count": 29,
     "metadata": {},
     "output_type": "execute_result"
    }
   ],
   "source": [
    "np.unique(arr_string[:,0])"
   ]
  },
  {
   "cell_type": "code",
   "execution_count": 30,
   "id": "0909f256",
   "metadata": {},
   "outputs": [],
   "source": [
    "# Extrai o sufixo 15 da variável issue_date e converte em um array\n",
    "arr_string[:,0] = np.chararray.strip(arr_string[:,0], '-15')"
   ]
  },
  {
   "cell_type": "code",
   "execution_count": 31,
   "id": "0a27da15",
   "metadata": {},
   "outputs": [
    {
     "data": {
      "text/plain": [
       "array(['', 'Apr', 'Aug', 'Dec', 'Feb', 'Jan', 'Jul', 'Jun', 'Mar', 'May', 'Nov', 'Oct', 'Sep'], dtype='<U69')"
      ]
     },
     "execution_count": 31,
     "metadata": {},
     "output_type": "execute_result"
    }
   ],
   "source": [
    "# Extrai os valores únicos\n",
    "np.unique(arr_string[:,0])"
   ]
  },
  {
   "cell_type": "code",
   "execution_count": 32,
   "id": "da59a1e0",
   "metadata": {},
   "outputs": [],
   "source": [
    "# Cria um array com os meses(incluindo o elemento vazio para o que estiver em branco)\n",
    "meses = np.array(['', 'Jan', 'Feb', 'Mar', 'Apr', 'May', 'Jun', 'Jul', 'Aug', 'Sep', 'Oct', 'Nov', 'Dec'])"
   ]
  },
  {
   "cell_type": "code",
   "execution_count": 33,
   "id": "270816c4",
   "metadata": {},
   "outputs": [],
   "source": [
    "# Loop para converter os nomes dos meses em valores numéricos(Label encoding)\n",
    "for i in range(13):\n",
    "    arr_string[:,0] = np.where(arr_string[:,0] == meses[i], i, arr_string[:,0])"
   ]
  },
  {
   "cell_type": "code",
   "execution_count": 34,
   "id": "0dba59aa",
   "metadata": {},
   "outputs": [
    {
     "data": {
      "text/plain": [
       "array(['0', '1', '10', '11', '12', '2', '3', '4', '5', '6', '7', '8', '9'], dtype='<U69')"
      ]
     },
     "execution_count": 34,
     "metadata": {},
     "output_type": "execute_result"
    }
   ],
   "source": [
    "np.unique(arr_string[:,0])"
   ]
  },
  {
   "cell_type": "markdown",
   "id": "c8be0719",
   "metadata": {},
   "source": [
    "### Pré-Processamento da Variável loan_status com Binarização\n",
    "Essa variável indica o status da pessoa em relação a empréstimo, se está em atraso ou não. Será classificado de acordo com dois status:\n",
    "- Classe positiva = 1\n",
    "- Classe negativa = 0"
   ]
  },
  {
   "cell_type": "code",
   "execution_count": 35,
   "id": "aacfe995",
   "metadata": {},
   "outputs": [
    {
     "data": {
      "text/plain": [
       "array(['issue_date', 'loan_status', 'term', 'grade', 'sub_grade', 'verification_status', 'url', 'addr_state'], dtype='<U19')"
      ]
     },
     "execution_count": 35,
     "metadata": {},
     "output_type": "execute_result"
    }
   ],
   "source": [
    "header_string"
   ]
  },
  {
   "cell_type": "code",
   "execution_count": 36,
   "id": "8a552bb8",
   "metadata": {},
   "outputs": [
    {
     "data": {
      "text/plain": [
       "array(['', 'Charged Off', 'Current', 'Default', 'Fully Paid', 'In Grace Period', 'Issued', 'Late (16-30 days)', 'Late (31-120 days)'], dtype='<U69')"
      ]
     },
     "execution_count": 36,
     "metadata": {},
     "output_type": "execute_result"
    }
   ],
   "source": [
    "np.unique(arr_string[:,1])"
   ]
  },
  {
   "cell_type": "code",
   "execution_count": 37,
   "id": "657612eb",
   "metadata": {},
   "outputs": [
    {
     "data": {
      "text/plain": [
       "9"
      ]
     },
     "execution_count": 37,
     "metadata": {},
     "output_type": "execute_result"
    }
   ],
   "source": [
    "# Número de elementos\n",
    "np.unique(arr_string[:,1]).size"
   ]
  },
  {
   "cell_type": "code",
   "execution_count": 38,
   "id": "b25997d3",
   "metadata": {},
   "outputs": [],
   "source": [
    "# Criação de um array com 3 posições\n",
    "status = np.array(['', 'Charged Off', 'Default', 'Late (31-120 days)'])"
   ]
  },
  {
   "cell_type": "code",
   "execution_count": 39,
   "id": "1ed7abe3",
   "metadata": {},
   "outputs": [],
   "source": [
    "# Verifica os valores da variável e compara com o array anterior convertendo a variável para valores binários(Binarização)\n",
    "arr_string[:,1] = np.where(np.isin(arr_string[:,1], status), 0, 1)"
   ]
  },
  {
   "cell_type": "code",
   "execution_count": 40,
   "id": "8ab8fcee",
   "metadata": {},
   "outputs": [
    {
     "data": {
      "text/plain": [
       "array(['0', '1'], dtype='<U69')"
      ]
     },
     "execution_count": 40,
     "metadata": {},
     "output_type": "execute_result"
    }
   ],
   "source": [
    "# Extrai os valores únicos \n",
    "np.unique(arr_string[:,1])"
   ]
  },
  {
   "cell_type": "markdown",
   "id": "4e960ea4",
   "metadata": {},
   "source": [
    "### Pré-Processamento da variável term com Limpeza de String\n",
    "Essa variável indica o período do empréstimo"
   ]
  },
  {
   "cell_type": "code",
   "execution_count": 41,
   "id": "9b3a1c6d",
   "metadata": {},
   "outputs": [],
   "source": [
    "header_string[2] = 'term_months'"
   ]
  },
  {
   "cell_type": "code",
   "execution_count": 42,
   "id": "43c6e556",
   "metadata": {},
   "outputs": [
    {
     "data": {
      "text/plain": [
       "array(['', '36 months', '60 months'], dtype='<U69')"
      ]
     },
     "execution_count": 42,
     "metadata": {},
     "output_type": "execute_result"
    }
   ],
   "source": [
    "# Valores únicos\n",
    "np.unique(arr_string[:,2])"
   ]
  },
  {
   "cell_type": "code",
   "execution_count": 43,
   "id": "9138b2b7",
   "metadata": {},
   "outputs": [
    {
     "data": {
      "text/plain": [
       "array(['36', '36', '36', ..., '36', '36', '36'], dtype='<U69')"
      ]
     },
     "execution_count": 43,
     "metadata": {},
     "output_type": "execute_result"
    }
   ],
   "source": [
    "# Remove a palavra 'months'(colocar com espaço)\n",
    "arr_string[:,2] = np.chararray.strip(arr_string[:,2], ' months'); arr_string[:,2]"
   ]
  },
  {
   "cell_type": "code",
   "execution_count": 44,
   "id": "3275a00a",
   "metadata": {},
   "outputs": [
    {
     "data": {
      "text/plain": [
       "array(['36', '60'], dtype='<U69')"
      ]
     },
     "execution_count": 44,
     "metadata": {},
     "output_type": "execute_result"
    }
   ],
   "source": [
    "# Substitui valores ausente com o valor 60\n",
    "arr_string[:,2] = np.where(arr_string[:,2]== '', '60', arr_string[:,2]) ; np.unique(arr_string[:,2])"
   ]
  },
  {
   "cell_type": "markdown",
   "id": "60ae4118",
   "metadata": {},
   "source": [
    "### Pré-Processamento das Variáveis grade e sub_grade com Dicionário(Tipo de Label Encoding)\n",
    "As variáveis 'grade' e 'sub_grade' indicam classificações relacionadas ao caráter de pagamento das pessoas.\n",
    "As variáveis são parecidas, então utilizaremos a variável sub_grade por obter informações mais detalhadas.\n",
    "Ajuste da variável sub_grade:\n",
    "- Como as duas variáveis possuem valor ausente, vamos tratar a 'sub_grade com ajuda da variável 'grade'.\n",
    "- Será criado uma nova categoria na variável 'sub_grade' para substituir os valores ausentes.\n",
    "- Será deletada a variável 'grade'.\n",
    "- A variável 'sub_grade' terá sua representação numérica."
   ]
  },
  {
   "cell_type": "code",
   "execution_count": 45,
   "id": "41778aba",
   "metadata": {},
   "outputs": [
    {
     "data": {
      "text/plain": [
       "array(['issue_date', 'loan_status', 'term_months', 'grade', 'sub_grade', 'verification_status', 'url', 'addr_state'], dtype='<U19')"
      ]
     },
     "execution_count": 45,
     "metadata": {},
     "output_type": "execute_result"
    }
   ],
   "source": [
    "header_string"
   ]
  },
  {
   "cell_type": "code",
   "execution_count": 46,
   "id": "47e83f6d",
   "metadata": {},
   "outputs": [
    {
     "data": {
      "text/plain": [
       "(array(['', 'A', 'B', 'C', 'D', 'E', 'F', 'G'], dtype='<U69'),\n",
       " array([ 515, 1632, 2606, 2766, 1389,  816,  236,   40], dtype=int64))"
      ]
     },
     "execution_count": 46,
     "metadata": {},
     "output_type": "execute_result"
    }
   ],
   "source": [
    "np.unique(arr_string[:,3], return_counts = True)"
   ]
  },
  {
   "cell_type": "code",
   "execution_count": 47,
   "id": "6dff5dc3",
   "metadata": {},
   "outputs": [
    {
     "data": {
      "text/plain": [
       "(array(['', 'A1', 'A2', 'A3', 'A4', 'A5', 'B1', 'B2', 'B3', 'B4', 'B5', 'C1', 'C2', 'C3', 'C4', 'C5', 'D1', 'D2', 'D3', 'D4', 'D5', 'E1', 'E2', 'E3', 'E4', 'E5', 'F1', 'F2', 'F3', 'F4', 'F5', 'G1',\n",
       "        'G2', 'G3', 'G4', 'G5'], dtype='<U69'),\n",
       " array([514, 285, 278, 239, 323, 502, 509, 517, 530, 553, 494, 629, 567, 586, 564, 423, 391, 267, 250, 255, 223, 235, 162, 171, 139, 114,  94,  52,  34,  43,  16,  19,  10,   3,   7,   2], dtype=int64))"
      ]
     },
     "execution_count": 47,
     "metadata": {},
     "output_type": "execute_result"
    }
   ],
   "source": [
    "np.unique(arr_string[:,4], return_counts = True)"
   ]
  },
  {
   "cell_type": "code",
   "execution_count": 48,
   "id": "934cedff",
   "metadata": {},
   "outputs": [
    {
     "data": {
      "text/plain": [
       "array(['A', 'B', 'C', 'D', 'E', 'F', 'G'], dtype='<U69')"
      ]
     },
     "execution_count": 48,
     "metadata": {},
     "output_type": "execute_result"
    }
   ],
   "source": [
    "# Retira a primeira linha, que é um valor ausente, da variável 'grade'\n",
    "np.unique(arr_string[:,3])[1:]"
   ]
  },
  {
   "cell_type": "code",
   "execution_count": 49,
   "id": "41c26f4c",
   "metadata": {},
   "outputs": [],
   "source": [
    "# Loop para tratar o 'sub_grade'\n",
    "for i in np.unique(arr_string[:,3])[1:]:\n",
    "    arr_string[:,4] = np.where((arr_string[:,4] == '') & (arr_string[:,3] == i), i + '5', arr_string[:,4])"
   ]
  },
  {
   "cell_type": "code",
   "execution_count": 50,
   "id": "69f026c0",
   "metadata": {},
   "outputs": [
    {
     "data": {
      "text/plain": [
       "(array(['', 'A1', 'A2', 'A3', 'A4', 'A5', 'B1', 'B2', 'B3', 'B4', 'B5', 'C1', 'C2', 'C3', 'C4', 'C5', 'D1', 'D2', 'D3', 'D4', 'D5', 'E1', 'E2', 'E3', 'E4', 'E5', 'F1', 'F2', 'F3', 'F4', 'F5', 'G1',\n",
       "        'G2', 'G3', 'G4', 'G5'], dtype='<U69'),\n",
       " array([  9, 285, 278, 239, 323, 592, 509, 517, 530, 553, 633, 629, 567, 586, 564, 577, 391, 267, 250, 255, 288, 235, 162, 171, 139, 160,  94,  52,  34,  43,  24,  19,  10,   3,   7,   5], dtype=int64))"
      ]
     },
     "execution_count": 50,
     "metadata": {},
     "output_type": "execute_result"
    }
   ],
   "source": [
    "# Retorna categorias e suas respectivas contagens\n",
    "np.unique(arr_string[:,4], return_counts = True)"
   ]
  },
  {
   "cell_type": "markdown",
   "id": "98eeacbd",
   "metadata": {},
   "source": [
    "Tratamento dos valores ausentes da variável 'sub_grade'"
   ]
  },
  {
   "cell_type": "code",
   "execution_count": 51,
   "id": "55600fb6",
   "metadata": {},
   "outputs": [],
   "source": [
    "# Os valores ausente serão substituídos por uma nova categoria\n",
    "arr_string[:,4] = np.where(arr_string[:,4] == '', 'H1', arr_string[:,4])"
   ]
  },
  {
   "cell_type": "code",
   "execution_count": 52,
   "id": "b0b9bd70",
   "metadata": {},
   "outputs": [
    {
     "data": {
      "text/plain": [
       "array(['A1', 'A2', 'A3', 'A4', 'A5', 'B1', 'B2', 'B3', 'B4', 'B5', 'C1', 'C2', 'C3', 'C4', 'C5', 'D1', 'D2', 'D3', 'D4', 'D5', 'E1', 'E2', 'E3', 'E4', 'E5', 'F1', 'F2', 'F3', 'F4', 'F5', 'G1', 'G2',\n",
       "       'G3', 'G4', 'G5', 'H1'], dtype='<U69')"
      ]
     },
     "execution_count": 52,
     "metadata": {},
     "output_type": "execute_result"
    }
   ],
   "source": [
    "np.unique(arr_string[:,4])"
   ]
  },
  {
   "cell_type": "markdown",
   "id": "ae91ffdd",
   "metadata": {},
   "source": [
    "Remoção da variável 'grade'"
   ]
  },
  {
   "cell_type": "code",
   "execution_count": 53,
   "id": "d17cc2c2",
   "metadata": {},
   "outputs": [
    {
     "data": {
      "text/plain": [
       "(10000, 7)"
      ]
     },
     "execution_count": 53,
     "metadata": {},
     "output_type": "execute_result"
    }
   ],
   "source": [
    "arr_string = np.delete(arr_string, 3, axis = 1); arr_string.shape"
   ]
  },
  {
   "cell_type": "code",
   "execution_count": 54,
   "id": "5253285e",
   "metadata": {},
   "outputs": [],
   "source": [
    "# Remoção do nome 'grade' o cabeçalho\n",
    "header_string = np.delete(header_string, 3);"
   ]
  },
  {
   "cell_type": "code",
   "execution_count": 55,
   "id": "0c0cb81c",
   "metadata": {},
   "outputs": [
    {
     "data": {
      "text/plain": [
       "array(['issue_date', 'loan_status', 'term_months', 'sub_grade', 'verification_status', 'url', 'addr_state'], dtype='<U19')"
      ]
     },
     "execution_count": 55,
     "metadata": {},
     "output_type": "execute_result"
    }
   ],
   "source": [
    "header_string"
   ]
  },
  {
   "cell_type": "code",
   "execution_count": 56,
   "id": "ee9b1438",
   "metadata": {},
   "outputs": [
    {
     "data": {
      "text/plain": [
       "array(['C3', 'A5', 'B5', ..., 'A5', 'D2', 'A4'], dtype='<U69')"
      ]
     },
     "execution_count": 56,
     "metadata": {},
     "output_type": "execute_result"
    }
   ],
   "source": [
    "# Verificar nova variável com índice 3(que era a posição da variável 'grade')\n",
    "arr_string[:,3]"
   ]
  },
  {
   "cell_type": "code",
   "execution_count": 57,
   "id": "75eeb85e",
   "metadata": {},
   "outputs": [
    {
     "data": {
      "text/plain": [
       "'sub_grade'"
      ]
     },
     "execution_count": 57,
     "metadata": {},
     "output_type": "execute_result"
    }
   ],
   "source": [
    "# Verificar nova variável com índice 3(que era a posição da variável 'grade')\n",
    "header_string[3]"
   ]
  },
  {
   "cell_type": "markdown",
   "id": "86eb97b5",
   "metadata": {},
   "source": [
    "Conversão da variável 'sub_grade' para representação numérica"
   ]
  },
  {
   "cell_type": "code",
   "execution_count": 58,
   "id": "7d34fb90",
   "metadata": {},
   "outputs": [
    {
     "data": {
      "text/plain": [
       "array(['A1', 'A2', 'A3', 'A4', 'A5', 'B1', 'B2', 'B3', 'B4', 'B5', 'C1', 'C2', 'C3', 'C4', 'C5', 'D1', 'D2', 'D3', 'D4', 'D5', 'E1', 'E2', 'E3', 'E4', 'E5', 'F1', 'F2', 'F3', 'F4', 'F5', 'G1', 'G2',\n",
       "       'G3', 'G4', 'G5', 'H1'], dtype='<U69')"
      ]
     },
     "execution_count": 58,
     "metadata": {},
     "output_type": "execute_result"
    }
   ],
   "source": [
    "np.unique(arr_string[:,3])"
   ]
  },
  {
   "cell_type": "code",
   "execution_count": 59,
   "id": "9c66a5f9",
   "metadata": {},
   "outputs": [
    {
     "data": {
      "text/plain": [
       "['A1', 'A2', 'A3', 'A4', 'A5']"
      ]
     },
     "execution_count": 59,
     "metadata": {},
     "output_type": "execute_result"
    }
   ],
   "source": [
    "keys = list(np.unique(arr_string[:,3])) ; keys[0:5]"
   ]
  },
  {
   "cell_type": "code",
   "execution_count": 60,
   "id": "e6c8d232",
   "metadata": {},
   "outputs": [
    {
     "data": {
      "text/plain": [
       "[1, 2, 3, 4, 5]"
      ]
     },
     "execution_count": 60,
     "metadata": {},
     "output_type": "execute_result"
    }
   ],
   "source": [
    "# Criação de uma lista de valores\n",
    "values = list(range(1, np.unique(arr_string[:,3]).shape[0] + 1)); values[0: 5]"
   ]
  },
  {
   "cell_type": "code",
   "execution_count": 61,
   "id": "1af8d978",
   "metadata": {},
   "outputs": [
    {
     "data": {
      "text/plain": [
       "{'A1': 1,\n",
       " 'A2': 2,\n",
       " 'A3': 3,\n",
       " 'A4': 4,\n",
       " 'A5': 5,\n",
       " 'B1': 6,\n",
       " 'B2': 7,\n",
       " 'B3': 8,\n",
       " 'B4': 9,\n",
       " 'B5': 10,\n",
       " 'C1': 11,\n",
       " 'C2': 12,\n",
       " 'C3': 13,\n",
       " 'C4': 14,\n",
       " 'C5': 15,\n",
       " 'D1': 16,\n",
       " 'D2': 17,\n",
       " 'D3': 18,\n",
       " 'D4': 19,\n",
       " 'D5': 20,\n",
       " 'E1': 21,\n",
       " 'E2': 22,\n",
       " 'E3': 23,\n",
       " 'E4': 24,\n",
       " 'E5': 25,\n",
       " 'F1': 26,\n",
       " 'F2': 27,\n",
       " 'F3': 28,\n",
       " 'F4': 29,\n",
       " 'F5': 30,\n",
       " 'G1': 31,\n",
       " 'G2': 32,\n",
       " 'G3': 33,\n",
       " 'G4': 34,\n",
       " 'G5': 35,\n",
       " 'H1': 36}"
      ]
     },
     "execution_count": 61,
     "metadata": {},
     "output_type": "execute_result"
    }
   ],
   "source": [
    "# Criação do dicionário\n",
    "dict_sub_grade = dict(zip(keys, values)); dict_sub_grade"
   ]
  },
  {
   "cell_type": "code",
   "execution_count": 62,
   "id": "bc826349",
   "metadata": {},
   "outputs": [],
   "source": [
    "# Loop para substituir a string com as categorias pela representação numérica (frequência)\n",
    "for i in np.unique(arr_string[:,3]):\n",
    "    arr_string[:,3] = np.where(arr_string[:,3] == i, dict_sub_grade[i], arr_string[:,3])"
   ]
  },
  {
   "cell_type": "code",
   "execution_count": 63,
   "id": "e7ba1e03",
   "metadata": {},
   "outputs": [
    {
     "data": {
      "text/plain": [
       "array(['1', '10', '11', '12', '13', '14', '15', '16', '17', '18', '19', '2', '20', '21', '22', '23', '24', '25', '26', '27', '28', '29', '3', '30', '31', '32', '33', '34', '35', '36', '4', '5', '6',\n",
       "       '7', '8', '9'], dtype='<U69')"
      ]
     },
     "execution_count": 63,
     "metadata": {},
     "output_type": "execute_result"
    }
   ],
   "source": [
    "np.unique(arr_string[:,3])"
   ]
  },
  {
   "cell_type": "markdown",
   "id": "5e8a9edd",
   "metadata": {},
   "source": [
    "### Pré-Processamento da Variável Verification status com Binarização\n",
    "Essa variável indica o status de verificação do empréstimo.\n",
    "- A variável contém 3 tipos de registros sendo dois deles aparentemente parecidos. Então esses tornarão um só.\n",
    "- Como o conceito de binarização utiliza apenas 0 ou 1, o valor '0' será atribuido ao status de 'não verificado' e o '1' para 'status verificado'.\n",
    "- Os valores ausentes receberão o valor '0', pois sem o registro não sabemos se a informação foi verificada ou não então optamos por torná-la 'não verificada'."
   ]
  },
  {
   "cell_type": "code",
   "execution_count": 64,
   "id": "f73b1baa",
   "metadata": {},
   "outputs": [
    {
     "data": {
      "text/plain": [
       "array(['issue_date', 'loan_status', 'term_months', 'sub_grade', 'verification_status', 'url', 'addr_state'], dtype='<U19')"
      ]
     },
     "execution_count": 64,
     "metadata": {},
     "output_type": "execute_result"
    }
   ],
   "source": [
    "header_string"
   ]
  },
  {
   "cell_type": "code",
   "execution_count": 65,
   "id": "28820d0b",
   "metadata": {},
   "outputs": [
    {
     "data": {
      "text/plain": [
       "array(['', 'Not Verified', 'Source Verified', 'Verified'], dtype='<U69')"
      ]
     },
     "execution_count": 65,
     "metadata": {},
     "output_type": "execute_result"
    }
   ],
   "source": [
    "np.unique(arr_string[:,4])"
   ]
  },
  {
   "cell_type": "code",
   "execution_count": 66,
   "id": "2110072a",
   "metadata": {},
   "outputs": [],
   "source": [
    "# Binarização\n",
    "arr_string[:,4] = np.where((arr_string[:,4] == '')| (arr_string[:,4] == 'Not Verified'), 0, 1)"
   ]
  },
  {
   "cell_type": "code",
   "execution_count": 67,
   "id": "3ceb5d0d",
   "metadata": {},
   "outputs": [
    {
     "data": {
      "text/plain": [
       "array(['0', '1'], dtype='<U69')"
      ]
     },
     "execution_count": 67,
     "metadata": {},
     "output_type": "execute_result"
    }
   ],
   "source": [
    "# Verificação dos valores únicos\n",
    "np.unique(arr_string[:,4])"
   ]
  },
  {
   "cell_type": "markdown",
   "id": "f7fc1f1c",
   "metadata": {},
   "source": [
    "### Pré-Processamento da Variável url com Extração de ID\n",
    "Verificamos que os registros nessa variável seguem um padrão e a única diferença entre os registros é pelo 'loan_id' localizado ao final da url.\n",
    "- Será extraído o valor do id na url.\n",
    "- O conjunto de dados possui uma variável do tipo int chamada 'id'.Iremos comparar os valores das duas colunas verificando se possuem valores iguais.\n",
    "- A variável 'url' será excluída por conter valores iguais aos da coluna 'id'."
   ]
  },
  {
   "cell_type": "code",
   "execution_count": 68,
   "id": "b4a4b953",
   "metadata": {},
   "outputs": [
    {
     "data": {
      "text/plain": [
       "array(['issue_date', 'loan_status', 'term_months', 'sub_grade', 'verification_status', 'url', 'addr_state'], dtype='<U19')"
      ]
     },
     "execution_count": 68,
     "metadata": {},
     "output_type": "execute_result"
    }
   ],
   "source": [
    "header_string"
   ]
  },
  {
   "cell_type": "code",
   "execution_count": 69,
   "id": "cfbaff65",
   "metadata": {},
   "outputs": [
    {
     "data": {
      "text/plain": [
       "array(['https://www.lendingclub.com/browse/loanDetail.action?loan_id=12606806', 'https://www.lendingclub.com/browse/loanDetail.action?loan_id=13026045',\n",
       "       'https://www.lendingclub.com/browse/loanDetail.action?loan_id=1312426', ..., 'https://www.lendingclub.com/browse/loanDetail.action?loan_id=8138291',\n",
       "       'https://www.lendingclub.com/browse/loanDetail.action?loan_id=8214572', 'https://www.lendingclub.com/browse/loanDetail.action?loan_id=849994'], dtype='<U69')"
      ]
     },
     "execution_count": 69,
     "metadata": {},
     "output_type": "execute_result"
    }
   ],
   "source": [
    "np.unique(arr_string[:,5])"
   ]
  },
  {
   "cell_type": "code",
   "execution_count": 70,
   "id": "39f39971",
   "metadata": {},
   "outputs": [
    {
     "data": {
      "text/plain": [
       "chararray(['48010226', '57693261', '59432726', ..., '50415990', '46154151', '66055249'], dtype='<U69')"
      ]
     },
     "execution_count": 70,
     "metadata": {},
     "output_type": "execute_result"
    }
   ],
   "source": [
    "# Extração do id ao final da url\n",
    "np.chararray.strip(arr_string[:,5], 'https://www.lendingclub.com/browse/loanDetail.action?loan_id=')"
   ]
  },
  {
   "cell_type": "code",
   "execution_count": 71,
   "id": "2909af34",
   "metadata": {},
   "outputs": [],
   "source": [
    "# Atribuição do valor do id extraído à variável 'url'\n",
    "arr_string[:,5] = np.chararray.strip(arr_string[:,5], 'https://www.lendingclub.com/browse/loanDetail.action?loan_id=')"
   ]
  },
  {
   "cell_type": "code",
   "execution_count": 72,
   "id": "595f9fc6",
   "metadata": {},
   "outputs": [
    {
     "data": {
      "text/plain": [
       "array([48010226, 57693261, 59432726, ..., 50415990, 46154151, 66055249])"
      ]
     },
     "execution_count": 72,
     "metadata": {},
     "output_type": "execute_result"
    }
   ],
   "source": [
    "# Transformação da variável para int32\n",
    "arr_string[:,5].astype(dtype = np.int32)"
   ]
  },
  {
   "cell_type": "code",
   "execution_count": 73,
   "id": "446f2583",
   "metadata": {},
   "outputs": [
    {
     "data": {
      "text/plain": [
       "True"
      ]
     },
     "execution_count": 73,
     "metadata": {},
     "output_type": "execute_result"
    }
   ],
   "source": [
    "# Comparação de valores das colunas 'id' e 'url' \n",
    "np.array_equal(arr_num[:,0].astype(dtype = np.int32), arr_string[:,5].astype(dtype = np.int32))"
   ]
  },
  {
   "cell_type": "markdown",
   "id": "f3ab40b4",
   "metadata": {},
   "source": [
    "A variável 'url' será deletada por conter valores idênticos a coluna 'id'"
   ]
  },
  {
   "cell_type": "code",
   "execution_count": 74,
   "id": "55815f9f",
   "metadata": {},
   "outputs": [],
   "source": [
    "# Remoção da variável 'url'\n",
    "arr_string = np.delete(arr_string, 5, axis = 1)"
   ]
  },
  {
   "cell_type": "code",
   "execution_count": 75,
   "id": "7724c89c",
   "metadata": {},
   "outputs": [],
   "source": [
    "# Remoção do nome da coluna no cabeçalho\n",
    "header_string = np.delete(header_string, 5)"
   ]
  },
  {
   "cell_type": "code",
   "execution_count": 76,
   "id": "0f146c7a",
   "metadata": {},
   "outputs": [
    {
     "data": {
      "text/plain": [
       "array(['issue_date', 'loan_status', 'term_months', 'sub_grade', 'verification_status', 'addr_state'], dtype='<U19')"
      ]
     },
     "execution_count": 76,
     "metadata": {},
     "output_type": "execute_result"
    }
   ],
   "source": [
    "header_string"
   ]
  },
  {
   "cell_type": "markdown",
   "id": "af9bdf8a",
   "metadata": {},
   "source": [
    "### Pré-Processamento da Variável 'address' com Categorização\n",
    "Essa variável representa o endereço do Estado que a pessoa mora.\n",
    "- Será alterado o nome da variável para melhor identificação.\n",
    "- Será tratado o valor ausente. \n",
    "- Como possui vários Estados, vamos dividí-los por suas regiões.\n",
    "- As regiões receberão classificação numérica."
   ]
  },
  {
   "cell_type": "code",
   "execution_count": 77,
   "id": "2d6a833f",
   "metadata": {},
   "outputs": [
    {
     "data": {
      "text/plain": [
       "array(['issue_date', 'loan_status', 'term_months', 'sub_grade', 'verification_status', 'addr_state'], dtype='<U19')"
      ]
     },
     "execution_count": 77,
     "metadata": {},
     "output_type": "execute_result"
    }
   ],
   "source": [
    "header_string"
   ]
  },
  {
   "cell_type": "code",
   "execution_count": 78,
   "id": "a3908415",
   "metadata": {},
   "outputs": [
    {
     "data": {
      "text/plain": [
       "array(['CA', 'NY', 'PA', ..., 'CA', 'OH', 'IL'], dtype='<U69')"
      ]
     },
     "execution_count": 78,
     "metadata": {},
     "output_type": "execute_result"
    }
   ],
   "source": [
    "# Valores da variável \n",
    "arr_string[:,5]"
   ]
  },
  {
   "cell_type": "code",
   "execution_count": 79,
   "id": "e4d2c219",
   "metadata": {},
   "outputs": [],
   "source": [
    "# Alteração do nome da variável\n",
    "header_string[5] = 'state_address'"
   ]
  },
  {
   "cell_type": "code",
   "execution_count": 80,
   "id": "9ba696e4",
   "metadata": {},
   "outputs": [],
   "source": [
    "# Extrai nome e contagem\n",
    "state, state_count = np.unique(arr_string[:,5], return_counts = True)"
   ]
  },
  {
   "cell_type": "code",
   "execution_count": 81,
   "id": "33ded913",
   "metadata": {},
   "outputs": [],
   "source": [
    "# Ordena de forma decrescente\n",
    "state_address_ord = np.argsort(-state_count);"
   ]
  },
  {
   "cell_type": "code",
   "execution_count": 82,
   "id": "4230d0bd",
   "metadata": {},
   "outputs": [
    {
     "data": {
      "text/plain": [
       "(array(['CA', 'NY', 'TX', 'FL', '', 'IL', 'NJ', 'GA', 'PA', 'OH', 'MI', 'NC', 'VA', 'MD', 'AZ', 'WA', 'MA', 'CO', 'MO', 'MN', 'IN', 'WI', 'CT', 'TN', 'NV', 'AL', 'LA', 'OR', 'SC', 'KY', 'KS', 'OK',\n",
       "        'UT', 'AR', 'MS', 'NH', 'NM', 'WV', 'HI', 'RI', 'MT', 'DE', 'DC', 'WY', 'AK', 'NE', 'SD', 'VT', 'ND', 'ME'], dtype='<U69'),\n",
       " array([1336,  777,  758,  690,  500,  389,  341,  321,  320,  312,  267,  261,  242,  222,  220,  216,  210,  201,  160,  156,  152,  148,  143,  143,  130,  119,  116,  108,  107,   84,   84,   83,\n",
       "          74,   74,   61,   58,   57,   49,   44,   40,   28,   27,   27,   27,   26,   25,   24,   17,   16,   10], dtype=int64))"
      ]
     },
     "execution_count": 82,
     "metadata": {},
     "output_type": "execute_result"
    }
   ],
   "source": [
    "# Imprime\n",
    "state[state_address_ord], state_count[state_address_ord]"
   ]
  },
  {
   "cell_type": "code",
   "execution_count": 83,
   "id": "2e7556c3",
   "metadata": {},
   "outputs": [],
   "source": [
    "# Tratamento do valor ausente\n",
    "arr_string[:,5] = np.where(arr_string[:,5] == '', 0, arr_string[:,5])"
   ]
  },
  {
   "cell_type": "markdown",
   "id": "f0e3740d",
   "metadata": {},
   "source": [
    "Vamos separar os estados por regiões. Referência: https://www2.census.gov/geo/pdfs/maps-data/maps/reference/us_regdiv.pdf"
   ]
  },
  {
   "cell_type": "code",
   "execution_count": 84,
   "id": "6cfea1d8",
   "metadata": {},
   "outputs": [],
   "source": [
    "# Separação dos estados por regiões\n",
    "states_west = np.array(['WA', 'OR','CA','NV','ID','MT', 'WY','UT','CO', 'AZ','NM','HI','AK'])\n",
    "states_south = np.array(['TX','OK','AR','LA','MS','AL','TN','KY','FL','GA','SC','NC','VA','WV','MD','DE','DC'])\n",
    "states_midwest = np.array(['ND','SD','NE','KS','MN','IA','MO','WI','IL','IN','MI','OH'])\n",
    "states_east = np.array(['PA','NY','NJ','CT','MA','VT','NH','ME','RI'])"
   ]
  },
  {
   "cell_type": "code",
   "execution_count": 85,
   "id": "cc4090b7",
   "metadata": {},
   "outputs": [],
   "source": [
    "# Substituição de cada estado pelo id da sua região\n",
    "arr_string[:,5] = np.where(np.isin(arr_string[:,5], states_west), 1, arr_string[:,5])\n",
    "arr_string[:,5] = np.where(np.isin(arr_string[:,5], states_south), 2, arr_string[:,5])\n",
    "arr_string[:,5] = np.where(np.isin(arr_string[:,5], states_midwest), 3, arr_string[:,5])\n",
    "arr_string[:,5] = np.where(np.isin(arr_string[:,5], states_east), 4, arr_string[:,5])"
   ]
  },
  {
   "cell_type": "code",
   "execution_count": 86,
   "id": "c68a2d60",
   "metadata": {},
   "outputs": [
    {
     "data": {
      "text/plain": [
       "array(['0', '1', '2', '3', '4'], dtype='<U69')"
      ]
     },
     "execution_count": 86,
     "metadata": {},
     "output_type": "execute_result"
    }
   ],
   "source": [
    "# Verificação\n",
    "np.unique(arr_string[:,5])"
   ]
  },
  {
   "cell_type": "markdown",
   "id": "f4b97150",
   "metadata": {},
   "source": [
    "### Conversão do Array de Strings para Inteiro"
   ]
  },
  {
   "cell_type": "code",
   "execution_count": 87,
   "id": "11917e8b",
   "metadata": {},
   "outputs": [
    {
     "data": {
      "text/plain": [
       "array([['5', '1', '36', '13', '1', '1'],\n",
       "       ['0', '1', '36', '5', '1', '4'],\n",
       "       ['9', '1', '36', '10', '1', '4'],\n",
       "       ...,\n",
       "       ['6', '1', '36', '5', '1', '1'],\n",
       "       ['4', '1', '36', '17', '1', '3'],\n",
       "       ['12', '1', '36', '4', '0', '3']], dtype='<U69')"
      ]
     },
     "execution_count": 87,
     "metadata": {},
     "output_type": "execute_result"
    }
   ],
   "source": [
    "arr_string"
   ]
  },
  {
   "cell_type": "code",
   "execution_count": 88,
   "id": "fb7883fb",
   "metadata": {},
   "outputs": [],
   "source": [
    "# Converte os valores para inteiro\n",
    "arr_string = arr_string.astype(int)"
   ]
  },
  {
   "cell_type": "code",
   "execution_count": 89,
   "id": "225152fb",
   "metadata": {},
   "outputs": [
    {
     "data": {
      "text/plain": [
       "array([[ 5,  1, 36, 13,  1,  1],\n",
       "       [ 0,  1, 36,  5,  1,  4],\n",
       "       [ 9,  1, 36, 10,  1,  4],\n",
       "       ...,\n",
       "       [ 6,  1, 36,  5,  1,  1],\n",
       "       [ 4,  1, 36, 17,  1,  3],\n",
       "       [12,  1, 36,  4,  0,  3]])"
      ]
     },
     "execution_count": 89,
     "metadata": {},
     "output_type": "execute_result"
    }
   ],
   "source": [
    "arr_string"
   ]
  },
  {
   "cell_type": "code",
   "execution_count": 90,
   "id": "34571791",
   "metadata": {},
   "outputs": [
    {
     "data": {
      "text/plain": [
       "dtype('int32')"
      ]
     },
     "execution_count": 90,
     "metadata": {},
     "output_type": "execute_result"
    }
   ],
   "source": [
    "arr_string.dtype"
   ]
  },
  {
   "cell_type": "markdown",
   "id": "50f64bca",
   "metadata": {},
   "source": [
    "### Checkpoint com Variáveis do Tipo String Limpas e Pré-Processadas\n",
    "**Checkpoint2**"
   ]
  },
  {
   "cell_type": "code",
   "execution_count": 91,
   "id": "c9a7ffe5",
   "metadata": {},
   "outputs": [],
   "source": [
    "checkpoint_string = checkpoint('dados/Checkpoint-String', header_string, arr_string)"
   ]
  },
  {
   "cell_type": "code",
   "execution_count": 92,
   "id": "29e71efc",
   "metadata": {},
   "outputs": [
    {
     "data": {
      "text/plain": [
       "array(['issue_date', 'loan_status', 'term_months', 'sub_grade', 'verification_status', 'state_address'], dtype='<U19')"
      ]
     },
     "execution_count": 92,
     "metadata": {},
     "output_type": "execute_result"
    }
   ],
   "source": [
    "checkpoint_string['header']"
   ]
  },
  {
   "cell_type": "code",
   "execution_count": 93,
   "id": "21bd16cc",
   "metadata": {},
   "outputs": [
    {
     "data": {
      "text/plain": [
       "array([[ 5,  1, 36, 13,  1,  1],\n",
       "       [ 0,  1, 36,  5,  1,  4],\n",
       "       [ 9,  1, 36, 10,  1,  4],\n",
       "       ...,\n",
       "       [ 6,  1, 36,  5,  1,  1],\n",
       "       [ 4,  1, 36, 17,  1,  3],\n",
       "       [12,  1, 36,  4,  0,  3]])"
      ]
     },
     "execution_count": 93,
     "metadata": {},
     "output_type": "execute_result"
    }
   ],
   "source": [
    "checkpoint_string['data']"
   ]
  },
  {
   "cell_type": "code",
   "execution_count": 94,
   "id": "cee4b3a4",
   "metadata": {},
   "outputs": [
    {
     "data": {
      "text/plain": [
       "True"
      ]
     },
     "execution_count": 94,
     "metadata": {},
     "output_type": "execute_result"
    }
   ],
   "source": [
    "np.array_equal(checkpoint_string['data'], arr_string)"
   ]
  },
  {
   "cell_type": "markdown",
   "id": "71f31650",
   "metadata": {},
   "source": [
    "<font color= 'blue'><h3>ETAPA 2 - Manipulação e Tratamento das Colunas Numéricas</h3></font>"
   ]
  },
  {
   "cell_type": "markdown",
   "id": "ed723192",
   "metadata": {},
   "source": [
    "- Será criado um array de estatísticas"
   ]
  },
  {
   "cell_type": "code",
   "execution_count": 95,
   "id": "9646b796",
   "metadata": {},
   "outputs": [
    {
     "data": {
      "text/plain": [
       "array([[48010226.  ,    35000.  ,    35000.  ,       13.33,     1184.86,     9452.96],\n",
       "       [57693261.  ,    30000.  ,    30000.  , 68616520.  ,      938.57,     4679.7 ],\n",
       "       [59432726.  ,    15000.  ,    15000.  , 68616520.  ,      494.86,     1969.83],\n",
       "       ...,\n",
       "       [50415990.  ,    10000.  ,    10000.  , 68616520.  , 68616520.  ,     2185.64],\n",
       "       [46154151.  , 68616520.  ,    10000.  ,       16.55,      354.3 ,     3199.4 ],\n",
       "       [66055249.  ,    10000.  ,    10000.  , 68616520.  ,      309.97,      301.9 ]])"
      ]
     },
     "execution_count": 95,
     "metadata": {},
     "output_type": "execute_result"
    }
   ],
   "source": [
    "# Vizualização dos dados\n",
    "arr_num"
   ]
  },
  {
   "cell_type": "code",
   "execution_count": 96,
   "id": "a5ab3dd6",
   "metadata": {},
   "outputs": [
    {
     "data": {
      "text/plain": [
       "array(['id', 'loan_amnt', 'funded_amnt', 'int_rate', 'installment', 'total_pymnt'], dtype='<U19')"
      ]
     },
     "execution_count": 96,
     "metadata": {},
     "output_type": "execute_result"
    }
   ],
   "source": [
    "# Nomes das colunas numéricas\n",
    "header_num"
   ]
  },
  {
   "cell_type": "code",
   "execution_count": 97,
   "id": "c24f7966",
   "metadata": {},
   "outputs": [
    {
     "data": {
      "text/plain": [
       "0"
      ]
     },
     "execution_count": 97,
     "metadata": {},
     "output_type": "execute_result"
    }
   ],
   "source": [
    "# Não temos valor ausente, pois ao carregar os dados substituímos por um valor arbitrário\n",
    "np.isnan(arr_num).sum()"
   ]
  },
  {
   "cell_type": "code",
   "execution_count": 98,
   "id": "3dbdfcc7",
   "metadata": {},
   "outputs": [
    {
     "data": {
      "text/plain": [
       "68616520.0"
      ]
     },
     "execution_count": 98,
     "metadata": {},
     "output_type": "execute_result"
    }
   ],
   "source": [
    "valor_um"
   ]
  },
  {
   "cell_type": "code",
   "execution_count": 99,
   "id": "32a19b1f",
   "metadata": {},
   "outputs": [
    {
     "data": {
      "text/plain": [
       "0"
      ]
     },
     "execution_count": 99,
     "metadata": {},
     "output_type": "execute_result"
    }
   ],
   "source": [
    "# Verificar se uma coluna foi preenchida com valor_um\n",
    "np.isin(arr_num[:,0], valor_um).sum()"
   ]
  },
  {
   "cell_type": "markdown",
   "id": "4e558595",
   "metadata": {},
   "source": [
    "Vamos criar um array de estatísticas, especificamente valor mínimo, máximo e média de cada variável. Será usado para tratamento de valores ausentes (preenchidos com o valor_um)."
   ]
  },
  {
   "cell_type": "code",
   "execution_count": 100,
   "id": "11db5654",
   "metadata": {},
   "outputs": [],
   "source": [
    "# Criamos um array com valor mínimo, média e valor máximo ignorando nan\n",
    "# Usaremos isso no tratamento de valores ausentes\n",
    "arr_stats = np.array([np.nanmin(dados, axis = 0), media_ignorando_nan, np.nanmax(dados, axis = 0)])"
   ]
  },
  {
   "cell_type": "code",
   "execution_count": 101,
   "id": "f8b90944",
   "metadata": {},
   "outputs": [
    {
     "data": {
      "text/plain": [
       "array([[  373332.  ,         nan,     1000.  ,         nan,     1000.  ,         nan,        6.  ,       31.42,         nan,         nan,         nan,         nan,         nan,        0.  ],\n",
       "       [54015809.19,         nan,    15273.46,         nan,    15311.04,         nan,       16.62,      440.92,         nan,         nan,         nan,         nan,         nan,     3143.85],\n",
       "       [68616519.  ,         nan,    35000.  ,         nan,    35000.  ,         nan,       28.99,     1372.97,         nan,         nan,         nan,         nan,         nan,    41913.62]])"
      ]
     },
     "execution_count": 101,
     "metadata": {},
     "output_type": "execute_result"
    }
   ],
   "source": [
    "arr_stats"
   ]
  },
  {
   "cell_type": "code",
   "execution_count": 102,
   "id": "8abe8ec6",
   "metadata": {},
   "outputs": [
    {
     "data": {
      "text/plain": [
       "array([[  373332.  ,     1000.  ,     1000.  ,        6.  ,       31.42,        0.  ],\n",
       "       [54015809.19,    15273.46,    15311.04,       16.62,      440.92,     3143.85],\n",
       "       [68616519.  ,    35000.  ,    35000.  ,       28.99,     1372.97,    41913.62]])"
      ]
     },
     "execution_count": 102,
     "metadata": {},
     "output_type": "execute_result"
    }
   ],
   "source": [
    "arr_stats[:, colunas_num]"
   ]
  },
  {
   "cell_type": "markdown",
   "id": "04afe3e5",
   "metadata": {},
   "source": [
    "### Pré-Processamento da Variável funded_amnt"
   ]
  },
  {
   "cell_type": "code",
   "execution_count": 103,
   "id": "e9cb7a54",
   "metadata": {},
   "outputs": [
    {
     "data": {
      "text/plain": [
       "array([35000., 30000., 15000., ..., 10000., 10000., 10000.])"
      ]
     },
     "execution_count": 103,
     "metadata": {},
     "output_type": "execute_result"
    }
   ],
   "source": [
    "# Visualiza dados\n",
    "arr_num[:,2]"
   ]
  },
  {
   "cell_type": "code",
   "execution_count": 104,
   "id": "33677190",
   "metadata": {},
   "outputs": [
    {
     "data": {
      "text/plain": [
       "1000.0"
      ]
     },
     "execution_count": 104,
     "metadata": {},
     "output_type": "execute_result"
    }
   ],
   "source": [
    "arr_stats[0,colunas_num[2]]"
   ]
  },
  {
   "cell_type": "code",
   "execution_count": 105,
   "id": "c3ddfc07",
   "metadata": {},
   "outputs": [],
   "source": [
    "# Ajustamos o conteúdo da coluna\n",
    "arr_num[:,2] = np.where(arr_num[:,2] == valor_um, arr_stats[0,colunas_num[2]], arr_num[:,2])"
   ]
  },
  {
   "cell_type": "code",
   "execution_count": 106,
   "id": "9195b7ff",
   "metadata": {},
   "outputs": [
    {
     "data": {
      "text/plain": [
       "array([35000., 30000., 15000., ..., 10000., 10000., 10000.])"
      ]
     },
     "execution_count": 106,
     "metadata": {},
     "output_type": "execute_result"
    }
   ],
   "source": [
    "arr_num[:,2]"
   ]
  },
  {
   "cell_type": "markdown",
   "id": "1ae0024a",
   "metadata": {},
   "source": [
    "### Pré-Processamento das Variáveis loan_amnt, int_rate, installment e total_pymnt"
   ]
  },
  {
   "cell_type": "code",
   "execution_count": 107,
   "id": "aa76692a",
   "metadata": {},
   "outputs": [
    {
     "data": {
      "text/plain": [
       "array(['id', 'loan_amnt', 'funded_amnt', 'int_rate', 'installment', 'total_pymnt'], dtype='<U19')"
      ]
     },
     "execution_count": 107,
     "metadata": {},
     "output_type": "execute_result"
    }
   ],
   "source": [
    "# Nomeas das colunas\n",
    "header_num"
   ]
  },
  {
   "cell_type": "code",
   "execution_count": 108,
   "id": "71c99ac4",
   "metadata": {},
   "outputs": [],
   "source": [
    "# Loop para substituir o valor ausente(valor_um) pelos valores do array de estatísticas\n",
    "for i in [1,3,4,5]:\n",
    "    arr_num[:,i] = np.where(arr_num[:,i] == valor_um, arr_stats[2, colunas_num[i]], arr_num[:,i])"
   ]
  },
  {
   "cell_type": "code",
   "execution_count": 109,
   "id": "09a9e9a7",
   "metadata": {},
   "outputs": [
    {
     "data": {
      "text/plain": [
       "array([[48010226.  ,    35000.  ,    35000.  ,       13.33,     1184.86,     9452.96],\n",
       "       [57693261.  ,    30000.  ,    30000.  ,       28.99,      938.57,     4679.7 ],\n",
       "       [59432726.  ,    15000.  ,    15000.  ,       28.99,      494.86,     1969.83],\n",
       "       ...,\n",
       "       [50415990.  ,    10000.  ,    10000.  ,       28.99,     1372.97,     2185.64],\n",
       "       [46154151.  ,    35000.  ,    10000.  ,       16.55,      354.3 ,     3199.4 ],\n",
       "       [66055249.  ,    10000.  ,    10000.  ,       28.99,      309.97,      301.9 ]])"
      ]
     },
     "execution_count": 109,
     "metadata": {},
     "output_type": "execute_result"
    }
   ],
   "source": [
    "arr_num"
   ]
  },
  {
   "cell_type": "markdown",
   "id": "1f8d288e",
   "metadata": {},
   "source": [
    "<font color= 'blue'><h3>ETAPA 3 - Carregar Segundo Dataset para trabalhar em conjunto</h3></font>"
   ]
  },
  {
   "cell_type": "markdown",
   "id": "4cc9438e",
   "metadata": {},
   "source": [
    "### Trabalhando com o Segundo Dataset\n",
    "O segundo dataset fornece os dados de cotação USD - EURO. Cada linha do dataset corresponde à taxa de câmbio para um mês em um ano.\n",
    "- Usaremos o arr_string por possuir a variável issue_date(mês do empréstimo) para inserir a taxa de cotação do mês\n",
    "- Será criada uma nova variável \n",
    "- Será tratado o valor ausente pela média das cotações\n",
    "- Como o dataset está em dólar, vamos acrescentar as informações em euros utilizando a taxa de câmbio por mês."
   ]
  },
  {
   "cell_type": "code",
   "execution_count": 110,
   "id": "3a5e54f0",
   "metadata": {},
   "outputs": [],
   "source": [
    "# Carrega o segundo dataset\n",
    "dados_cot = np.genfromtxt('dados/dataset2.csv',\n",
    "                          delimiter = ',',\n",
    "                         autostrip = True,\n",
    "                         skip_header = 1,\n",
    "                         usecols = 3)"
   ]
  },
  {
   "cell_type": "code",
   "execution_count": 111,
   "id": "41e64591",
   "metadata": {},
   "outputs": [
    {
     "data": {
      "text/plain": [
       "array([1.13, 1.12, 1.08, 1.11, 1.1 , 1.12, 1.09, 1.13, 1.13, 1.1 , 1.06, 1.09])"
      ]
     },
     "execution_count": 111,
     "metadata": {},
     "output_type": "execute_result"
    }
   ],
   "source": [
    "# Visualiza\n",
    "dados_cot"
   ]
  },
  {
   "cell_type": "code",
   "execution_count": 112,
   "id": "178b185b",
   "metadata": {},
   "outputs": [
    {
     "data": {
      "text/plain": [
       "array(['issue_date', 'loan_status', 'term_months', 'sub_grade', 'verification_status', 'state_address'], dtype='<U19')"
      ]
     },
     "execution_count": 112,
     "metadata": {},
     "output_type": "execute_result"
    }
   ],
   "source": [
    "# Colunas\n",
    "header_string"
   ]
  },
  {
   "cell_type": "code",
   "execution_count": 113,
   "id": "aeefe05f",
   "metadata": {},
   "outputs": [
    {
     "data": {
      "text/plain": [
       "0"
      ]
     },
     "execution_count": 113,
     "metadata": {},
     "output_type": "execute_result"
    }
   ],
   "source": [
    "# A coluna 0 do arr_string é o mês\n",
    "arr_string[:,0].min()"
   ]
  },
  {
   "cell_type": "code",
   "execution_count": 114,
   "id": "658ce216",
   "metadata": {},
   "outputs": [],
   "source": [
    "# Atribuição da coluna de mês à nova variável\n",
    "taxa_cambio = arr_string[:,0]"
   ]
  },
  {
   "cell_type": "code",
   "execution_count": 115,
   "id": "d20bb230",
   "metadata": {},
   "outputs": [
    {
     "data": {
      "text/plain": [
       "array([ 5,  0,  9, ...,  6,  4, 12])"
      ]
     },
     "execution_count": 115,
     "metadata": {},
     "output_type": "execute_result"
    }
   ],
   "source": [
    "taxa_cambio"
   ]
  },
  {
   "cell_type": "code",
   "execution_count": 116,
   "id": "754277f7",
   "metadata": {},
   "outputs": [],
   "source": [
    "# Loop para trocar os valores da variável taxa_cambio(mês) para o valor da taxa de cambio referente àquele mês\n",
    "# Usamos dados_cot[i -1] devido a forma como carregamos os meses para comportar o zero\n",
    "# lembrando: a numeração dos meses da issue_date vai de 0 a 12, o valor 0 foi aplicado para preencher valores nulos\n",
    "for i in range(1, 13):\n",
    "    taxa_cambio = np.where(taxa_cambio == i, dados_cot[i - 1], taxa_cambio)"
   ]
  },
  {
   "cell_type": "code",
   "execution_count": 117,
   "id": "4658bd47",
   "metadata": {},
   "outputs": [
    {
     "data": {
      "text/plain": [
       "array([1.1 , 0.  , 1.13, ..., 1.12, 1.11, 1.09])"
      ]
     },
     "execution_count": 117,
     "metadata": {},
     "output_type": "execute_result"
    }
   ],
   "source": [
    "taxa_cambio"
   ]
  },
  {
   "cell_type": "code",
   "execution_count": 118,
   "id": "b078edf3",
   "metadata": {},
   "outputs": [],
   "source": [
    "# Substituiremos o valor 0 pela média\n",
    "taxa_cambio = np.where(taxa_cambio == 0, np.mean(dados_cot), taxa_cambio)"
   ]
  },
  {
   "cell_type": "code",
   "execution_count": 119,
   "id": "3415f118",
   "metadata": {},
   "outputs": [
    {
     "data": {
      "text/plain": [
       "array([1.1 , 1.11, 1.13, ..., 1.12, 1.11, 1.09])"
      ]
     },
     "execution_count": 119,
     "metadata": {},
     "output_type": "execute_result"
    }
   ],
   "source": [
    "taxa_cambio"
   ]
  },
  {
   "cell_type": "code",
   "execution_count": 120,
   "id": "5caa1ed2",
   "metadata": {},
   "outputs": [
    {
     "data": {
      "text/plain": [
       "(10000,)"
      ]
     },
     "execution_count": 120,
     "metadata": {},
     "output_type": "execute_result"
    }
   ],
   "source": [
    "taxa_cambio.shape"
   ]
  },
  {
   "cell_type": "code",
   "execution_count": 121,
   "id": "ef517fa8",
   "metadata": {},
   "outputs": [
    {
     "data": {
      "text/plain": [
       "True"
      ]
     },
     "execution_count": 121,
     "metadata": {},
     "output_type": "execute_result"
    }
   ],
   "source": [
    "np.array_equal(taxa_cambio.shape[0], arr_string.shape[0])"
   ]
  },
  {
   "cell_type": "code",
   "execution_count": 122,
   "id": "fa6ac959",
   "metadata": {},
   "outputs": [],
   "source": [
    "taxa_cambio = np.reshape(taxa_cambio, (10000,1))"
   ]
  },
  {
   "cell_type": "code",
   "execution_count": 123,
   "id": "b5334c9f",
   "metadata": {},
   "outputs": [],
   "source": [
    "# Concatenação dos arrays\n",
    "arr_num = np.hstack((arr_num, taxa_cambio))"
   ]
  },
  {
   "cell_type": "code",
   "execution_count": 124,
   "id": "6ddd89fe",
   "metadata": {},
   "outputs": [],
   "source": [
    "# Inclui o nome da coluna no array de nomes\n",
    "header_num = np.concatenate((header_num, np.array(['taxa_cambio'])))"
   ]
  },
  {
   "cell_type": "markdown",
   "id": "9f72d91d",
   "metadata": {},
   "source": [
    "Vamos criar colunas para as taxas de câmbio em USD e EURO."
   ]
  },
  {
   "cell_type": "code",
   "execution_count": 125,
   "id": "14a971e3",
   "metadata": {},
   "outputs": [
    {
     "data": {
      "text/plain": [
       "array(['id', 'loan_amnt', 'funded_amnt', 'int_rate', 'installment', 'total_pymnt', 'taxa_cambio'], dtype='<U19')"
      ]
     },
     "execution_count": 125,
     "metadata": {},
     "output_type": "execute_result"
    }
   ],
   "source": [
    "header_num"
   ]
  },
  {
   "cell_type": "code",
   "execution_count": 126,
   "id": "a639ca41",
   "metadata": {},
   "outputs": [],
   "source": [
    "# Criação de um array apenas com as colunas que fornecem valores em dólar\n",
    "colunas_dolar = np.array([1,2,4,5])"
   ]
  },
  {
   "cell_type": "code",
   "execution_count": 127,
   "id": "3b62967f",
   "metadata": {},
   "outputs": [
    {
     "data": {
      "text/plain": [
       "array([1.1 , 1.11, 1.13, ..., 1.12, 1.11, 1.09])"
      ]
     },
     "execution_count": 127,
     "metadata": {},
     "output_type": "execute_result"
    }
   ],
   "source": [
    "# Visualiza\n",
    "arr_num[:,6]"
   ]
  },
  {
   "cell_type": "code",
   "execution_count": 128,
   "id": "4766a4fa",
   "metadata": {},
   "outputs": [
    {
     "data": {
      "text/plain": [
       "(10000, 7)"
      ]
     },
     "execution_count": 128,
     "metadata": {},
     "output_type": "execute_result"
    }
   ],
   "source": [
    "# Shape\n",
    "arr_num.shape"
   ]
  },
  {
   "cell_type": "code",
   "execution_count": 129,
   "id": "8e7f5a85",
   "metadata": {},
   "outputs": [],
   "source": [
    "# Temos 4 colunas com valore em dólar então teremos 4 colunas com valores em euros\n",
    "# Loop pelas colunas USD para aplicar a taxa de conversão para EURO\n",
    "for i in colunas_dolar:\n",
    "    arr_num = np.hstack((arr_num, np.reshape(arr_num[:,i] / arr_num[:,6], (10000,1))))"
   ]
  },
  {
   "cell_type": "code",
   "execution_count": 130,
   "id": "f87e3ff6",
   "metadata": {},
   "outputs": [
    {
     "data": {
      "text/plain": [
       "(10000, 11)"
      ]
     },
     "execution_count": 130,
     "metadata": {},
     "output_type": "execute_result"
    }
   ],
   "source": [
    "# Shape\n",
    "arr_num.shape"
   ]
  },
  {
   "cell_type": "code",
   "execution_count": 131,
   "id": "f51e98bc",
   "metadata": {},
   "outputs": [
    {
     "data": {
      "text/plain": [
       "array([[48010226.  ,    35000.  ,    35000.  , ...,    31933.3 ,     1081.04,     8624.69],\n",
       "       [57693261.  ,    30000.  ,    30000.  , ...,    27132.46,      848.86,     4232.39],\n",
       "       [59432726.  ,    15000.  ,    15000.  , ...,    13326.3 ,      439.64,     1750.04],\n",
       "       ...,\n",
       "       [50415990.  ,    10000.  ,    10000.  , ...,     8910.3 ,     1223.36,     1947.47],\n",
       "       [46154151.  ,    35000.  ,    10000.  , ...,     8997.4 ,      318.78,     2878.63],\n",
       "       [66055249.  ,    10000.  ,    10000.  , ...,     9145.8 ,      283.49,      276.11]])"
      ]
     },
     "execution_count": 131,
     "metadata": {},
     "output_type": "execute_result"
    }
   ],
   "source": [
    "arr_num"
   ]
  },
  {
   "cell_type": "markdown",
   "id": "92ac97e8",
   "metadata": {},
   "source": [
    "Vamos nomear as novas colunas criadas "
   ]
  },
  {
   "cell_type": "code",
   "execution_count": 132,
   "id": "c49643b7",
   "metadata": {},
   "outputs": [],
   "source": [
    "header_add = np.array([column_name + '_EUR' for column_name in header_num[colunas_dolar]])"
   ]
  },
  {
   "cell_type": "code",
   "execution_count": 133,
   "id": "f7a60df8",
   "metadata": {},
   "outputs": [
    {
     "data": {
      "text/plain": [
       "array(['loan_amnt_EUR', 'funded_amnt_EUR', 'installment_EUR', 'total_pymnt_EUR'], dtype='<U15')"
      ]
     },
     "execution_count": 133,
     "metadata": {},
     "output_type": "execute_result"
    }
   ],
   "source": [
    "header_add"
   ]
  },
  {
   "cell_type": "code",
   "execution_count": 134,
   "id": "7de8e28d",
   "metadata": {},
   "outputs": [],
   "source": [
    "header_num = np.concatenate((header_num, header_add))"
   ]
  },
  {
   "cell_type": "code",
   "execution_count": 135,
   "id": "cd3e5d9e",
   "metadata": {},
   "outputs": [
    {
     "data": {
      "text/plain": [
       "array(['id', 'loan_amnt', 'funded_amnt', 'int_rate', 'installment', 'total_pymnt', 'taxa_cambio', 'loan_amnt_EUR', 'funded_amnt_EUR', 'installment_EUR', 'total_pymnt_EUR'], dtype='<U19')"
      ]
     },
     "execution_count": 135,
     "metadata": {},
     "output_type": "execute_result"
    }
   ],
   "source": [
    "header_num"
   ]
  },
  {
   "cell_type": "code",
   "execution_count": 136,
   "id": "e21af646",
   "metadata": {},
   "outputs": [],
   "source": [
    "# Acrescentando o _USD ao nome das colunas que estão em dólar \n",
    "header_num[colunas_dolar] = np.array([column_name + '_USD' for column_name in header_num[colunas_dolar]])"
   ]
  },
  {
   "cell_type": "code",
   "execution_count": 137,
   "id": "e0b25183",
   "metadata": {},
   "outputs": [
    {
     "data": {
      "text/plain": [
       "array(['id', 'loan_amnt_USD', 'funded_amnt_USD', 'int_rate', 'installment_USD', 'total_pymnt_USD', 'taxa_cambio', 'loan_amnt_EUR', 'funded_amnt_EUR', 'installment_EUR', 'total_pymnt_EUR'],\n",
       "      dtype='<U19')"
      ]
     },
     "execution_count": 137,
     "metadata": {},
     "output_type": "execute_result"
    }
   ],
   "source": [
    "header_num"
   ]
  },
  {
   "cell_type": "code",
   "execution_count": 138,
   "id": "6ad467c3",
   "metadata": {},
   "outputs": [],
   "source": [
    "# Reordenando as colunas para melhorar a visualização\n",
    "columns_index_order = [0,1,7,2,8,3,4,9,5,10,6]"
   ]
  },
  {
   "cell_type": "code",
   "execution_count": 139,
   "id": "6ddb2643",
   "metadata": {},
   "outputs": [],
   "source": [
    "header_num = header_num[columns_index_order]"
   ]
  },
  {
   "cell_type": "code",
   "execution_count": 140,
   "id": "d5054f13",
   "metadata": {},
   "outputs": [
    {
     "data": {
      "text/plain": [
       "array(['id', 'loan_amnt_USD', 'loan_amnt_EUR', 'funded_amnt_USD', 'funded_amnt_EUR', 'int_rate', 'installment_USD', 'installment_EUR', 'total_pymnt_USD', 'total_pymnt_EUR', 'taxa_cambio'],\n",
       "      dtype='<U19')"
      ]
     },
     "execution_count": 140,
     "metadata": {},
     "output_type": "execute_result"
    }
   ],
   "source": [
    "header_num"
   ]
  },
  {
   "cell_type": "code",
   "execution_count": 141,
   "id": "1a010403",
   "metadata": {},
   "outputs": [
    {
     "data": {
      "text/plain": [
       "array([[48010226.  ,    35000.  ,    35000.  , ...,    31933.3 ,     1081.04,     8624.69],\n",
       "       [57693261.  ,    30000.  ,    30000.  , ...,    27132.46,      848.86,     4232.39],\n",
       "       [59432726.  ,    15000.  ,    15000.  , ...,    13326.3 ,      439.64,     1750.04],\n",
       "       ...,\n",
       "       [50415990.  ,    10000.  ,    10000.  , ...,     8910.3 ,     1223.36,     1947.47],\n",
       "       [46154151.  ,    35000.  ,    10000.  , ...,     8997.4 ,      318.78,     2878.63],\n",
       "       [66055249.  ,    10000.  ,    10000.  , ...,     9145.8 ,      283.49,      276.11]])"
      ]
     },
     "execution_count": 141,
     "metadata": {},
     "output_type": "execute_result"
    }
   ],
   "source": [
    "arr_num"
   ]
  },
  {
   "cell_type": "code",
   "execution_count": 142,
   "id": "0d07a7f2",
   "metadata": {},
   "outputs": [],
   "source": [
    "arr_num = arr_num[:, columns_index_order]"
   ]
  },
  {
   "cell_type": "code",
   "execution_count": 143,
   "id": "b0c36eb2",
   "metadata": {},
   "outputs": [
    {
     "data": {
      "text/plain": [
       "array([[48010226.  ,    35000.  ,    31933.3 , ...,     9452.96,     8624.69,        1.1 ],\n",
       "       [57693261.  ,    30000.  ,    27132.46, ...,     4679.7 ,     4232.39,        1.11],\n",
       "       [59432726.  ,    15000.  ,    13326.3 , ...,     1969.83,     1750.04,        1.13],\n",
       "       ...,\n",
       "       [50415990.  ,    10000.  ,     8910.3 , ...,     2185.64,     1947.47,        1.12],\n",
       "       [46154151.  ,    35000.  ,    31490.9 , ...,     3199.4 ,     2878.63,        1.11],\n",
       "       [66055249.  ,    10000.  ,     9145.8 , ...,      301.9 ,      276.11,        1.09]])"
      ]
     },
     "execution_count": 143,
     "metadata": {},
     "output_type": "execute_result"
    }
   ],
   "source": [
    "arr_num"
   ]
  },
  {
   "cell_type": "markdown",
   "id": "af086a01",
   "metadata": {},
   "source": [
    "### Pré_Processamento da Variável int_rate(taxa de juros)"
   ]
  },
  {
   "cell_type": "code",
   "execution_count": 144,
   "id": "f74705eb",
   "metadata": {},
   "outputs": [
    {
     "data": {
      "text/plain": [
       "array(['id', 'loan_amnt_USD', 'loan_amnt_EUR', 'funded_amnt_USD', 'funded_amnt_EUR', 'int_rate', 'installment_USD', 'installment_EUR', 'total_pymnt_USD', 'total_pymnt_EUR', 'taxa_cambio'],\n",
       "      dtype='<U19')"
      ]
     },
     "execution_count": 144,
     "metadata": {},
     "output_type": "execute_result"
    }
   ],
   "source": [
    "header_num"
   ]
  },
  {
   "cell_type": "code",
   "execution_count": 145,
   "id": "9bbbf664",
   "metadata": {},
   "outputs": [
    {
     "data": {
      "text/plain": [
       "array([13.33, 28.99, 28.99, ..., 28.99, 16.55, 28.99])"
      ]
     },
     "execution_count": 145,
     "metadata": {},
     "output_type": "execute_result"
    }
   ],
   "source": [
    "arr_num[:,5]"
   ]
  },
  {
   "cell_type": "code",
   "execution_count": 146,
   "id": "a63a58a2",
   "metadata": {},
   "outputs": [],
   "source": [
    "# Vamos colocar a taxa de juros no formato de porcentagem\n",
    "arr_num[:,5] = arr_num[:,5] / 100"
   ]
  },
  {
   "cell_type": "code",
   "execution_count": 147,
   "id": "35330528",
   "metadata": {},
   "outputs": [
    {
     "data": {
      "text/plain": [
       "array([0.13, 0.29, 0.29, ..., 0.29, 0.17, 0.29])"
      ]
     },
     "execution_count": 147,
     "metadata": {},
     "output_type": "execute_result"
    }
   ],
   "source": [
    "arr_num[:,5]"
   ]
  },
  {
   "cell_type": "markdown",
   "id": "f53ac7a4",
   "metadata": {},
   "source": [
    "### Checkpoint com Variáveis Numéricas Limpas e Pré-Processadas\n",
    "**Checkpoint 3**"
   ]
  },
  {
   "cell_type": "code",
   "execution_count": 148,
   "id": "c40f96f6",
   "metadata": {},
   "outputs": [],
   "source": [
    "checkpoint_num = checkpoint('dados/Checkpoint-Num', header_num, arr_num)"
   ]
  },
  {
   "cell_type": "code",
   "execution_count": 149,
   "id": "19a3b015",
   "metadata": {},
   "outputs": [
    {
     "data": {
      "text/plain": [
       "(array(['id', 'loan_amnt_USD', 'loan_amnt_EUR', 'funded_amnt_USD', 'funded_amnt_EUR', 'int_rate', 'installment_USD', 'installment_EUR', 'total_pymnt_USD', 'total_pymnt_EUR', 'taxa_cambio'],\n",
       "       dtype='<U19'),\n",
       " array([[48010226.  ,    35000.  ,    31933.3 , ...,     9452.96,     8624.69,        1.1 ],\n",
       "        [57693261.  ,    30000.  ,    27132.46, ...,     4679.7 ,     4232.39,        1.11],\n",
       "        [59432726.  ,    15000.  ,    13326.3 , ...,     1969.83,     1750.04,        1.13],\n",
       "        ...,\n",
       "        [50415990.  ,    10000.  ,     8910.3 , ...,     2185.64,     1947.47,        1.12],\n",
       "        [46154151.  ,    35000.  ,    31490.9 , ...,     3199.4 ,     2878.63,        1.11],\n",
       "        [66055249.  ,    10000.  ,     9145.8 , ...,      301.9 ,      276.11,        1.09]]))"
      ]
     },
     "execution_count": 149,
     "metadata": {},
     "output_type": "execute_result"
    }
   ],
   "source": [
    "checkpoint_num['header'], checkpoint_num['data']"
   ]
  },
  {
   "cell_type": "markdown",
   "id": "264a9af1",
   "metadata": {},
   "source": [
    "### Construindo o Dataset final"
   ]
  },
  {
   "cell_type": "code",
   "execution_count": 150,
   "id": "e30c4005",
   "metadata": {},
   "outputs": [
    {
     "data": {
      "text/plain": [
       "(10000, 6)"
      ]
     },
     "execution_count": 150,
     "metadata": {},
     "output_type": "execute_result"
    }
   ],
   "source": [
    "checkpoint_string['data'].shape"
   ]
  },
  {
   "cell_type": "code",
   "execution_count": 151,
   "id": "179e45b3",
   "metadata": {},
   "outputs": [
    {
     "data": {
      "text/plain": [
       "(10000, 11)"
      ]
     },
     "execution_count": 151,
     "metadata": {},
     "output_type": "execute_result"
    }
   ],
   "source": [
    "checkpoint_num['data'].shape"
   ]
  },
  {
   "cell_type": "code",
   "execution_count": 152,
   "id": "fefeb5c7",
   "metadata": {},
   "outputs": [],
   "source": [
    "# Concatena os arrays\n",
    "df_final = np.hstack((checkpoint_num['data'], checkpoint_string['data']))"
   ]
  },
  {
   "cell_type": "code",
   "execution_count": 153,
   "id": "24638efa",
   "metadata": {},
   "outputs": [
    {
     "data": {
      "text/plain": [
       "array([[48010226.  ,    35000.  ,    31933.3 , ...,       13.  ,        1.  ,        1.  ],\n",
       "       [57693261.  ,    30000.  ,    27132.46, ...,        5.  ,        1.  ,        4.  ],\n",
       "       [59432726.  ,    15000.  ,    13326.3 , ...,       10.  ,        1.  ,        4.  ],\n",
       "       ...,\n",
       "       [50415990.  ,    10000.  ,     8910.3 , ...,        5.  ,        1.  ,        1.  ],\n",
       "       [46154151.  ,    35000.  ,    31490.9 , ...,       17.  ,        1.  ,        3.  ],\n",
       "       [66055249.  ,    10000.  ,     9145.8 , ...,        4.  ,        0.  ,        3.  ]])"
      ]
     },
     "execution_count": 153,
     "metadata": {},
     "output_type": "execute_result"
    }
   ],
   "source": [
    "df_final"
   ]
  },
  {
   "cell_type": "code",
   "execution_count": 154,
   "id": "c3f6b94d",
   "metadata": {},
   "outputs": [
    {
     "data": {
      "text/plain": [
       "0"
      ]
     },
     "execution_count": 154,
     "metadata": {},
     "output_type": "execute_result"
    }
   ],
   "source": [
    "# Verifica se tem valor ausente\n",
    "np.isnan(df_final).sum()"
   ]
  },
  {
   "cell_type": "code",
   "execution_count": 155,
   "id": "cfe79894",
   "metadata": {},
   "outputs": [],
   "source": [
    "# Concatena os arrays de nomes de colunas\n",
    "header_full = np.concatenate((checkpoint_num['header'], checkpoint_string['header']))"
   ]
  },
  {
   "cell_type": "code",
   "execution_count": 156,
   "id": "b35bf477",
   "metadata": {},
   "outputs": [],
   "source": [
    "# Ordenando o dataset\n",
    "df_final = df_final[np.argsort(df_final[:,0])]"
   ]
  },
  {
   "cell_type": "code",
   "execution_count": 157,
   "id": "40b57daa",
   "metadata": {},
   "outputs": [
    {
     "data": {
      "text/plain": [
       "array([[  373332.  ,     9950.  ,     9038.08, ...,       21.  ,        0.  ,        1.  ],\n",
       "       [  575239.  ,    12000.  ,    10900.2 , ...,       25.  ,        1.  ,        2.  ],\n",
       "       [  707689.  ,    10000.  ,     8924.3 , ...,       13.  ,        1.  ,        0.  ],\n",
       "       ...,\n",
       "       [68614880.  ,     5600.  ,     5121.65, ...,        8.  ,        1.  ,        1.  ],\n",
       "       [68615915.  ,     4000.  ,     3658.32, ...,       10.  ,        1.  ,        2.  ],\n",
       "       [68616519.  ,    21600.  ,    19754.93, ...,        3.  ,        0.  ,        2.  ]])"
      ]
     },
     "execution_count": 157,
     "metadata": {},
     "output_type": "execute_result"
    }
   ],
   "source": [
    "df_final"
   ]
  },
  {
   "cell_type": "code",
   "execution_count": 158,
   "id": "bc3bac1c",
   "metadata": {},
   "outputs": [
    {
     "data": {
      "text/plain": [
       "array([   0,    1,    2, ..., 9997, 9998, 9999], dtype=int64)"
      ]
     },
     "execution_count": 158,
     "metadata": {},
     "output_type": "execute_result"
    }
   ],
   "source": [
    "# Conferindo a ordenação da coluna 0\n",
    "np.argsort(df_final[:,0])"
   ]
  },
  {
   "cell_type": "code",
   "execution_count": 159,
   "id": "6b6b0b04",
   "metadata": {},
   "outputs": [],
   "source": [
    "# Concatena o array de nomes de colunas com o array de dados\n",
    "df_final = np.vstack((header_full, df_final))"
   ]
  },
  {
   "cell_type": "markdown",
   "id": "e3fbefa8",
   "metadata": {},
   "source": [
    "### Gravando o Dataset Final Limpo e Pré-Processado"
   ]
  },
  {
   "cell_type": "code",
   "execution_count": 160,
   "id": "ee9f77d5",
   "metadata": {},
   "outputs": [],
   "source": [
    "# Salva em disco\n",
    "np.savetxt(\"dados/dataset_limpo_preprocessado.csv\", \n",
    "           df_final, \n",
    "           fmt = '%s',\n",
    "           delimiter = ',')"
   ]
  },
  {
   "cell_type": "markdown",
   "id": "a5974f1a",
   "metadata": {},
   "source": [
    "### Fim"
   ]
  }
 ],
 "metadata": {
  "kernelspec": {
   "display_name": "Python 3 (ipykernel)",
   "language": "python",
   "name": "python3"
  },
  "language_info": {
   "codemirror_mode": {
    "name": "ipython",
    "version": 3
   },
   "file_extension": ".py",
   "mimetype": "text/x-python",
   "name": "python",
   "nbconvert_exporter": "python",
   "pygments_lexer": "ipython3",
   "version": "3.9.7"
  }
 },
 "nbformat": 4,
 "nbformat_minor": 5
}
