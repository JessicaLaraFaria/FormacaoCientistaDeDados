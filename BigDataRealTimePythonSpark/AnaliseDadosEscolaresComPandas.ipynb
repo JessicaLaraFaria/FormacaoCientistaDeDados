{
 "cells": [
  {
   "cell_type": "markdown",
   "id": "7ffbab54",
   "metadata": {},
   "source": [
    "<div align='center'><font color='blue'>\n",
    "<h1>Estudo de Caso</h1>\n",
    "<h2>Análise de Dados Escolares com Pandas</h2></font>\n",
    "</div>"
   ]
  },
  {
   "cell_type": "markdown",
   "id": "61ab672f",
   "metadata": {},
   "source": [
    "Neste Estudo de Caso o objetivo é realizar um detalhado processo de análise de dados \n",
    "escolares cruzando, comparando e resumindo, diferentes tipos de informações. \\\n",
    "No total serão respondidas 25 perguntas de negócio que vão requerer analisar os dados \n",
    "por diferentes perspectivas. O Pandas será a única ferramenta usada. \\\n",
    "Usaremos para este trabalho dados fictícios, mas que poderiam representar dados reais. \\\n",
    "Os dados foram gerados a partir do Realistic Data Generator, no endereço: https://www.mockaroo.com"
   ]
  },
  {
   "cell_type": "code",
   "execution_count": 1,
   "id": "26be021f",
   "metadata": {},
   "outputs": [
    {
     "name": "stdout",
     "output_type": "stream",
     "text": [
      "Versão Python usada nesse Projeto:  3.9.7\n"
     ]
    }
   ],
   "source": [
    "# Versão do Python\n",
    "from platform import python_version\n",
    "print(\"Versão Python usada nesse Projeto: \", python_version())"
   ]
  },
  {
   "cell_type": "code",
   "execution_count": 2,
   "id": "a70514ce",
   "metadata": {},
   "outputs": [],
   "source": [
    "# Imports\n",
    "import pandas as pd"
   ]
  },
  {
   "cell_type": "code",
   "execution_count": 3,
   "id": "459313af",
   "metadata": {},
   "outputs": [
    {
     "name": "stdout",
     "output_type": "stream",
     "text": [
      "pandas: 1.3.4\n",
      "\n"
     ]
    }
   ],
   "source": [
    "# Versões dos pacotes usados neste jupyter notebook\n",
    "%reload_ext watermark\n",
    "%watermark --iversions"
   ]
  },
  {
   "cell_type": "markdown",
   "id": "76f5f7bb",
   "metadata": {},
   "source": [
    "### Carregando os dados\n",
    "- Serão carregados 3 datasets para explorar\n",
    "- Criação de um novo dataset"
   ]
  },
  {
   "cell_type": "markdown",
   "id": "434ba57a",
   "metadata": {},
   "source": [
    "Carregando o dataset das escolas"
   ]
  },
  {
   "cell_type": "code",
   "execution_count": 4,
   "id": "f5848135",
   "metadata": {},
   "outputs": [],
   "source": [
    "dados_escolas = pd.read_csv('dados/dataset_escolas.csv')"
   ]
  },
  {
   "cell_type": "code",
   "execution_count": 5,
   "id": "f187ac35",
   "metadata": {},
   "outputs": [
    {
     "data": {
      "text/plain": [
       "(15, 5)"
      ]
     },
     "execution_count": 5,
     "metadata": {},
     "output_type": "execute_result"
    }
   ],
   "source": [
    "dados_escolas.shape"
   ]
  },
  {
   "cell_type": "code",
   "execution_count": 6,
   "id": "1dc8e965",
   "metadata": {},
   "outputs": [
    {
     "data": {
      "text/html": [
       "<div>\n",
       "<style scoped>\n",
       "    .dataframe tbody tr th:only-of-type {\n",
       "        vertical-align: middle;\n",
       "    }\n",
       "\n",
       "    .dataframe tbody tr th {\n",
       "        vertical-align: top;\n",
       "    }\n",
       "\n",
       "    .dataframe thead th {\n",
       "        text-align: right;\n",
       "    }\n",
       "</style>\n",
       "<table border=\"1\" class=\"dataframe\">\n",
       "  <thead>\n",
       "    <tr style=\"text-align: right;\">\n",
       "      <th></th>\n",
       "      <th>ID_Escola</th>\n",
       "      <th>Nome_Escola</th>\n",
       "      <th>Tipo_Escola</th>\n",
       "      <th>Numero_Alunos</th>\n",
       "      <th>Orcamento_Anual</th>\n",
       "    </tr>\n",
       "  </thead>\n",
       "  <tbody>\n",
       "    <tr>\n",
       "      <th>0</th>\n",
       "      <td>0</td>\n",
       "      <td>Escola A</td>\n",
       "      <td>Publica</td>\n",
       "      <td>2917</td>\n",
       "      <td>1910635</td>\n",
       "    </tr>\n",
       "    <tr>\n",
       "      <th>1</th>\n",
       "      <td>1</td>\n",
       "      <td>Escola B</td>\n",
       "      <td>Publica</td>\n",
       "      <td>2949</td>\n",
       "      <td>1884411</td>\n",
       "    </tr>\n",
       "    <tr>\n",
       "      <th>2</th>\n",
       "      <td>2</td>\n",
       "      <td>Escola C</td>\n",
       "      <td>Particular</td>\n",
       "      <td>1761</td>\n",
       "      <td>1056600</td>\n",
       "    </tr>\n",
       "    <tr>\n",
       "      <th>3</th>\n",
       "      <td>3</td>\n",
       "      <td>Escola D</td>\n",
       "      <td>Publica</td>\n",
       "      <td>4635</td>\n",
       "      <td>3022020</td>\n",
       "    </tr>\n",
       "    <tr>\n",
       "      <th>4</th>\n",
       "      <td>4</td>\n",
       "      <td>Escola E</td>\n",
       "      <td>Particular</td>\n",
       "      <td>1468</td>\n",
       "      <td>917500</td>\n",
       "    </tr>\n",
       "  </tbody>\n",
       "</table>\n",
       "</div>"
      ],
      "text/plain": [
       "   ID_Escola Nome_Escola Tipo_Escola  Numero_Alunos  Orcamento_Anual\n",
       "0          0    Escola A     Publica           2917          1910635\n",
       "1          1    Escola B     Publica           2949          1884411\n",
       "2          2    Escola C  Particular           1761          1056600\n",
       "3          3    Escola D     Publica           4635          3022020\n",
       "4          4    Escola E  Particular           1468           917500"
      ]
     },
     "execution_count": 6,
     "metadata": {},
     "output_type": "execute_result"
    }
   ],
   "source": [
    "# Visualização\n",
    "dados_escolas.head()"
   ]
  },
  {
   "cell_type": "markdown",
   "id": "46a3fb26",
   "metadata": {},
   "source": [
    "Carregando o dataset dos estudantes de todas as escolas"
   ]
  },
  {
   "cell_type": "code",
   "execution_count": 7,
   "id": "43bd5e8b",
   "metadata": {},
   "outputs": [],
   "source": [
    "dados_estudantes = pd.read_csv('dados/dataset_estudantes.csv')"
   ]
  },
  {
   "cell_type": "code",
   "execution_count": 8,
   "id": "61063be9",
   "metadata": {},
   "outputs": [
    {
     "data": {
      "text/plain": [
       "(39160, 7)"
      ]
     },
     "execution_count": 8,
     "metadata": {},
     "output_type": "execute_result"
    }
   ],
   "source": [
    "dados_estudantes.shape"
   ]
  },
  {
   "cell_type": "code",
   "execution_count": 9,
   "id": "2b5d5233",
   "metadata": {},
   "outputs": [
    {
     "data": {
      "text/html": [
       "<div>\n",
       "<style scoped>\n",
       "    .dataframe tbody tr th:only-of-type {\n",
       "        vertical-align: middle;\n",
       "    }\n",
       "\n",
       "    .dataframe tbody tr th {\n",
       "        vertical-align: top;\n",
       "    }\n",
       "\n",
       "    .dataframe thead th {\n",
       "        text-align: right;\n",
       "    }\n",
       "</style>\n",
       "<table border=\"1\" class=\"dataframe\">\n",
       "  <thead>\n",
       "    <tr style=\"text-align: right;\">\n",
       "      <th></th>\n",
       "      <th>ID_Estudante</th>\n",
       "      <th>Nome_Estudante</th>\n",
       "      <th>Genero</th>\n",
       "      <th>Serie</th>\n",
       "      <th>Nome_Escola</th>\n",
       "      <th>Nota_Redacao</th>\n",
       "      <th>Nota_Matematica</th>\n",
       "    </tr>\n",
       "  </thead>\n",
       "  <tbody>\n",
       "    <tr>\n",
       "      <th>0</th>\n",
       "      <td>0</td>\n",
       "      <td>Kevin Bradley</td>\n",
       "      <td>M</td>\n",
       "      <td>6</td>\n",
       "      <td>Escola A</td>\n",
       "      <td>66</td>\n",
       "      <td>79</td>\n",
       "    </tr>\n",
       "    <tr>\n",
       "      <th>1</th>\n",
       "      <td>1</td>\n",
       "      <td>Paul Smith</td>\n",
       "      <td>M</td>\n",
       "      <td>9</td>\n",
       "      <td>Escola A</td>\n",
       "      <td>94</td>\n",
       "      <td>61</td>\n",
       "    </tr>\n",
       "    <tr>\n",
       "      <th>2</th>\n",
       "      <td>2</td>\n",
       "      <td>John Rodriguez</td>\n",
       "      <td>M</td>\n",
       "      <td>9</td>\n",
       "      <td>Escola A</td>\n",
       "      <td>90</td>\n",
       "      <td>60</td>\n",
       "    </tr>\n",
       "    <tr>\n",
       "      <th>3</th>\n",
       "      <td>3</td>\n",
       "      <td>Oliver Scott</td>\n",
       "      <td>M</td>\n",
       "      <td>9</td>\n",
       "      <td>Escola A</td>\n",
       "      <td>67</td>\n",
       "      <td>58</td>\n",
       "    </tr>\n",
       "    <tr>\n",
       "      <th>4</th>\n",
       "      <td>4</td>\n",
       "      <td>William Ray</td>\n",
       "      <td>F</td>\n",
       "      <td>6</td>\n",
       "      <td>Escola A</td>\n",
       "      <td>97</td>\n",
       "      <td>84</td>\n",
       "    </tr>\n",
       "  </tbody>\n",
       "</table>\n",
       "</div>"
      ],
      "text/plain": [
       "   ID_Estudante  Nome_Estudante Genero  Serie Nome_Escola  Nota_Redacao  \\\n",
       "0             0   Kevin Bradley      M      6    Escola A            66   \n",
       "1             1      Paul Smith      M      9    Escola A            94   \n",
       "2             2  John Rodriguez      M      9    Escola A            90   \n",
       "3             3    Oliver Scott      M      9    Escola A            67   \n",
       "4             4     William Ray      F      6    Escola A            97   \n",
       "\n",
       "   Nota_Matematica  \n",
       "0               79  \n",
       "1               61  \n",
       "2               60  \n",
       "3               58  \n",
       "4               84  "
      ]
     },
     "execution_count": 9,
     "metadata": {},
     "output_type": "execute_result"
    }
   ],
   "source": [
    "# Visualização\n",
    "dados_estudantes.head()"
   ]
  },
  {
   "cell_type": "markdown",
   "id": "8bf7d84b",
   "metadata": {},
   "source": [
    "Criação de um novo dataset com a junção do dados_estudantes e dados_escolas"
   ]
  },
  {
   "cell_type": "code",
   "execution_count": 10,
   "id": "303a8a57",
   "metadata": {},
   "outputs": [],
   "source": [
    "# Criação do dataset com valores dois dois datasets acima\n",
    "df_full = pd.merge(dados_estudantes, dados_escolas, how = 'left', on = ['Nome_Escola', 'Nome_Escola'])"
   ]
  },
  {
   "cell_type": "code",
   "execution_count": 11,
   "id": "476b57f5",
   "metadata": {},
   "outputs": [
    {
     "data": {
      "text/plain": [
       "(39160, 11)"
      ]
     },
     "execution_count": 11,
     "metadata": {},
     "output_type": "execute_result"
    }
   ],
   "source": [
    "df_full.shape"
   ]
  },
  {
   "cell_type": "code",
   "execution_count": 12,
   "id": "a469d7a6",
   "metadata": {},
   "outputs": [
    {
     "data": {
      "text/html": [
       "<div>\n",
       "<style scoped>\n",
       "    .dataframe tbody tr th:only-of-type {\n",
       "        vertical-align: middle;\n",
       "    }\n",
       "\n",
       "    .dataframe tbody tr th {\n",
       "        vertical-align: top;\n",
       "    }\n",
       "\n",
       "    .dataframe thead th {\n",
       "        text-align: right;\n",
       "    }\n",
       "</style>\n",
       "<table border=\"1\" class=\"dataframe\">\n",
       "  <thead>\n",
       "    <tr style=\"text-align: right;\">\n",
       "      <th></th>\n",
       "      <th>ID_Estudante</th>\n",
       "      <th>Nome_Estudante</th>\n",
       "      <th>Genero</th>\n",
       "      <th>Serie</th>\n",
       "      <th>Nome_Escola</th>\n",
       "      <th>Nota_Redacao</th>\n",
       "      <th>Nota_Matematica</th>\n",
       "      <th>ID_Escola</th>\n",
       "      <th>Tipo_Escola</th>\n",
       "      <th>Numero_Alunos</th>\n",
       "      <th>Orcamento_Anual</th>\n",
       "    </tr>\n",
       "  </thead>\n",
       "  <tbody>\n",
       "    <tr>\n",
       "      <th>0</th>\n",
       "      <td>0</td>\n",
       "      <td>Kevin Bradley</td>\n",
       "      <td>M</td>\n",
       "      <td>6</td>\n",
       "      <td>Escola A</td>\n",
       "      <td>66</td>\n",
       "      <td>79</td>\n",
       "      <td>0</td>\n",
       "      <td>Publica</td>\n",
       "      <td>2917</td>\n",
       "      <td>1910635</td>\n",
       "    </tr>\n",
       "    <tr>\n",
       "      <th>1</th>\n",
       "      <td>1</td>\n",
       "      <td>Paul Smith</td>\n",
       "      <td>M</td>\n",
       "      <td>9</td>\n",
       "      <td>Escola A</td>\n",
       "      <td>94</td>\n",
       "      <td>61</td>\n",
       "      <td>0</td>\n",
       "      <td>Publica</td>\n",
       "      <td>2917</td>\n",
       "      <td>1910635</td>\n",
       "    </tr>\n",
       "    <tr>\n",
       "      <th>2</th>\n",
       "      <td>2</td>\n",
       "      <td>John Rodriguez</td>\n",
       "      <td>M</td>\n",
       "      <td>9</td>\n",
       "      <td>Escola A</td>\n",
       "      <td>90</td>\n",
       "      <td>60</td>\n",
       "      <td>0</td>\n",
       "      <td>Publica</td>\n",
       "      <td>2917</td>\n",
       "      <td>1910635</td>\n",
       "    </tr>\n",
       "    <tr>\n",
       "      <th>3</th>\n",
       "      <td>3</td>\n",
       "      <td>Oliver Scott</td>\n",
       "      <td>M</td>\n",
       "      <td>9</td>\n",
       "      <td>Escola A</td>\n",
       "      <td>67</td>\n",
       "      <td>58</td>\n",
       "      <td>0</td>\n",
       "      <td>Publica</td>\n",
       "      <td>2917</td>\n",
       "      <td>1910635</td>\n",
       "    </tr>\n",
       "    <tr>\n",
       "      <th>4</th>\n",
       "      <td>4</td>\n",
       "      <td>William Ray</td>\n",
       "      <td>F</td>\n",
       "      <td>6</td>\n",
       "      <td>Escola A</td>\n",
       "      <td>97</td>\n",
       "      <td>84</td>\n",
       "      <td>0</td>\n",
       "      <td>Publica</td>\n",
       "      <td>2917</td>\n",
       "      <td>1910635</td>\n",
       "    </tr>\n",
       "  </tbody>\n",
       "</table>\n",
       "</div>"
      ],
      "text/plain": [
       "   ID_Estudante  Nome_Estudante Genero  Serie Nome_Escola  Nota_Redacao  \\\n",
       "0             0   Kevin Bradley      M      6    Escola A            66   \n",
       "1             1      Paul Smith      M      9    Escola A            94   \n",
       "2             2  John Rodriguez      M      9    Escola A            90   \n",
       "3             3    Oliver Scott      M      9    Escola A            67   \n",
       "4             4     William Ray      F      6    Escola A            97   \n",
       "\n",
       "   Nota_Matematica  ID_Escola Tipo_Escola  Numero_Alunos  Orcamento_Anual  \n",
       "0               79          0     Publica           2917          1910635  \n",
       "1               61          0     Publica           2917          1910635  \n",
       "2               60          0     Publica           2917          1910635  \n",
       "3               58          0     Publica           2917          1910635  \n",
       "4               84          0     Publica           2917          1910635  "
      ]
     },
     "execution_count": 12,
     "metadata": {},
     "output_type": "execute_result"
    }
   ],
   "source": [
    "# Visualização\n",
    "df_full.head()"
   ]
  },
  {
   "cell_type": "markdown",
   "id": "6769d545",
   "metadata": {},
   "source": [
    "<font color= 'blue'><h3>Análise do Dataset</h3></font>"
   ]
  },
  {
   "cell_type": "code",
   "execution_count": 13,
   "id": "23972619",
   "metadata": {},
   "outputs": [
    {
     "data": {
      "text/plain": [
       "array([6, 9, 8, 7], dtype=int64)"
      ]
     },
     "execution_count": 13,
     "metadata": {},
     "output_type": "execute_result"
    }
   ],
   "source": [
    "# Verificando os valores únicos na coluna Serie\n",
    "df_full['Serie'].unique()"
   ]
  },
  {
   "cell_type": "markdown",
   "id": "897384ed",
   "metadata": {},
   "source": [
    "**Temos dados de quantas escolas?**"
   ]
  },
  {
   "cell_type": "code",
   "execution_count": 14,
   "id": "48d381fe",
   "metadata": {},
   "outputs": [
    {
     "data": {
      "text/plain": [
       "15"
      ]
     },
     "execution_count": 14,
     "metadata": {},
     "output_type": "execute_result"
    }
   ],
   "source": [
    "tot_escolas = len(df_full['Nome_Escola'].unique()) ; tot_escolas"
   ]
  },
  {
   "cell_type": "markdown",
   "id": "8046d638",
   "metadata": {},
   "source": [
    "**Qual o total de registo de estudantes na base de estudantes?**"
   ]
  },
  {
   "cell_type": "code",
   "execution_count": 15,
   "id": "bf01be61",
   "metadata": {},
   "outputs": [
    {
     "data": {
      "text/plain": [
       "39160"
      ]
     },
     "execution_count": 15,
     "metadata": {},
     "output_type": "execute_result"
    }
   ],
   "source": [
    "tot_estudantes = df_full['ID_Estudante'].count() ; tot_estudantes"
   ]
  },
  {
   "cell_type": "markdown",
   "id": "0d9c9991",
   "metadata": {},
   "source": [
    "**Qual o orçamento total considerando todas as escolas?**"
   ]
  },
  {
   "cell_type": "code",
   "execution_count": 16,
   "id": "b2f9ca91",
   "metadata": {},
   "outputs": [
    {
     "data": {
      "text/plain": [
       "24649428"
      ]
     },
     "execution_count": 16,
     "metadata": {},
     "output_type": "execute_result"
    }
   ],
   "source": [
    "tot_orcamento = dados_escolas['Orcamento_Anual'].sum(); tot_orcamento"
   ]
  },
  {
   "cell_type": "markdown",
   "id": "30c07c99",
   "metadata": {},
   "source": [
    "**Qual a média da nota dos alunos em Redação?**"
   ]
  },
  {
   "cell_type": "code",
   "execution_count": 17,
   "id": "95929e66",
   "metadata": {},
   "outputs": [
    {
     "data": {
      "text/plain": [
       "81.87574055158325"
      ]
     },
     "execution_count": 17,
     "metadata": {},
     "output_type": "execute_result"
    }
   ],
   "source": [
    "nota_media_red = df_full['Nota_Redacao'].mean() ; nota_media_red"
   ]
  },
  {
   "cell_type": "markdown",
   "id": "c6b24bff",
   "metadata": {},
   "source": [
    "**Qual a média de notas dos alunos em Matemática?**"
   ]
  },
  {
   "cell_type": "code",
   "execution_count": 18,
   "id": "f536d307",
   "metadata": {},
   "outputs": [
    {
     "data": {
      "text/plain": [
       "78.98493360572012"
      ]
     },
     "execution_count": 18,
     "metadata": {},
     "output_type": "execute_result"
    }
   ],
   "source": [
    "nota_media_mat = df_full['Nota_Matematica'].mean() ; nota_media_mat"
   ]
  },
  {
   "cell_type": "markdown",
   "id": "7e212d40",
   "metadata": {},
   "source": [
    "**Considerando que a nota de aprovação é 70, quantos alunos foram aprovados em Redação?**"
   ]
  },
  {
   "cell_type": "code",
   "execution_count": 19,
   "id": "0d107474",
   "metadata": {},
   "outputs": [
    {
     "data": {
      "text/plain": [
       "33600"
      ]
     },
     "execution_count": 19,
     "metadata": {},
     "output_type": "execute_result"
    }
   ],
   "source": [
    "aprovados_red = df_full[(df_full['Nota_Redacao'] >= 70)].count()['Nome_Estudante'] ; aprovados_red"
   ]
  },
  {
   "cell_type": "markdown",
   "id": "17969328",
   "metadata": {},
   "source": [
    "**Resultado da célula acima em valor em percentual**"
   ]
  },
  {
   "cell_type": "code",
   "execution_count": 20,
   "id": "2a4ef2da",
   "metadata": {},
   "outputs": [
    {
     "data": {
      "text/plain": [
       "85.80183861082737"
      ]
     },
     "execution_count": 20,
     "metadata": {},
     "output_type": "execute_result"
    }
   ],
   "source": [
    "aprovados_red_perc = aprovados_red / float(tot_estudantes) * 100; aprovados_red_perc"
   ]
  },
  {
   "cell_type": "markdown",
   "id": "10035e2d",
   "metadata": {},
   "source": [
    "**Considerando que a nota de aprovação é 70, quantos alunos foram aprovados em Matemática?**"
   ]
  },
  {
   "cell_type": "code",
   "execution_count": 21,
   "id": "63628c07",
   "metadata": {},
   "outputs": [
    {
     "data": {
      "text/plain": [
       "29360"
      ]
     },
     "execution_count": 21,
     "metadata": {},
     "output_type": "execute_result"
    }
   ],
   "source": [
    "aprovados_mat = df_full[(df_full['Nota_Matematica'] >= 70)].count()['Nome_Estudante'] ; aprovados_mat"
   ]
  },
  {
   "cell_type": "markdown",
   "id": "e8145593",
   "metadata": {},
   "source": [
    "**Resultado da célula acima em valor em percentual**"
   ]
  },
  {
   "cell_type": "code",
   "execution_count": 22,
   "id": "a3cbdeb3",
   "metadata": {},
   "outputs": [
    {
     "data": {
      "text/plain": [
       "74.97446373850867"
      ]
     },
     "execution_count": 22,
     "metadata": {},
     "output_type": "execute_result"
    }
   ],
   "source": [
    "aprovados_mat_perc = aprovados_mat / float(tot_estudantes) * 100; aprovados_mat_perc"
   ]
  },
  {
   "cell_type": "markdown",
   "id": "fa9000ad",
   "metadata": {},
   "source": [
    "**Considerando que a nota de aprovação é 70, quantos alunos foram aprovados em Matemática e Redação?**"
   ]
  },
  {
   "cell_type": "code",
   "execution_count": 23,
   "id": "e190174c",
   "metadata": {},
   "outputs": [],
   "source": [
    "aprovados_mat_red = df_full[(df_full['Nota_Matematica'] >= 70) & (df_full['Nota_Redacao'] >= 70)].count()['Nome_Estudante']"
   ]
  },
  {
   "cell_type": "code",
   "execution_count": 24,
   "id": "ae33bbaa",
   "metadata": {},
   "outputs": [
    {
     "data": {
      "text/plain": [
       "25518"
      ]
     },
     "execution_count": 24,
     "metadata": {},
     "output_type": "execute_result"
    }
   ],
   "source": [
    "aprovados_mat_red"
   ]
  },
  {
   "cell_type": "markdown",
   "id": "208d1778",
   "metadata": {},
   "source": [
    "**Resultado da célula acima em valor em percentual**"
   ]
  },
  {
   "cell_type": "code",
   "execution_count": 25,
   "id": "bd5affb0",
   "metadata": {},
   "outputs": [
    {
     "data": {
      "text/plain": [
       "65.16343207354444"
      ]
     },
     "execution_count": 25,
     "metadata": {},
     "output_type": "execute_result"
    }
   ],
   "source": [
    "aprovados_mat_red_perc = aprovados_mat_red/ float(tot_estudantes) * 100; aprovados_mat_red_perc"
   ]
  },
  {
   "cell_type": "markdown",
   "id": "0497cb9c",
   "metadata": {},
   "source": [
    "**Crie um dataframe com os resultados das questões de 1 a 8 que você calculou acima.**"
   ]
  },
  {
   "cell_type": "code",
   "execution_count": 26,
   "id": "417ec79c",
   "metadata": {},
   "outputs": [],
   "source": [
    "df_performance_escolar = pd.DataFrame({'Total_Escolas' : [tot_escolas],\n",
    "                                       'Total_Estudantes' : [tot_estudantes],\n",
    "                                       'Orcamento_total' : [tot_orcamento],\n",
    "                                       'Nota_Media_Redacaoo': [nota_media_red], \n",
    "                                       'Nota_Média_Matematica': [nota_media_mat],\n",
    "                                       '% Aprovação Redação': [aprovados_red_perc],\n",
    "                                       '% Aprovação Matemática': [aprovados_mat_perc],\n",
    "                                       '% Aprovação Total': [aprovados_mat_red_perc]\n",
    "})"
   ]
  },
  {
   "cell_type": "code",
   "execution_count": 27,
   "id": "007bb4bf",
   "metadata": {},
   "outputs": [
    {
     "data": {
      "text/html": [
       "<div>\n",
       "<style scoped>\n",
       "    .dataframe tbody tr th:only-of-type {\n",
       "        vertical-align: middle;\n",
       "    }\n",
       "\n",
       "    .dataframe tbody tr th {\n",
       "        vertical-align: top;\n",
       "    }\n",
       "\n",
       "    .dataframe thead th {\n",
       "        text-align: right;\n",
       "    }\n",
       "</style>\n",
       "<table border=\"1\" class=\"dataframe\">\n",
       "  <thead>\n",
       "    <tr style=\"text-align: right;\">\n",
       "      <th></th>\n",
       "      <th>Total_Escolas</th>\n",
       "      <th>Total_Estudantes</th>\n",
       "      <th>Orcamento_total</th>\n",
       "      <th>Nota_Media_Redacaoo</th>\n",
       "      <th>Nota_Média_Matematica</th>\n",
       "      <th>% Aprovação Redação</th>\n",
       "      <th>% Aprovação Matemática</th>\n",
       "      <th>% Aprovação Total</th>\n",
       "    </tr>\n",
       "  </thead>\n",
       "  <tbody>\n",
       "    <tr>\n",
       "      <th>0</th>\n",
       "      <td>15</td>\n",
       "      <td>39160</td>\n",
       "      <td>24649428</td>\n",
       "      <td>81.875741</td>\n",
       "      <td>78.984934</td>\n",
       "      <td>85.801839</td>\n",
       "      <td>74.974464</td>\n",
       "      <td>65.163432</td>\n",
       "    </tr>\n",
       "  </tbody>\n",
       "</table>\n",
       "</div>"
      ],
      "text/plain": [
       "   Total_Escolas  Total_Estudantes  Orcamento_total  Nota_Media_Redacaoo  \\\n",
       "0             15             39160         24649428            81.875741   \n",
       "\n",
       "   Nota_Média_Matematica  % Aprovação Redação  % Aprovação Matemática  \\\n",
       "0              78.984934            85.801839               74.974464   \n",
       "\n",
       "   % Aprovação Total  \n",
       "0          65.163432  "
      ]
     },
     "execution_count": 27,
     "metadata": {},
     "output_type": "execute_result"
    }
   ],
   "source": [
    "df_performance_escolar"
   ]
  },
  {
   "cell_type": "code",
   "execution_count": 28,
   "id": "b193cddb",
   "metadata": {},
   "outputs": [
    {
     "data": {
      "text/plain": [
       "pandas.core.frame.DataFrame"
      ]
     },
     "execution_count": 28,
     "metadata": {},
     "output_type": "execute_result"
    }
   ],
   "source": [
    "type(df_performance_escolar)"
   ]
  },
  {
   "cell_type": "markdown",
   "id": "0494d0af",
   "metadata": {},
   "source": [
    "**Formate as colunas \"Total_Estudantes\" e \"Orcamento_total\" ajustando as casas decimais.**"
   ]
  },
  {
   "cell_type": "code",
   "execution_count": 29,
   "id": "e4ea0110",
   "metadata": {},
   "outputs": [],
   "source": [
    "df_performance_escolar[\"Total_Estudantes\"] = df_performance_escolar[\"Total_Estudantes\"].map(\"{:,}\".format)\n",
    "df_performance_escolar[\"Orcamento_total\"] = df_performance_escolar[\"Orcamento_total\"].map(\"{:,.2f}\".format)"
   ]
  },
  {
   "cell_type": "code",
   "execution_count": 30,
   "id": "3433b370",
   "metadata": {},
   "outputs": [
    {
     "data": {
      "text/html": [
       "<div>\n",
       "<style scoped>\n",
       "    .dataframe tbody tr th:only-of-type {\n",
       "        vertical-align: middle;\n",
       "    }\n",
       "\n",
       "    .dataframe tbody tr th {\n",
       "        vertical-align: top;\n",
       "    }\n",
       "\n",
       "    .dataframe thead th {\n",
       "        text-align: right;\n",
       "    }\n",
       "</style>\n",
       "<table border=\"1\" class=\"dataframe\">\n",
       "  <thead>\n",
       "    <tr style=\"text-align: right;\">\n",
       "      <th></th>\n",
       "      <th>Total_Escolas</th>\n",
       "      <th>Total_Estudantes</th>\n",
       "      <th>Orcamento_total</th>\n",
       "      <th>Nota_Media_Redacaoo</th>\n",
       "      <th>Nota_Média_Matematica</th>\n",
       "      <th>% Aprovação Redação</th>\n",
       "      <th>% Aprovação Matemática</th>\n",
       "      <th>% Aprovação Total</th>\n",
       "    </tr>\n",
       "  </thead>\n",
       "  <tbody>\n",
       "    <tr>\n",
       "      <th>0</th>\n",
       "      <td>15</td>\n",
       "      <td>39,160</td>\n",
       "      <td>24,649,428.00</td>\n",
       "      <td>81.875741</td>\n",
       "      <td>78.984934</td>\n",
       "      <td>85.801839</td>\n",
       "      <td>74.974464</td>\n",
       "      <td>65.163432</td>\n",
       "    </tr>\n",
       "  </tbody>\n",
       "</table>\n",
       "</div>"
      ],
      "text/plain": [
       "   Total_Escolas Total_Estudantes Orcamento_total  Nota_Media_Redacaoo  \\\n",
       "0             15           39,160   24,649,428.00            81.875741   \n",
       "\n",
       "   Nota_Média_Matematica  % Aprovação Redação  % Aprovação Matemática  \\\n",
       "0              78.984934            85.801839               74.974464   \n",
       "\n",
       "   % Aprovação Total  \n",
       "0          65.163432  "
      ]
     },
     "execution_count": 30,
     "metadata": {},
     "output_type": "execute_result"
    }
   ],
   "source": [
    "df_performance_escolar"
   ]
  },
  {
   "cell_type": "code",
   "execution_count": 31,
   "id": "f3ec96fa",
   "metadata": {},
   "outputs": [
    {
     "data": {
      "text/html": [
       "<div>\n",
       "<style scoped>\n",
       "    .dataframe tbody tr th:only-of-type {\n",
       "        vertical-align: middle;\n",
       "    }\n",
       "\n",
       "    .dataframe tbody tr th {\n",
       "        vertical-align: top;\n",
       "    }\n",
       "\n",
       "    .dataframe thead th {\n",
       "        text-align: right;\n",
       "    }\n",
       "</style>\n",
       "<table border=\"1\" class=\"dataframe\">\n",
       "  <thead>\n",
       "    <tr style=\"text-align: right;\">\n",
       "      <th></th>\n",
       "      <th>ID_Estudante</th>\n",
       "      <th>Nome_Estudante</th>\n",
       "      <th>Genero</th>\n",
       "      <th>Serie</th>\n",
       "      <th>Nome_Escola</th>\n",
       "      <th>Nota_Redacao</th>\n",
       "      <th>Nota_Matematica</th>\n",
       "      <th>ID_Escola</th>\n",
       "      <th>Tipo_Escola</th>\n",
       "      <th>Numero_Alunos</th>\n",
       "      <th>Orcamento_Anual</th>\n",
       "    </tr>\n",
       "  </thead>\n",
       "  <tbody>\n",
       "    <tr>\n",
       "      <th>0</th>\n",
       "      <td>0</td>\n",
       "      <td>Kevin Bradley</td>\n",
       "      <td>M</td>\n",
       "      <td>6</td>\n",
       "      <td>Escola A</td>\n",
       "      <td>66</td>\n",
       "      <td>79</td>\n",
       "      <td>0</td>\n",
       "      <td>Publica</td>\n",
       "      <td>2917</td>\n",
       "      <td>1910635</td>\n",
       "    </tr>\n",
       "    <tr>\n",
       "      <th>1</th>\n",
       "      <td>1</td>\n",
       "      <td>Paul Smith</td>\n",
       "      <td>M</td>\n",
       "      <td>9</td>\n",
       "      <td>Escola A</td>\n",
       "      <td>94</td>\n",
       "      <td>61</td>\n",
       "      <td>0</td>\n",
       "      <td>Publica</td>\n",
       "      <td>2917</td>\n",
       "      <td>1910635</td>\n",
       "    </tr>\n",
       "    <tr>\n",
       "      <th>2</th>\n",
       "      <td>2</td>\n",
       "      <td>John Rodriguez</td>\n",
       "      <td>M</td>\n",
       "      <td>9</td>\n",
       "      <td>Escola A</td>\n",
       "      <td>90</td>\n",
       "      <td>60</td>\n",
       "      <td>0</td>\n",
       "      <td>Publica</td>\n",
       "      <td>2917</td>\n",
       "      <td>1910635</td>\n",
       "    </tr>\n",
       "    <tr>\n",
       "      <th>3</th>\n",
       "      <td>3</td>\n",
       "      <td>Oliver Scott</td>\n",
       "      <td>M</td>\n",
       "      <td>9</td>\n",
       "      <td>Escola A</td>\n",
       "      <td>67</td>\n",
       "      <td>58</td>\n",
       "      <td>0</td>\n",
       "      <td>Publica</td>\n",
       "      <td>2917</td>\n",
       "      <td>1910635</td>\n",
       "    </tr>\n",
       "    <tr>\n",
       "      <th>4</th>\n",
       "      <td>4</td>\n",
       "      <td>William Ray</td>\n",
       "      <td>F</td>\n",
       "      <td>6</td>\n",
       "      <td>Escola A</td>\n",
       "      <td>97</td>\n",
       "      <td>84</td>\n",
       "      <td>0</td>\n",
       "      <td>Publica</td>\n",
       "      <td>2917</td>\n",
       "      <td>1910635</td>\n",
       "    </tr>\n",
       "    <tr>\n",
       "      <th>...</th>\n",
       "      <td>...</td>\n",
       "      <td>...</td>\n",
       "      <td>...</td>\n",
       "      <td>...</td>\n",
       "      <td>...</td>\n",
       "      <td>...</td>\n",
       "      <td>...</td>\n",
       "      <td>...</td>\n",
       "      <td>...</td>\n",
       "      <td>...</td>\n",
       "      <td>...</td>\n",
       "    </tr>\n",
       "    <tr>\n",
       "      <th>39155</th>\n",
       "      <td>39155</td>\n",
       "      <td>John Brooks</td>\n",
       "      <td>M</td>\n",
       "      <td>7</td>\n",
       "      <td>Escola O</td>\n",
       "      <td>92</td>\n",
       "      <td>98</td>\n",
       "      <td>14</td>\n",
       "      <td>Particular</td>\n",
       "      <td>1635</td>\n",
       "      <td>1043130</td>\n",
       "    </tr>\n",
       "    <tr>\n",
       "      <th>39156</th>\n",
       "      <td>39156</td>\n",
       "      <td>Stephanie Contreras</td>\n",
       "      <td>F</td>\n",
       "      <td>8</td>\n",
       "      <td>Escola O</td>\n",
       "      <td>79</td>\n",
       "      <td>95</td>\n",
       "      <td>14</td>\n",
       "      <td>Particular</td>\n",
       "      <td>1635</td>\n",
       "      <td>1043130</td>\n",
       "    </tr>\n",
       "    <tr>\n",
       "      <th>39157</th>\n",
       "      <td>39157</td>\n",
       "      <td>Kristen Gonzalez</td>\n",
       "      <td>F</td>\n",
       "      <td>6</td>\n",
       "      <td>Escola O</td>\n",
       "      <td>79</td>\n",
       "      <td>94</td>\n",
       "      <td>14</td>\n",
       "      <td>Particular</td>\n",
       "      <td>1635</td>\n",
       "      <td>1043130</td>\n",
       "    </tr>\n",
       "    <tr>\n",
       "      <th>39158</th>\n",
       "      <td>39158</td>\n",
       "      <td>Kari Holloway</td>\n",
       "      <td>F</td>\n",
       "      <td>7</td>\n",
       "      <td>Escola O</td>\n",
       "      <td>87</td>\n",
       "      <td>90</td>\n",
       "      <td>14</td>\n",
       "      <td>Particular</td>\n",
       "      <td>1635</td>\n",
       "      <td>1043130</td>\n",
       "    </tr>\n",
       "    <tr>\n",
       "      <th>39159</th>\n",
       "      <td>39159</td>\n",
       "      <td>Kimberly Cabrera</td>\n",
       "      <td>F</td>\n",
       "      <td>8</td>\n",
       "      <td>Escola O</td>\n",
       "      <td>85</td>\n",
       "      <td>72</td>\n",
       "      <td>14</td>\n",
       "      <td>Particular</td>\n",
       "      <td>1635</td>\n",
       "      <td>1043130</td>\n",
       "    </tr>\n",
       "  </tbody>\n",
       "</table>\n",
       "<p>39160 rows × 11 columns</p>\n",
       "</div>"
      ],
      "text/plain": [
       "       ID_Estudante       Nome_Estudante Genero  Serie Nome_Escola  \\\n",
       "0                 0        Kevin Bradley      M      6    Escola A   \n",
       "1                 1           Paul Smith      M      9    Escola A   \n",
       "2                 2       John Rodriguez      M      9    Escola A   \n",
       "3                 3         Oliver Scott      M      9    Escola A   \n",
       "4                 4          William Ray      F      6    Escola A   \n",
       "...             ...                  ...    ...    ...         ...   \n",
       "39155         39155          John Brooks      M      7    Escola O   \n",
       "39156         39156  Stephanie Contreras      F      8    Escola O   \n",
       "39157         39157     Kristen Gonzalez      F      6    Escola O   \n",
       "39158         39158        Kari Holloway      F      7    Escola O   \n",
       "39159         39159     Kimberly Cabrera      F      8    Escola O   \n",
       "\n",
       "       Nota_Redacao  Nota_Matematica  ID_Escola Tipo_Escola  Numero_Alunos  \\\n",
       "0                66               79          0     Publica           2917   \n",
       "1                94               61          0     Publica           2917   \n",
       "2                90               60          0     Publica           2917   \n",
       "3                67               58          0     Publica           2917   \n",
       "4                97               84          0     Publica           2917   \n",
       "...             ...              ...        ...         ...            ...   \n",
       "39155            92               98         14  Particular           1635   \n",
       "39156            79               95         14  Particular           1635   \n",
       "39157            79               94         14  Particular           1635   \n",
       "39158            87               90         14  Particular           1635   \n",
       "39159            85               72         14  Particular           1635   \n",
       "\n",
       "       Orcamento_Anual  \n",
       "0              1910635  \n",
       "1              1910635  \n",
       "2              1910635  \n",
       "3              1910635  \n",
       "4              1910635  \n",
       "...                ...  \n",
       "39155          1043130  \n",
       "39156          1043130  \n",
       "39157          1043130  \n",
       "39158          1043130  \n",
       "39159          1043130  \n",
       "\n",
       "[39160 rows x 11 columns]"
      ]
     },
     "execution_count": 31,
     "metadata": {},
     "output_type": "execute_result"
    }
   ],
   "source": [
    "df_full"
   ]
  },
  {
   "cell_type": "markdown",
   "id": "0609163e",
   "metadata": {},
   "source": [
    "**Entre os alunos aprovados em Redação, qual gênero obteve maior número de aprovações?**"
   ]
  },
  {
   "cell_type": "code",
   "execution_count": 32,
   "id": "671b0625",
   "metadata": {},
   "outputs": [
    {
     "data": {
      "text/plain": [
       "F    17027\n",
       "M    16573\n",
       "Name: Genero, dtype: int64"
      ]
     },
     "execution_count": 32,
     "metadata": {},
     "output_type": "execute_result"
    }
   ],
   "source": [
    "aprovados_genero_red = df_full[(df_full['Nota_Redacao'] >= 70)]['Genero'].value_counts(); aprovados_genero_red"
   ]
  },
  {
   "cell_type": "markdown",
   "id": "20d198b1",
   "metadata": {},
   "source": [
    "**Entre os alunos aprovados em Matemática, qual gênero obteve maior número de aprovações?**"
   ]
  },
  {
   "cell_type": "code",
   "execution_count": 33,
   "id": "3524ee9d",
   "metadata": {},
   "outputs": [
    {
     "data": {
      "text/plain": [
       "F    14835\n",
       "M    14525\n",
       "Name: Genero, dtype: int64"
      ]
     },
     "execution_count": 33,
     "metadata": {},
     "output_type": "execute_result"
    }
   ],
   "source": [
    "aprovados_genero_mat = df_full[(df_full['Nota_Matematica'] >= 70)]['Genero'].value_counts(); aprovados_genero_mat"
   ]
  },
  {
   "cell_type": "markdown",
   "id": "2005d131",
   "metadata": {},
   "source": [
    "**Quais os tipos de todas as escolas em nossa base de dados?**"
   ]
  },
  {
   "cell_type": "code",
   "execution_count": 34,
   "id": "c738bbd1",
   "metadata": {},
   "outputs": [
    {
     "data": {
      "text/html": [
       "<div>\n",
       "<style scoped>\n",
       "    .dataframe tbody tr th:only-of-type {\n",
       "        vertical-align: middle;\n",
       "    }\n",
       "\n",
       "    .dataframe tbody tr th {\n",
       "        vertical-align: top;\n",
       "    }\n",
       "\n",
       "    .dataframe thead th {\n",
       "        text-align: right;\n",
       "    }\n",
       "</style>\n",
       "<table border=\"1\" class=\"dataframe\">\n",
       "  <thead>\n",
       "    <tr style=\"text-align: right;\">\n",
       "      <th></th>\n",
       "      <th>ID_Escola</th>\n",
       "      <th>Nome_Escola</th>\n",
       "      <th>Tipo_Escola</th>\n",
       "      <th>Numero_Alunos</th>\n",
       "      <th>Orcamento_Anual</th>\n",
       "    </tr>\n",
       "  </thead>\n",
       "  <tbody>\n",
       "    <tr>\n",
       "      <th>0</th>\n",
       "      <td>0</td>\n",
       "      <td>Escola A</td>\n",
       "      <td>Publica</td>\n",
       "      <td>2917</td>\n",
       "      <td>1910635</td>\n",
       "    </tr>\n",
       "    <tr>\n",
       "      <th>1</th>\n",
       "      <td>1</td>\n",
       "      <td>Escola B</td>\n",
       "      <td>Publica</td>\n",
       "      <td>2949</td>\n",
       "      <td>1884411</td>\n",
       "    </tr>\n",
       "    <tr>\n",
       "      <th>2</th>\n",
       "      <td>2</td>\n",
       "      <td>Escola C</td>\n",
       "      <td>Particular</td>\n",
       "      <td>1761</td>\n",
       "      <td>1056600</td>\n",
       "    </tr>\n",
       "    <tr>\n",
       "      <th>3</th>\n",
       "      <td>3</td>\n",
       "      <td>Escola D</td>\n",
       "      <td>Publica</td>\n",
       "      <td>4635</td>\n",
       "      <td>3022020</td>\n",
       "    </tr>\n",
       "    <tr>\n",
       "      <th>4</th>\n",
       "      <td>4</td>\n",
       "      <td>Escola E</td>\n",
       "      <td>Particular</td>\n",
       "      <td>1468</td>\n",
       "      <td>917500</td>\n",
       "    </tr>\n",
       "    <tr>\n",
       "      <th>5</th>\n",
       "      <td>5</td>\n",
       "      <td>Escola F</td>\n",
       "      <td>Particular</td>\n",
       "      <td>2283</td>\n",
       "      <td>1319574</td>\n",
       "    </tr>\n",
       "    <tr>\n",
       "      <th>6</th>\n",
       "      <td>6</td>\n",
       "      <td>Escola G</td>\n",
       "      <td>Particular</td>\n",
       "      <td>1858</td>\n",
       "      <td>1081356</td>\n",
       "    </tr>\n",
       "    <tr>\n",
       "      <th>7</th>\n",
       "      <td>7</td>\n",
       "      <td>Escola H</td>\n",
       "      <td>Publica</td>\n",
       "      <td>4976</td>\n",
       "      <td>3124928</td>\n",
       "    </tr>\n",
       "    <tr>\n",
       "      <th>8</th>\n",
       "      <td>8</td>\n",
       "      <td>Escola I</td>\n",
       "      <td>Particular</td>\n",
       "      <td>427</td>\n",
       "      <td>248087</td>\n",
       "    </tr>\n",
       "    <tr>\n",
       "      <th>9</th>\n",
       "      <td>9</td>\n",
       "      <td>Escola J</td>\n",
       "      <td>Particular</td>\n",
       "      <td>962</td>\n",
       "      <td>585858</td>\n",
       "    </tr>\n",
       "    <tr>\n",
       "      <th>10</th>\n",
       "      <td>10</td>\n",
       "      <td>Escola K</td>\n",
       "      <td>Particular</td>\n",
       "      <td>1800</td>\n",
       "      <td>1049400</td>\n",
       "    </tr>\n",
       "    <tr>\n",
       "      <th>11</th>\n",
       "      <td>11</td>\n",
       "      <td>Escola L</td>\n",
       "      <td>Publica</td>\n",
       "      <td>3999</td>\n",
       "      <td>2547363</td>\n",
       "    </tr>\n",
       "    <tr>\n",
       "      <th>12</th>\n",
       "      <td>12</td>\n",
       "      <td>Escola M</td>\n",
       "      <td>Publica</td>\n",
       "      <td>4761</td>\n",
       "      <td>3094650</td>\n",
       "    </tr>\n",
       "    <tr>\n",
       "      <th>13</th>\n",
       "      <td>13</td>\n",
       "      <td>Escola N</td>\n",
       "      <td>Publica</td>\n",
       "      <td>2739</td>\n",
       "      <td>1763916</td>\n",
       "    </tr>\n",
       "    <tr>\n",
       "      <th>14</th>\n",
       "      <td>14</td>\n",
       "      <td>Escola O</td>\n",
       "      <td>Particular</td>\n",
       "      <td>1635</td>\n",
       "      <td>1043130</td>\n",
       "    </tr>\n",
       "  </tbody>\n",
       "</table>\n",
       "</div>"
      ],
      "text/plain": [
       "    ID_Escola Nome_Escola Tipo_Escola  Numero_Alunos  Orcamento_Anual\n",
       "0           0    Escola A     Publica           2917          1910635\n",
       "1           1    Escola B     Publica           2949          1884411\n",
       "2           2    Escola C  Particular           1761          1056600\n",
       "3           3    Escola D     Publica           4635          3022020\n",
       "4           4    Escola E  Particular           1468           917500\n",
       "5           5    Escola F  Particular           2283          1319574\n",
       "6           6    Escola G  Particular           1858          1081356\n",
       "7           7    Escola H     Publica           4976          3124928\n",
       "8           8    Escola I  Particular            427           248087\n",
       "9           9    Escola J  Particular            962           585858\n",
       "10         10    Escola K  Particular           1800          1049400\n",
       "11         11    Escola L     Publica           3999          2547363\n",
       "12         12    Escola M     Publica           4761          3094650\n",
       "13         13    Escola N     Publica           2739          1763916\n",
       "14         14    Escola O  Particular           1635          1043130"
      ]
     },
     "execution_count": 34,
     "metadata": {},
     "output_type": "execute_result"
    }
   ],
   "source": [
    "dados_escolas"
   ]
  },
  {
   "cell_type": "code",
   "execution_count": 35,
   "id": "f4e12472",
   "metadata": {},
   "outputs": [
    {
     "data": {
      "text/plain": [
       "Particular    8\n",
       "Publica       7\n",
       "Name: Tipo_Escola, dtype: int64"
      ]
     },
     "execution_count": 35,
     "metadata": {},
     "output_type": "execute_result"
    }
   ],
   "source": [
    "dados_escolas['Tipo_Escola'].value_counts()"
   ]
  },
  {
   "cell_type": "code",
   "execution_count": 36,
   "id": "57adf94c",
   "metadata": {},
   "outputs": [
    {
     "data": {
      "text/plain": [
       "Nome_Escola\n",
       "Escola C    Particular\n",
       "Escola E    Particular\n",
       "Escola F    Particular\n",
       "Escola G    Particular\n",
       "Escola I    Particular\n",
       "Escola J    Particular\n",
       "Escola K    Particular\n",
       "Escola O    Particular\n",
       "Escola A       Publica\n",
       "Escola B       Publica\n",
       "Escola D       Publica\n",
       "Escola H       Publica\n",
       "Escola L       Publica\n",
       "Escola M       Publica\n",
       "Escola N       Publica\n",
       "Name: Tipo_Escola, dtype: object"
      ]
     },
     "execution_count": 36,
     "metadata": {},
     "output_type": "execute_result"
    }
   ],
   "source": [
    "tipos_escolas = dados_escolas.set_index(['Nome_Escola'])['Tipo_Escola'].sort_values(); tipos_escolas"
   ]
  },
  {
   "cell_type": "markdown",
   "id": "88f78828",
   "metadata": {},
   "source": [
    "**Qual o total de estudantes por escola?**"
   ]
  },
  {
   "cell_type": "code",
   "execution_count": 37,
   "id": "153a2973",
   "metadata": {},
   "outputs": [
    {
     "data": {
      "text/plain": [
       "Escola I     427\n",
       "Escola J     962\n",
       "Escola E    1468\n",
       "Escola O    1625\n",
       "Escola C    1761\n",
       "Escola K    1800\n",
       "Escola G    1858\n",
       "Escola F    2283\n",
       "Escola N    2739\n",
       "Escola A    2917\n",
       "Escola B    2949\n",
       "Escola L    3999\n",
       "Escola D    4635\n",
       "Escola M    4761\n",
       "Escola H    4976\n",
       "Name: Nome_Escola, dtype: int64"
      ]
     },
     "execution_count": 37,
     "metadata": {},
     "output_type": "execute_result"
    }
   ],
   "source": [
    "tot_estudantes_escolas = df_full['Nome_Escola'].value_counts().sort_values(); tot_estudantes_escolas"
   ]
  },
  {
   "cell_type": "markdown",
   "id": "b3d5ea04",
   "metadata": {},
   "source": [
    "**Qual o total de orçamento de cada escola per capita (por estudante)?**"
   ]
  },
  {
   "cell_type": "code",
   "execution_count": 38,
   "id": "9ab6adf4",
   "metadata": {},
   "outputs": [
    {
     "data": {
      "text/plain": [
       "Nome_Escola\n",
       "Escola I     248087.0\n",
       "Escola J     585858.0\n",
       "Escola E     917500.0\n",
       "Escola O    1043130.0\n",
       "Escola K    1049400.0\n",
       "Escola C    1056600.0\n",
       "Escola G    1081356.0\n",
       "Escola F    1319574.0\n",
       "Escola N    1763916.0\n",
       "Escola B    1884411.0\n",
       "Escola A    1910635.0\n",
       "Escola L    2547363.0\n",
       "Escola D    3022020.0\n",
       "Escola M    3094650.0\n",
       "Escola H    3124928.0\n",
       "Name: Orcamento_Anual, dtype: float64"
      ]
     },
     "execution_count": 38,
     "metadata": {},
     "output_type": "execute_result"
    }
   ],
   "source": [
    "orcamento_escolas = df_full.groupby(['Nome_Escola']).mean()['Orcamento_Anual'].sort_values(); orcamento_escolas"
   ]
  },
  {
   "cell_type": "code",
   "execution_count": 39,
   "id": "3eed485b",
   "metadata": {},
   "outputs": [
    {
     "data": {
      "text/plain": [
       "Escola F    578.000000\n",
       "Escola I    581.000000\n",
       "Escola G    582.000000\n",
       "Escola K    583.000000\n",
       "Escola C    600.000000\n",
       "Escola J    609.000000\n",
       "Escola E    625.000000\n",
       "Escola H    628.000000\n",
       "Escola L    637.000000\n",
       "Escola B    639.000000\n",
       "Escola O    641.926154\n",
       "Escola N    644.000000\n",
       "Escola M    650.000000\n",
       "Escola D    652.000000\n",
       "Escola A    655.000000\n",
       "dtype: float64"
      ]
     },
     "execution_count": 39,
     "metadata": {},
     "output_type": "execute_result"
    }
   ],
   "source": [
    "tot_orc_per_capita = (orcamento_escolas / tot_estudantes_escolas).sort_values(); tot_orc_per_capita"
   ]
  },
  {
   "cell_type": "markdown",
   "id": "0da0e350",
   "metadata": {},
   "source": [
    "**Qual a nota média dos alunos em Redação para cada escola?**"
   ]
  },
  {
   "cell_type": "code",
   "execution_count": 40,
   "id": "6137fca5",
   "metadata": {},
   "outputs": [
    {
     "data": {
      "text/plain": [
       "Nome_Escola\n",
       "Escola L    80.744686\n",
       "Escola N    80.746258\n",
       "Escola D    80.934412\n",
       "Escola M    80.966394\n",
       "Escola H    81.033963\n",
       "Escola B    81.158020\n",
       "Escola A    81.182722\n",
       "Escola C    83.725724\n",
       "Escola O    83.810462\n",
       "Escola I    83.814988\n",
       "Escola E    83.816757\n",
       "Escola K    83.955000\n",
       "Escola G    83.975780\n",
       "Escola F    83.989488\n",
       "Escola J    84.044699\n",
       "Name: Nota_Redacao, dtype: float64"
      ]
     },
     "execution_count": 40,
     "metadata": {},
     "output_type": "execute_result"
    }
   ],
   "source": [
    "media_red_escola = df_full.groupby(['Nome_Escola']).mean()['Nota_Redacao'].sort_values(); media_red_escola"
   ]
  },
  {
   "cell_type": "markdown",
   "id": "3e3d72ec",
   "metadata": {},
   "source": [
    "**Qual a nota média dos alunos em Matemática para cada escola?**"
   ]
  },
  {
   "cell_type": "code",
   "execution_count": 41,
   "id": "687bfb1b",
   "metadata": {},
   "outputs": [
    {
     "data": {
      "text/plain": [
       "Nome_Escola\n",
       "Escola A    76.629414\n",
       "Escola B    76.711767\n",
       "Escola L    76.842711\n",
       "Escola H    77.048432\n",
       "Escola M    77.072464\n",
       "Escola N    77.102592\n",
       "Escola D    77.289752\n",
       "Escola G    83.061895\n",
       "Escola F    83.274201\n",
       "Escola E    83.351499\n",
       "Escola C    83.359455\n",
       "Escola O    83.435077\n",
       "Escola K    83.682222\n",
       "Escola I    83.803279\n",
       "Escola J    83.839917\n",
       "Name: Nota_Matematica, dtype: float64"
      ]
     },
     "execution_count": 41,
     "metadata": {},
     "output_type": "execute_result"
    }
   ],
   "source": [
    "media_mat_escola = df_full.groupby(['Nome_Escola']).mean()['Nota_Matematica'].sort_values(); media_mat_escola"
   ]
  },
  {
   "cell_type": "markdown",
   "id": "e78e57f3",
   "metadata": {},
   "source": [
    "Obs: A escola com maior orçamento não possui a maior média de nota em Redação e nem em Matemática."
   ]
  },
  {
   "cell_type": "markdown",
   "id": "4b4c63f2",
   "metadata": {},
   "source": [
    "**Considerando somente os alunos aprovados em Redação, qual a média de alunos aprovados por escola?**"
   ]
  },
  {
   "cell_type": "code",
   "execution_count": 42,
   "id": "15ef392c",
   "metadata": {},
   "outputs": [
    {
     "data": {
      "text/html": [
       "<div>\n",
       "<style scoped>\n",
       "    .dataframe tbody tr th:only-of-type {\n",
       "        vertical-align: middle;\n",
       "    }\n",
       "\n",
       "    .dataframe tbody tr th {\n",
       "        vertical-align: top;\n",
       "    }\n",
       "\n",
       "    .dataframe thead th {\n",
       "        text-align: right;\n",
       "    }\n",
       "</style>\n",
       "<table border=\"1\" class=\"dataframe\">\n",
       "  <thead>\n",
       "    <tr style=\"text-align: right;\">\n",
       "      <th></th>\n",
       "      <th>ID_Estudante</th>\n",
       "      <th>Nome_Estudante</th>\n",
       "      <th>Genero</th>\n",
       "      <th>Serie</th>\n",
       "      <th>Nome_Escola</th>\n",
       "      <th>Nota_Redacao</th>\n",
       "      <th>Nota_Matematica</th>\n",
       "      <th>ID_Escola</th>\n",
       "      <th>Tipo_Escola</th>\n",
       "      <th>Numero_Alunos</th>\n",
       "      <th>Orcamento_Anual</th>\n",
       "    </tr>\n",
       "  </thead>\n",
       "  <tbody>\n",
       "    <tr>\n",
       "      <th>1</th>\n",
       "      <td>1</td>\n",
       "      <td>Paul Smith</td>\n",
       "      <td>M</td>\n",
       "      <td>9</td>\n",
       "      <td>Escola A</td>\n",
       "      <td>94</td>\n",
       "      <td>61</td>\n",
       "      <td>0</td>\n",
       "      <td>Publica</td>\n",
       "      <td>2917</td>\n",
       "      <td>1910635</td>\n",
       "    </tr>\n",
       "    <tr>\n",
       "      <th>2</th>\n",
       "      <td>2</td>\n",
       "      <td>John Rodriguez</td>\n",
       "      <td>M</td>\n",
       "      <td>9</td>\n",
       "      <td>Escola A</td>\n",
       "      <td>90</td>\n",
       "      <td>60</td>\n",
       "      <td>0</td>\n",
       "      <td>Publica</td>\n",
       "      <td>2917</td>\n",
       "      <td>1910635</td>\n",
       "    </tr>\n",
       "    <tr>\n",
       "      <th>4</th>\n",
       "      <td>4</td>\n",
       "      <td>William Ray</td>\n",
       "      <td>F</td>\n",
       "      <td>6</td>\n",
       "      <td>Escola A</td>\n",
       "      <td>97</td>\n",
       "      <td>84</td>\n",
       "      <td>0</td>\n",
       "      <td>Publica</td>\n",
       "      <td>2917</td>\n",
       "      <td>1910635</td>\n",
       "    </tr>\n",
       "    <tr>\n",
       "      <th>5</th>\n",
       "      <td>5</td>\n",
       "      <td>James Miranda</td>\n",
       "      <td>M</td>\n",
       "      <td>6</td>\n",
       "      <td>Escola A</td>\n",
       "      <td>94</td>\n",
       "      <td>94</td>\n",
       "      <td>0</td>\n",
       "      <td>Publica</td>\n",
       "      <td>2917</td>\n",
       "      <td>1910635</td>\n",
       "    </tr>\n",
       "    <tr>\n",
       "      <th>6</th>\n",
       "      <td>6</td>\n",
       "      <td>Benjamin Carter</td>\n",
       "      <td>F</td>\n",
       "      <td>8</td>\n",
       "      <td>Escola A</td>\n",
       "      <td>82</td>\n",
       "      <td>80</td>\n",
       "      <td>0</td>\n",
       "      <td>Publica</td>\n",
       "      <td>2917</td>\n",
       "      <td>1910635</td>\n",
       "    </tr>\n",
       "  </tbody>\n",
       "</table>\n",
       "</div>"
      ],
      "text/plain": [
       "   ID_Estudante   Nome_Estudante Genero  Serie Nome_Escola  Nota_Redacao  \\\n",
       "1             1       Paul Smith      M      9    Escola A            94   \n",
       "2             2   John Rodriguez      M      9    Escola A            90   \n",
       "4             4      William Ray      F      6    Escola A            97   \n",
       "5             5    James Miranda      M      6    Escola A            94   \n",
       "6             6  Benjamin Carter      F      8    Escola A            82   \n",
       "\n",
       "   Nota_Matematica  ID_Escola Tipo_Escola  Numero_Alunos  Orcamento_Anual  \n",
       "1               61          0     Publica           2917          1910635  \n",
       "2               60          0     Publica           2917          1910635  \n",
       "4               84          0     Publica           2917          1910635  \n",
       "5               94          0     Publica           2917          1910635  \n",
       "6               80          0     Publica           2917          1910635  "
      ]
     },
     "execution_count": 42,
     "metadata": {},
     "output_type": "execute_result"
    }
   ],
   "source": [
    "# Aprovados em redação\n",
    "aprovados_red = df_full[df_full['Nota_Redacao'] >= 70] ; aprovados_red.head()"
   ]
  },
  {
   "cell_type": "code",
   "execution_count": 43,
   "id": "ea37f61d",
   "metadata": {},
   "outputs": [
    {
     "data": {
      "text/plain": [
       "Nome_Escola\n",
       "Escola I     411\n",
       "Escola J     923\n",
       "Escola E    1426\n",
       "Escola O    1581\n",
       "Escola C    1688\n",
       "Escola K    1739\n",
       "Escola G    1803\n",
       "Escola N    2172\n",
       "Escola F    2204\n",
       "Escola A    2372\n",
       "Escola B    2381\n",
       "Escola L    3208\n",
       "Escola D    3748\n",
       "Escola M    3867\n",
       "Escola H    4077\n",
       "Name: Nome_Estudante, dtype: int64"
      ]
     },
     "execution_count": 43,
     "metadata": {},
     "output_type": "execute_result"
    }
   ],
   "source": [
    "media_aprov_red_escola = aprovados_red.groupby(['Nome_Escola']).count()['Nome_Estudante'].sort_values() ; media_aprov_red_escola"
   ]
  },
  {
   "cell_type": "code",
   "execution_count": 44,
   "id": "811e0186",
   "metadata": {},
   "outputs": [
    {
     "data": {
      "text/plain": [
       "Escola A    81.316421\n",
       "Escola B    80.739234\n",
       "Escola C    95.854628\n",
       "Escola D    80.862999\n",
       "Escola E    97.138965\n",
       "Escola F    96.539641\n",
       "Escola G    97.039828\n",
       "Escola H    81.933280\n",
       "Escola I    96.252927\n",
       "Escola J    95.945946\n",
       "Escola K    96.611111\n",
       "Escola L    80.220055\n",
       "Escola M    81.222432\n",
       "Escola N    79.299014\n",
       "Escola O    97.292308\n",
       "dtype: float64"
      ]
     },
     "execution_count": 44,
     "metadata": {},
     "output_type": "execute_result"
    }
   ],
   "source": [
    "media_aprov_red_escola = (media_aprov_red_escola / tot_estudantes_escolas) * 100; media_aprov_red_escola"
   ]
  },
  {
   "cell_type": "markdown",
   "id": "df0d5be2",
   "metadata": {},
   "source": [
    "**Considerando somente os alunos aprovados em Matemática, qual a média de alunos aprovados por escola?**"
   ]
  },
  {
   "cell_type": "code",
   "execution_count": 45,
   "id": "a2386795",
   "metadata": {},
   "outputs": [
    {
     "data": {
      "text/html": [
       "<div>\n",
       "<style scoped>\n",
       "    .dataframe tbody tr th:only-of-type {\n",
       "        vertical-align: middle;\n",
       "    }\n",
       "\n",
       "    .dataframe tbody tr th {\n",
       "        vertical-align: top;\n",
       "    }\n",
       "\n",
       "    .dataframe thead th {\n",
       "        text-align: right;\n",
       "    }\n",
       "</style>\n",
       "<table border=\"1\" class=\"dataframe\">\n",
       "  <thead>\n",
       "    <tr style=\"text-align: right;\">\n",
       "      <th></th>\n",
       "      <th>ID_Estudante</th>\n",
       "      <th>Nome_Estudante</th>\n",
       "      <th>Genero</th>\n",
       "      <th>Serie</th>\n",
       "      <th>Nome_Escola</th>\n",
       "      <th>Nota_Redacao</th>\n",
       "      <th>Nota_Matematica</th>\n",
       "      <th>ID_Escola</th>\n",
       "      <th>Tipo_Escola</th>\n",
       "      <th>Numero_Alunos</th>\n",
       "      <th>Orcamento_Anual</th>\n",
       "    </tr>\n",
       "  </thead>\n",
       "  <tbody>\n",
       "    <tr>\n",
       "      <th>0</th>\n",
       "      <td>0</td>\n",
       "      <td>Kevin Bradley</td>\n",
       "      <td>M</td>\n",
       "      <td>6</td>\n",
       "      <td>Escola A</td>\n",
       "      <td>66</td>\n",
       "      <td>79</td>\n",
       "      <td>0</td>\n",
       "      <td>Publica</td>\n",
       "      <td>2917</td>\n",
       "      <td>1910635</td>\n",
       "    </tr>\n",
       "    <tr>\n",
       "      <th>4</th>\n",
       "      <td>4</td>\n",
       "      <td>William Ray</td>\n",
       "      <td>F</td>\n",
       "      <td>6</td>\n",
       "      <td>Escola A</td>\n",
       "      <td>97</td>\n",
       "      <td>84</td>\n",
       "      <td>0</td>\n",
       "      <td>Publica</td>\n",
       "      <td>2917</td>\n",
       "      <td>1910635</td>\n",
       "    </tr>\n",
       "    <tr>\n",
       "      <th>5</th>\n",
       "      <td>5</td>\n",
       "      <td>James Miranda</td>\n",
       "      <td>M</td>\n",
       "      <td>6</td>\n",
       "      <td>Escola A</td>\n",
       "      <td>94</td>\n",
       "      <td>94</td>\n",
       "      <td>0</td>\n",
       "      <td>Publica</td>\n",
       "      <td>2917</td>\n",
       "      <td>1910635</td>\n",
       "    </tr>\n",
       "    <tr>\n",
       "      <th>6</th>\n",
       "      <td>6</td>\n",
       "      <td>Benjamin Carter</td>\n",
       "      <td>F</td>\n",
       "      <td>8</td>\n",
       "      <td>Escola A</td>\n",
       "      <td>82</td>\n",
       "      <td>80</td>\n",
       "      <td>0</td>\n",
       "      <td>Publica</td>\n",
       "      <td>2917</td>\n",
       "      <td>1910635</td>\n",
       "    </tr>\n",
       "    <tr>\n",
       "      <th>8</th>\n",
       "      <td>8</td>\n",
       "      <td>Ethan Roth</td>\n",
       "      <td>M</td>\n",
       "      <td>7</td>\n",
       "      <td>Escola A</td>\n",
       "      <td>95</td>\n",
       "      <td>87</td>\n",
       "      <td>0</td>\n",
       "      <td>Publica</td>\n",
       "      <td>2917</td>\n",
       "      <td>1910635</td>\n",
       "    </tr>\n",
       "  </tbody>\n",
       "</table>\n",
       "</div>"
      ],
      "text/plain": [
       "   ID_Estudante   Nome_Estudante Genero  Serie Nome_Escola  Nota_Redacao  \\\n",
       "0             0    Kevin Bradley      M      6    Escola A            66   \n",
       "4             4      William Ray      F      6    Escola A            97   \n",
       "5             5    James Miranda      M      6    Escola A            94   \n",
       "6             6  Benjamin Carter      F      8    Escola A            82   \n",
       "8             8       Ethan Roth      M      7    Escola A            95   \n",
       "\n",
       "   Nota_Matematica  ID_Escola Tipo_Escola  Numero_Alunos  Orcamento_Anual  \n",
       "0               79          0     Publica           2917          1910635  \n",
       "4               84          0     Publica           2917          1910635  \n",
       "5               94          0     Publica           2917          1910635  \n",
       "6               80          0     Publica           2917          1910635  \n",
       "8               87          0     Publica           2917          1910635  "
      ]
     },
     "execution_count": 45,
     "metadata": {},
     "output_type": "execute_result"
    }
   ],
   "source": [
    "# Aprovados Matemática\n",
    "aprovados_mat = df_full[df_full['Nota_Matematica'] >= 70] ; aprovados_mat.head()"
   ]
  },
  {
   "cell_type": "code",
   "execution_count": 46,
   "id": "f1db7e21",
   "metadata": {},
   "outputs": [
    {
     "data": {
      "text/plain": [
       "Nome_Escola\n",
       "Escola I     395\n",
       "Escola J     910\n",
       "Escola E    1371\n",
       "Escola O    1515\n",
       "Escola C    1653\n",
       "Escola K    1680\n",
       "Escola G    1749\n",
       "Escola N    1871\n",
       "Escola A    1916\n",
       "Escola B    1946\n",
       "Escola F    2143\n",
       "Escola L    2654\n",
       "Escola D    3094\n",
       "Escola M    3145\n",
       "Escola H    3318\n",
       "Name: Nome_Estudante, dtype: int64"
      ]
     },
     "execution_count": 46,
     "metadata": {},
     "output_type": "execute_result"
    }
   ],
   "source": [
    "media_aprov_mat_escola = aprovados_mat.groupby(['Nome_Escola']).count()['Nome_Estudante'].sort_values(); media_aprov_mat_escola"
   ]
  },
  {
   "cell_type": "code",
   "execution_count": 47,
   "id": "92947262",
   "metadata": {},
   "outputs": [
    {
     "data": {
      "text/plain": [
       "Escola A    65.683922\n",
       "Escola B    65.988471\n",
       "Escola C    93.867121\n",
       "Escola D    66.752967\n",
       "Escola E    93.392371\n",
       "Escola F    93.867718\n",
       "Escola G    94.133477\n",
       "Escola H    66.680064\n",
       "Escola I    92.505855\n",
       "Escola J    94.594595\n",
       "Escola K    93.333333\n",
       "Escola L    66.366592\n",
       "Escola M    66.057551\n",
       "Escola N    68.309602\n",
       "Escola O    93.230769\n",
       "dtype: float64"
      ]
     },
     "execution_count": 47,
     "metadata": {},
     "output_type": "execute_result"
    }
   ],
   "source": [
    "media_aprov_mat_escola = (media_aprov_mat_escola / tot_estudantes_escolas) * 100 ; media_aprov_mat_escola"
   ]
  },
  {
   "cell_type": "markdown",
   "id": "cca76386",
   "metadata": {},
   "source": [
    "**Considerando alunos aprovados em Matemática e Redação, qual foi a média de alunos aprovados por escola?**"
   ]
  },
  {
   "cell_type": "code",
   "execution_count": 48,
   "id": "14444d7c",
   "metadata": {},
   "outputs": [
    {
     "data": {
      "text/html": [
       "<div>\n",
       "<style scoped>\n",
       "    .dataframe tbody tr th:only-of-type {\n",
       "        vertical-align: middle;\n",
       "    }\n",
       "\n",
       "    .dataframe tbody tr th {\n",
       "        vertical-align: top;\n",
       "    }\n",
       "\n",
       "    .dataframe thead th {\n",
       "        text-align: right;\n",
       "    }\n",
       "</style>\n",
       "<table border=\"1\" class=\"dataframe\">\n",
       "  <thead>\n",
       "    <tr style=\"text-align: right;\">\n",
       "      <th></th>\n",
       "      <th>ID_Estudante</th>\n",
       "      <th>Nome_Estudante</th>\n",
       "      <th>Genero</th>\n",
       "      <th>Serie</th>\n",
       "      <th>Nome_Escola</th>\n",
       "      <th>Nota_Redacao</th>\n",
       "      <th>Nota_Matematica</th>\n",
       "      <th>ID_Escola</th>\n",
       "      <th>Tipo_Escola</th>\n",
       "      <th>Numero_Alunos</th>\n",
       "      <th>Orcamento_Anual</th>\n",
       "    </tr>\n",
       "  </thead>\n",
       "  <tbody>\n",
       "    <tr>\n",
       "      <th>4</th>\n",
       "      <td>4</td>\n",
       "      <td>William Ray</td>\n",
       "      <td>F</td>\n",
       "      <td>6</td>\n",
       "      <td>Escola A</td>\n",
       "      <td>97</td>\n",
       "      <td>84</td>\n",
       "      <td>0</td>\n",
       "      <td>Publica</td>\n",
       "      <td>2917</td>\n",
       "      <td>1910635</td>\n",
       "    </tr>\n",
       "    <tr>\n",
       "      <th>5</th>\n",
       "      <td>5</td>\n",
       "      <td>James Miranda</td>\n",
       "      <td>M</td>\n",
       "      <td>6</td>\n",
       "      <td>Escola A</td>\n",
       "      <td>94</td>\n",
       "      <td>94</td>\n",
       "      <td>0</td>\n",
       "      <td>Publica</td>\n",
       "      <td>2917</td>\n",
       "      <td>1910635</td>\n",
       "    </tr>\n",
       "    <tr>\n",
       "      <th>6</th>\n",
       "      <td>6</td>\n",
       "      <td>Benjamin Carter</td>\n",
       "      <td>F</td>\n",
       "      <td>8</td>\n",
       "      <td>Escola A</td>\n",
       "      <td>82</td>\n",
       "      <td>80</td>\n",
       "      <td>0</td>\n",
       "      <td>Publica</td>\n",
       "      <td>2917</td>\n",
       "      <td>1910635</td>\n",
       "    </tr>\n",
       "    <tr>\n",
       "      <th>8</th>\n",
       "      <td>8</td>\n",
       "      <td>Ethan Roth</td>\n",
       "      <td>M</td>\n",
       "      <td>7</td>\n",
       "      <td>Escola A</td>\n",
       "      <td>95</td>\n",
       "      <td>87</td>\n",
       "      <td>0</td>\n",
       "      <td>Publica</td>\n",
       "      <td>2917</td>\n",
       "      <td>1910635</td>\n",
       "    </tr>\n",
       "    <tr>\n",
       "      <th>9</th>\n",
       "      <td>9</td>\n",
       "      <td>Jacob Greene</td>\n",
       "      <td>M</td>\n",
       "      <td>7</td>\n",
       "      <td>Escola A</td>\n",
       "      <td>96</td>\n",
       "      <td>84</td>\n",
       "      <td>0</td>\n",
       "      <td>Publica</td>\n",
       "      <td>2917</td>\n",
       "      <td>1910635</td>\n",
       "    </tr>\n",
       "  </tbody>\n",
       "</table>\n",
       "</div>"
      ],
      "text/plain": [
       "   ID_Estudante   Nome_Estudante Genero  Serie Nome_Escola  Nota_Redacao  \\\n",
       "4             4      William Ray      F      6    Escola A            97   \n",
       "5             5    James Miranda      M      6    Escola A            94   \n",
       "6             6  Benjamin Carter      F      8    Escola A            82   \n",
       "8             8       Ethan Roth      M      7    Escola A            95   \n",
       "9             9     Jacob Greene      M      7    Escola A            96   \n",
       "\n",
       "   Nota_Matematica  ID_Escola Tipo_Escola  Numero_Alunos  Orcamento_Anual  \n",
       "4               84          0     Publica           2917          1910635  \n",
       "5               94          0     Publica           2917          1910635  \n",
       "6               80          0     Publica           2917          1910635  \n",
       "8               87          0     Publica           2917          1910635  \n",
       "9               84          0     Publica           2917          1910635  "
      ]
     },
     "execution_count": 48,
     "metadata": {},
     "output_type": "execute_result"
    }
   ],
   "source": [
    "aprov_mat_red = df_full[(df_full['Nota_Matematica'] >= 70) & (df_full['Nota_Redacao'] >= 70)]; aprov_mat_red.head()"
   ]
  },
  {
   "cell_type": "code",
   "execution_count": 49,
   "id": "d29ca8e8",
   "metadata": {},
   "outputs": [
    {
     "data": {
      "text/plain": [
       "Nome_Escola\n",
       "Escola I     381\n",
       "Escola J     871\n",
       "Escola E    1330\n",
       "Escola O    1477\n",
       "Escola N    1487\n",
       "Escola A    1561\n",
       "Escola B    1569\n",
       "Escola C    1583\n",
       "Escola K    1626\n",
       "Escola G    1697\n",
       "Escola F    2068\n",
       "Escola L    2119\n",
       "Escola D    2481\n",
       "Escola M    2549\n",
       "Escola H    2719\n",
       "Name: Nome_Estudante, dtype: int64"
      ]
     },
     "execution_count": 49,
     "metadata": {},
     "output_type": "execute_result"
    }
   ],
   "source": [
    "media_aprov_mat_red = aprov_mat_red.groupby(['Nome_Escola']).count()['Nome_Estudante'].sort_values(); media_aprov_mat_red"
   ]
  },
  {
   "cell_type": "code",
   "execution_count": 50,
   "id": "397874c9",
   "metadata": {},
   "outputs": [
    {
     "data": {
      "text/plain": [
       "Escola A    53.513884\n",
       "Escola B    53.204476\n",
       "Escola C    89.892107\n",
       "Escola D    53.527508\n",
       "Escola E    90.599455\n",
       "Escola F    90.582567\n",
       "Escola G    91.334769\n",
       "Escola H    54.642283\n",
       "Escola I    89.227166\n",
       "Escola J    90.540541\n",
       "Escola K    90.333333\n",
       "Escola L    52.988247\n",
       "Escola M    53.539172\n",
       "Escola N    54.289887\n",
       "Escola O    90.892308\n",
       "dtype: float64"
      ]
     },
     "execution_count": 50,
     "metadata": {},
     "output_type": "execute_result"
    }
   ],
   "source": [
    "media_aprov_mat_red = (media_aprov_mat_red / tot_estudantes_escolas) * 100; media_aprov_mat_red"
   ]
  },
  {
   "cell_type": "markdown",
   "id": "37827798",
   "metadata": {},
   "source": [
    "**Vamos construir um dataframe de resumo com as métricas anteriores.**"
   ]
  },
  {
   "cell_type": "code",
   "execution_count": 51,
   "id": "1b2dc030",
   "metadata": {},
   "outputs": [],
   "source": [
    "df_resumo_performance_escolar = pd.DataFrame({\"Tipo Escola\": tipos_escolas,\n",
    "                                              \"Total Estudantes\": tot_estudantes_escolas,\n",
    "                                              \"Total Orçamento\": orcamento_escolas,\n",
    "                                              \"Orçamento Por Estudante\": tot_orc_per_capita,\n",
    "                                              \"Nota Média Aprovação Redação\": media_red_escola,\n",
    "                                              \"Nota Média Aprovação Matemática\": media_mat_escola,\n",
    "                                              \"% Aprovados Redação\": media_aprov_red_escola,\n",
    "                                              \"% Aprovados Matemática\": media_aprov_mat_escola,\n",
    "                                              \"% Geral Aprovados\": media_aprov_mat_red})"
   ]
  },
  {
   "cell_type": "code",
   "execution_count": 52,
   "id": "fda1866a",
   "metadata": {},
   "outputs": [
    {
     "data": {
      "text/html": [
       "<div>\n",
       "<style scoped>\n",
       "    .dataframe tbody tr th:only-of-type {\n",
       "        vertical-align: middle;\n",
       "    }\n",
       "\n",
       "    .dataframe tbody tr th {\n",
       "        vertical-align: top;\n",
       "    }\n",
       "\n",
       "    .dataframe thead th {\n",
       "        text-align: right;\n",
       "    }\n",
       "</style>\n",
       "<table border=\"1\" class=\"dataframe\">\n",
       "  <thead>\n",
       "    <tr style=\"text-align: right;\">\n",
       "      <th></th>\n",
       "      <th>Tipo Escola</th>\n",
       "      <th>Total Estudantes</th>\n",
       "      <th>Total Orçamento</th>\n",
       "      <th>Orçamento Por Estudante</th>\n",
       "      <th>Nota Média Aprovação Redação</th>\n",
       "      <th>Nota Média Aprovação Matemática</th>\n",
       "      <th>% Aprovados Redação</th>\n",
       "      <th>% Aprovados Matemática</th>\n",
       "      <th>% Geral Aprovados</th>\n",
       "    </tr>\n",
       "  </thead>\n",
       "  <tbody>\n",
       "    <tr>\n",
       "      <th>Escola A</th>\n",
       "      <td>Publica</td>\n",
       "      <td>2917</td>\n",
       "      <td>1910635.0</td>\n",
       "      <td>655.000000</td>\n",
       "      <td>81.182722</td>\n",
       "      <td>76.629414</td>\n",
       "      <td>81.316421</td>\n",
       "      <td>65.683922</td>\n",
       "      <td>53.513884</td>\n",
       "    </tr>\n",
       "    <tr>\n",
       "      <th>Escola B</th>\n",
       "      <td>Publica</td>\n",
       "      <td>2949</td>\n",
       "      <td>1884411.0</td>\n",
       "      <td>639.000000</td>\n",
       "      <td>81.158020</td>\n",
       "      <td>76.711767</td>\n",
       "      <td>80.739234</td>\n",
       "      <td>65.988471</td>\n",
       "      <td>53.204476</td>\n",
       "    </tr>\n",
       "    <tr>\n",
       "      <th>Escola C</th>\n",
       "      <td>Particular</td>\n",
       "      <td>1761</td>\n",
       "      <td>1056600.0</td>\n",
       "      <td>600.000000</td>\n",
       "      <td>83.725724</td>\n",
       "      <td>83.359455</td>\n",
       "      <td>95.854628</td>\n",
       "      <td>93.867121</td>\n",
       "      <td>89.892107</td>\n",
       "    </tr>\n",
       "    <tr>\n",
       "      <th>Escola D</th>\n",
       "      <td>Publica</td>\n",
       "      <td>4635</td>\n",
       "      <td>3022020.0</td>\n",
       "      <td>652.000000</td>\n",
       "      <td>80.934412</td>\n",
       "      <td>77.289752</td>\n",
       "      <td>80.862999</td>\n",
       "      <td>66.752967</td>\n",
       "      <td>53.527508</td>\n",
       "    </tr>\n",
       "    <tr>\n",
       "      <th>Escola E</th>\n",
       "      <td>Particular</td>\n",
       "      <td>1468</td>\n",
       "      <td>917500.0</td>\n",
       "      <td>625.000000</td>\n",
       "      <td>83.816757</td>\n",
       "      <td>83.351499</td>\n",
       "      <td>97.138965</td>\n",
       "      <td>93.392371</td>\n",
       "      <td>90.599455</td>\n",
       "    </tr>\n",
       "    <tr>\n",
       "      <th>Escola F</th>\n",
       "      <td>Particular</td>\n",
       "      <td>2283</td>\n",
       "      <td>1319574.0</td>\n",
       "      <td>578.000000</td>\n",
       "      <td>83.989488</td>\n",
       "      <td>83.274201</td>\n",
       "      <td>96.539641</td>\n",
       "      <td>93.867718</td>\n",
       "      <td>90.582567</td>\n",
       "    </tr>\n",
       "    <tr>\n",
       "      <th>Escola G</th>\n",
       "      <td>Particular</td>\n",
       "      <td>1858</td>\n",
       "      <td>1081356.0</td>\n",
       "      <td>582.000000</td>\n",
       "      <td>83.975780</td>\n",
       "      <td>83.061895</td>\n",
       "      <td>97.039828</td>\n",
       "      <td>94.133477</td>\n",
       "      <td>91.334769</td>\n",
       "    </tr>\n",
       "    <tr>\n",
       "      <th>Escola H</th>\n",
       "      <td>Publica</td>\n",
       "      <td>4976</td>\n",
       "      <td>3124928.0</td>\n",
       "      <td>628.000000</td>\n",
       "      <td>81.033963</td>\n",
       "      <td>77.048432</td>\n",
       "      <td>81.933280</td>\n",
       "      <td>66.680064</td>\n",
       "      <td>54.642283</td>\n",
       "    </tr>\n",
       "    <tr>\n",
       "      <th>Escola I</th>\n",
       "      <td>Particular</td>\n",
       "      <td>427</td>\n",
       "      <td>248087.0</td>\n",
       "      <td>581.000000</td>\n",
       "      <td>83.814988</td>\n",
       "      <td>83.803279</td>\n",
       "      <td>96.252927</td>\n",
       "      <td>92.505855</td>\n",
       "      <td>89.227166</td>\n",
       "    </tr>\n",
       "    <tr>\n",
       "      <th>Escola J</th>\n",
       "      <td>Particular</td>\n",
       "      <td>962</td>\n",
       "      <td>585858.0</td>\n",
       "      <td>609.000000</td>\n",
       "      <td>84.044699</td>\n",
       "      <td>83.839917</td>\n",
       "      <td>95.945946</td>\n",
       "      <td>94.594595</td>\n",
       "      <td>90.540541</td>\n",
       "    </tr>\n",
       "    <tr>\n",
       "      <th>Escola K</th>\n",
       "      <td>Particular</td>\n",
       "      <td>1800</td>\n",
       "      <td>1049400.0</td>\n",
       "      <td>583.000000</td>\n",
       "      <td>83.955000</td>\n",
       "      <td>83.682222</td>\n",
       "      <td>96.611111</td>\n",
       "      <td>93.333333</td>\n",
       "      <td>90.333333</td>\n",
       "    </tr>\n",
       "    <tr>\n",
       "      <th>Escola L</th>\n",
       "      <td>Publica</td>\n",
       "      <td>3999</td>\n",
       "      <td>2547363.0</td>\n",
       "      <td>637.000000</td>\n",
       "      <td>80.744686</td>\n",
       "      <td>76.842711</td>\n",
       "      <td>80.220055</td>\n",
       "      <td>66.366592</td>\n",
       "      <td>52.988247</td>\n",
       "    </tr>\n",
       "    <tr>\n",
       "      <th>Escola M</th>\n",
       "      <td>Publica</td>\n",
       "      <td>4761</td>\n",
       "      <td>3094650.0</td>\n",
       "      <td>650.000000</td>\n",
       "      <td>80.966394</td>\n",
       "      <td>77.072464</td>\n",
       "      <td>81.222432</td>\n",
       "      <td>66.057551</td>\n",
       "      <td>53.539172</td>\n",
       "    </tr>\n",
       "    <tr>\n",
       "      <th>Escola N</th>\n",
       "      <td>Publica</td>\n",
       "      <td>2739</td>\n",
       "      <td>1763916.0</td>\n",
       "      <td>644.000000</td>\n",
       "      <td>80.746258</td>\n",
       "      <td>77.102592</td>\n",
       "      <td>79.299014</td>\n",
       "      <td>68.309602</td>\n",
       "      <td>54.289887</td>\n",
       "    </tr>\n",
       "    <tr>\n",
       "      <th>Escola O</th>\n",
       "      <td>Particular</td>\n",
       "      <td>1625</td>\n",
       "      <td>1043130.0</td>\n",
       "      <td>641.926154</td>\n",
       "      <td>83.810462</td>\n",
       "      <td>83.435077</td>\n",
       "      <td>97.292308</td>\n",
       "      <td>93.230769</td>\n",
       "      <td>90.892308</td>\n",
       "    </tr>\n",
       "  </tbody>\n",
       "</table>\n",
       "</div>"
      ],
      "text/plain": [
       "         Tipo Escola  Total Estudantes  Total Orçamento  \\\n",
       "Escola A     Publica              2917        1910635.0   \n",
       "Escola B     Publica              2949        1884411.0   \n",
       "Escola C  Particular              1761        1056600.0   \n",
       "Escola D     Publica              4635        3022020.0   \n",
       "Escola E  Particular              1468         917500.0   \n",
       "Escola F  Particular              2283        1319574.0   \n",
       "Escola G  Particular              1858        1081356.0   \n",
       "Escola H     Publica              4976        3124928.0   \n",
       "Escola I  Particular               427         248087.0   \n",
       "Escola J  Particular               962         585858.0   \n",
       "Escola K  Particular              1800        1049400.0   \n",
       "Escola L     Publica              3999        2547363.0   \n",
       "Escola M     Publica              4761        3094650.0   \n",
       "Escola N     Publica              2739        1763916.0   \n",
       "Escola O  Particular              1625        1043130.0   \n",
       "\n",
       "          Orçamento Por Estudante  Nota Média Aprovação Redação  \\\n",
       "Escola A               655.000000                     81.182722   \n",
       "Escola B               639.000000                     81.158020   \n",
       "Escola C               600.000000                     83.725724   \n",
       "Escola D               652.000000                     80.934412   \n",
       "Escola E               625.000000                     83.816757   \n",
       "Escola F               578.000000                     83.989488   \n",
       "Escola G               582.000000                     83.975780   \n",
       "Escola H               628.000000                     81.033963   \n",
       "Escola I               581.000000                     83.814988   \n",
       "Escola J               609.000000                     84.044699   \n",
       "Escola K               583.000000                     83.955000   \n",
       "Escola L               637.000000                     80.744686   \n",
       "Escola M               650.000000                     80.966394   \n",
       "Escola N               644.000000                     80.746258   \n",
       "Escola O               641.926154                     83.810462   \n",
       "\n",
       "          Nota Média Aprovação Matemática  % Aprovados Redação  \\\n",
       "Escola A                        76.629414            81.316421   \n",
       "Escola B                        76.711767            80.739234   \n",
       "Escola C                        83.359455            95.854628   \n",
       "Escola D                        77.289752            80.862999   \n",
       "Escola E                        83.351499            97.138965   \n",
       "Escola F                        83.274201            96.539641   \n",
       "Escola G                        83.061895            97.039828   \n",
       "Escola H                        77.048432            81.933280   \n",
       "Escola I                        83.803279            96.252927   \n",
       "Escola J                        83.839917            95.945946   \n",
       "Escola K                        83.682222            96.611111   \n",
       "Escola L                        76.842711            80.220055   \n",
       "Escola M                        77.072464            81.222432   \n",
       "Escola N                        77.102592            79.299014   \n",
       "Escola O                        83.435077            97.292308   \n",
       "\n",
       "          % Aprovados Matemática  % Geral Aprovados  \n",
       "Escola A               65.683922          53.513884  \n",
       "Escola B               65.988471          53.204476  \n",
       "Escola C               93.867121          89.892107  \n",
       "Escola D               66.752967          53.527508  \n",
       "Escola E               93.392371          90.599455  \n",
       "Escola F               93.867718          90.582567  \n",
       "Escola G               94.133477          91.334769  \n",
       "Escola H               66.680064          54.642283  \n",
       "Escola I               92.505855          89.227166  \n",
       "Escola J               94.594595          90.540541  \n",
       "Escola K               93.333333          90.333333  \n",
       "Escola L               66.366592          52.988247  \n",
       "Escola M               66.057551          53.539172  \n",
       "Escola N               68.309602          54.289887  \n",
       "Escola O               93.230769          90.892308  "
      ]
     },
     "execution_count": 52,
     "metadata": {},
     "output_type": "execute_result"
    }
   ],
   "source": [
    "df_resumo_performance_escolar"
   ]
  },
  {
   "cell_type": "code",
   "execution_count": 53,
   "id": "5aa90c1c",
   "metadata": {},
   "outputs": [],
   "source": [
    "# Formatação de algumas colunas\n",
    "df_resumo_performance_escolar[\"Total Orçamento\"] = df_resumo_performance_escolar[\"Total Orçamento\"].map(\"${:,.2f}\".format)\n",
    "df_resumo_performance_escolar[\"Orçamento Por Estudante\"] = df_resumo_performance_escolar[\"Orçamento Por Estudante\"].map(\"${:,.2f}\".format)"
   ]
  },
  {
   "cell_type": "code",
   "execution_count": 54,
   "id": "e3fd6cac",
   "metadata": {},
   "outputs": [
    {
     "data": {
      "text/html": [
       "<div>\n",
       "<style scoped>\n",
       "    .dataframe tbody tr th:only-of-type {\n",
       "        vertical-align: middle;\n",
       "    }\n",
       "\n",
       "    .dataframe tbody tr th {\n",
       "        vertical-align: top;\n",
       "    }\n",
       "\n",
       "    .dataframe thead th {\n",
       "        text-align: right;\n",
       "    }\n",
       "</style>\n",
       "<table border=\"1\" class=\"dataframe\">\n",
       "  <thead>\n",
       "    <tr style=\"text-align: right;\">\n",
       "      <th></th>\n",
       "      <th>Tipo Escola</th>\n",
       "      <th>Total Estudantes</th>\n",
       "      <th>Total Orçamento</th>\n",
       "      <th>Orçamento Por Estudante</th>\n",
       "      <th>Nota Média Aprovação Redação</th>\n",
       "      <th>Nota Média Aprovação Matemática</th>\n",
       "      <th>% Aprovados Redação</th>\n",
       "      <th>% Aprovados Matemática</th>\n",
       "      <th>% Geral Aprovados</th>\n",
       "    </tr>\n",
       "  </thead>\n",
       "  <tbody>\n",
       "    <tr>\n",
       "      <th>Escola A</th>\n",
       "      <td>Publica</td>\n",
       "      <td>2917</td>\n",
       "      <td>$1,910,635.00</td>\n",
       "      <td>$655.00</td>\n",
       "      <td>81.182722</td>\n",
       "      <td>76.629414</td>\n",
       "      <td>81.316421</td>\n",
       "      <td>65.683922</td>\n",
       "      <td>53.513884</td>\n",
       "    </tr>\n",
       "    <tr>\n",
       "      <th>Escola B</th>\n",
       "      <td>Publica</td>\n",
       "      <td>2949</td>\n",
       "      <td>$1,884,411.00</td>\n",
       "      <td>$639.00</td>\n",
       "      <td>81.158020</td>\n",
       "      <td>76.711767</td>\n",
       "      <td>80.739234</td>\n",
       "      <td>65.988471</td>\n",
       "      <td>53.204476</td>\n",
       "    </tr>\n",
       "    <tr>\n",
       "      <th>Escola C</th>\n",
       "      <td>Particular</td>\n",
       "      <td>1761</td>\n",
       "      <td>$1,056,600.00</td>\n",
       "      <td>$600.00</td>\n",
       "      <td>83.725724</td>\n",
       "      <td>83.359455</td>\n",
       "      <td>95.854628</td>\n",
       "      <td>93.867121</td>\n",
       "      <td>89.892107</td>\n",
       "    </tr>\n",
       "    <tr>\n",
       "      <th>Escola D</th>\n",
       "      <td>Publica</td>\n",
       "      <td>4635</td>\n",
       "      <td>$3,022,020.00</td>\n",
       "      <td>$652.00</td>\n",
       "      <td>80.934412</td>\n",
       "      <td>77.289752</td>\n",
       "      <td>80.862999</td>\n",
       "      <td>66.752967</td>\n",
       "      <td>53.527508</td>\n",
       "    </tr>\n",
       "    <tr>\n",
       "      <th>Escola E</th>\n",
       "      <td>Particular</td>\n",
       "      <td>1468</td>\n",
       "      <td>$917,500.00</td>\n",
       "      <td>$625.00</td>\n",
       "      <td>83.816757</td>\n",
       "      <td>83.351499</td>\n",
       "      <td>97.138965</td>\n",
       "      <td>93.392371</td>\n",
       "      <td>90.599455</td>\n",
       "    </tr>\n",
       "    <tr>\n",
       "      <th>Escola F</th>\n",
       "      <td>Particular</td>\n",
       "      <td>2283</td>\n",
       "      <td>$1,319,574.00</td>\n",
       "      <td>$578.00</td>\n",
       "      <td>83.989488</td>\n",
       "      <td>83.274201</td>\n",
       "      <td>96.539641</td>\n",
       "      <td>93.867718</td>\n",
       "      <td>90.582567</td>\n",
       "    </tr>\n",
       "    <tr>\n",
       "      <th>Escola G</th>\n",
       "      <td>Particular</td>\n",
       "      <td>1858</td>\n",
       "      <td>$1,081,356.00</td>\n",
       "      <td>$582.00</td>\n",
       "      <td>83.975780</td>\n",
       "      <td>83.061895</td>\n",
       "      <td>97.039828</td>\n",
       "      <td>94.133477</td>\n",
       "      <td>91.334769</td>\n",
       "    </tr>\n",
       "    <tr>\n",
       "      <th>Escola H</th>\n",
       "      <td>Publica</td>\n",
       "      <td>4976</td>\n",
       "      <td>$3,124,928.00</td>\n",
       "      <td>$628.00</td>\n",
       "      <td>81.033963</td>\n",
       "      <td>77.048432</td>\n",
       "      <td>81.933280</td>\n",
       "      <td>66.680064</td>\n",
       "      <td>54.642283</td>\n",
       "    </tr>\n",
       "    <tr>\n",
       "      <th>Escola I</th>\n",
       "      <td>Particular</td>\n",
       "      <td>427</td>\n",
       "      <td>$248,087.00</td>\n",
       "      <td>$581.00</td>\n",
       "      <td>83.814988</td>\n",
       "      <td>83.803279</td>\n",
       "      <td>96.252927</td>\n",
       "      <td>92.505855</td>\n",
       "      <td>89.227166</td>\n",
       "    </tr>\n",
       "    <tr>\n",
       "      <th>Escola J</th>\n",
       "      <td>Particular</td>\n",
       "      <td>962</td>\n",
       "      <td>$585,858.00</td>\n",
       "      <td>$609.00</td>\n",
       "      <td>84.044699</td>\n",
       "      <td>83.839917</td>\n",
       "      <td>95.945946</td>\n",
       "      <td>94.594595</td>\n",
       "      <td>90.540541</td>\n",
       "    </tr>\n",
       "    <tr>\n",
       "      <th>Escola K</th>\n",
       "      <td>Particular</td>\n",
       "      <td>1800</td>\n",
       "      <td>$1,049,400.00</td>\n",
       "      <td>$583.00</td>\n",
       "      <td>83.955000</td>\n",
       "      <td>83.682222</td>\n",
       "      <td>96.611111</td>\n",
       "      <td>93.333333</td>\n",
       "      <td>90.333333</td>\n",
       "    </tr>\n",
       "    <tr>\n",
       "      <th>Escola L</th>\n",
       "      <td>Publica</td>\n",
       "      <td>3999</td>\n",
       "      <td>$2,547,363.00</td>\n",
       "      <td>$637.00</td>\n",
       "      <td>80.744686</td>\n",
       "      <td>76.842711</td>\n",
       "      <td>80.220055</td>\n",
       "      <td>66.366592</td>\n",
       "      <td>52.988247</td>\n",
       "    </tr>\n",
       "    <tr>\n",
       "      <th>Escola M</th>\n",
       "      <td>Publica</td>\n",
       "      <td>4761</td>\n",
       "      <td>$3,094,650.00</td>\n",
       "      <td>$650.00</td>\n",
       "      <td>80.966394</td>\n",
       "      <td>77.072464</td>\n",
       "      <td>81.222432</td>\n",
       "      <td>66.057551</td>\n",
       "      <td>53.539172</td>\n",
       "    </tr>\n",
       "    <tr>\n",
       "      <th>Escola N</th>\n",
       "      <td>Publica</td>\n",
       "      <td>2739</td>\n",
       "      <td>$1,763,916.00</td>\n",
       "      <td>$644.00</td>\n",
       "      <td>80.746258</td>\n",
       "      <td>77.102592</td>\n",
       "      <td>79.299014</td>\n",
       "      <td>68.309602</td>\n",
       "      <td>54.289887</td>\n",
       "    </tr>\n",
       "    <tr>\n",
       "      <th>Escola O</th>\n",
       "      <td>Particular</td>\n",
       "      <td>1625</td>\n",
       "      <td>$1,043,130.00</td>\n",
       "      <td>$641.93</td>\n",
       "      <td>83.810462</td>\n",
       "      <td>83.435077</td>\n",
       "      <td>97.292308</td>\n",
       "      <td>93.230769</td>\n",
       "      <td>90.892308</td>\n",
       "    </tr>\n",
       "  </tbody>\n",
       "</table>\n",
       "</div>"
      ],
      "text/plain": [
       "         Tipo Escola  Total Estudantes Total Orçamento  \\\n",
       "Escola A     Publica              2917   $1,910,635.00   \n",
       "Escola B     Publica              2949   $1,884,411.00   \n",
       "Escola C  Particular              1761   $1,056,600.00   \n",
       "Escola D     Publica              4635   $3,022,020.00   \n",
       "Escola E  Particular              1468     $917,500.00   \n",
       "Escola F  Particular              2283   $1,319,574.00   \n",
       "Escola G  Particular              1858   $1,081,356.00   \n",
       "Escola H     Publica              4976   $3,124,928.00   \n",
       "Escola I  Particular               427     $248,087.00   \n",
       "Escola J  Particular               962     $585,858.00   \n",
       "Escola K  Particular              1800   $1,049,400.00   \n",
       "Escola L     Publica              3999   $2,547,363.00   \n",
       "Escola M     Publica              4761   $3,094,650.00   \n",
       "Escola N     Publica              2739   $1,763,916.00   \n",
       "Escola O  Particular              1625   $1,043,130.00   \n",
       "\n",
       "         Orçamento Por Estudante  Nota Média Aprovação Redação  \\\n",
       "Escola A                 $655.00                     81.182722   \n",
       "Escola B                 $639.00                     81.158020   \n",
       "Escola C                 $600.00                     83.725724   \n",
       "Escola D                 $652.00                     80.934412   \n",
       "Escola E                 $625.00                     83.816757   \n",
       "Escola F                 $578.00                     83.989488   \n",
       "Escola G                 $582.00                     83.975780   \n",
       "Escola H                 $628.00                     81.033963   \n",
       "Escola I                 $581.00                     83.814988   \n",
       "Escola J                 $609.00                     84.044699   \n",
       "Escola K                 $583.00                     83.955000   \n",
       "Escola L                 $637.00                     80.744686   \n",
       "Escola M                 $650.00                     80.966394   \n",
       "Escola N                 $644.00                     80.746258   \n",
       "Escola O                 $641.93                     83.810462   \n",
       "\n",
       "          Nota Média Aprovação Matemática  % Aprovados Redação  \\\n",
       "Escola A                        76.629414            81.316421   \n",
       "Escola B                        76.711767            80.739234   \n",
       "Escola C                        83.359455            95.854628   \n",
       "Escola D                        77.289752            80.862999   \n",
       "Escola E                        83.351499            97.138965   \n",
       "Escola F                        83.274201            96.539641   \n",
       "Escola G                        83.061895            97.039828   \n",
       "Escola H                        77.048432            81.933280   \n",
       "Escola I                        83.803279            96.252927   \n",
       "Escola J                        83.839917            95.945946   \n",
       "Escola K                        83.682222            96.611111   \n",
       "Escola L                        76.842711            80.220055   \n",
       "Escola M                        77.072464            81.222432   \n",
       "Escola N                        77.102592            79.299014   \n",
       "Escola O                        83.435077            97.292308   \n",
       "\n",
       "          % Aprovados Matemática  % Geral Aprovados  \n",
       "Escola A               65.683922          53.513884  \n",
       "Escola B               65.988471          53.204476  \n",
       "Escola C               93.867121          89.892107  \n",
       "Escola D               66.752967          53.527508  \n",
       "Escola E               93.392371          90.599455  \n",
       "Escola F               93.867718          90.582567  \n",
       "Escola G               94.133477          91.334769  \n",
       "Escola H               66.680064          54.642283  \n",
       "Escola I               92.505855          89.227166  \n",
       "Escola J               94.594595          90.540541  \n",
       "Escola K               93.333333          90.333333  \n",
       "Escola L               66.366592          52.988247  \n",
       "Escola M               66.057551          53.539172  \n",
       "Escola N               68.309602          54.289887  \n",
       "Escola O               93.230769          90.892308  "
      ]
     },
     "execution_count": 54,
     "metadata": {},
     "output_type": "execute_result"
    }
   ],
   "source": [
    "df_resumo_performance_escolar"
   ]
  },
  {
   "cell_type": "code",
   "execution_count": 55,
   "id": "cf4ab92f",
   "metadata": {},
   "outputs": [
    {
     "data": {
      "text/html": [
       "<div>\n",
       "<style scoped>\n",
       "    .dataframe tbody tr th:only-of-type {\n",
       "        vertical-align: middle;\n",
       "    }\n",
       "\n",
       "    .dataframe tbody tr th {\n",
       "        vertical-align: top;\n",
       "    }\n",
       "\n",
       "    .dataframe thead th {\n",
       "        text-align: right;\n",
       "    }\n",
       "</style>\n",
       "<table border=\"1\" class=\"dataframe\">\n",
       "  <thead>\n",
       "    <tr style=\"text-align: right;\">\n",
       "      <th></th>\n",
       "      <th>Total Estudantes</th>\n",
       "      <th>Nota Média Aprovação Redação</th>\n",
       "      <th>Nota Média Aprovação Matemática</th>\n",
       "      <th>% Aprovados Redação</th>\n",
       "      <th>% Aprovados Matemática</th>\n",
       "      <th>% Geral Aprovados</th>\n",
       "    </tr>\n",
       "  </thead>\n",
       "  <tbody>\n",
       "    <tr>\n",
       "      <th>count</th>\n",
       "      <td>15.000000</td>\n",
       "      <td>15.000000</td>\n",
       "      <td>15.000000</td>\n",
       "      <td>15.000000</td>\n",
       "      <td>15.000000</td>\n",
       "      <td>15.000000</td>\n",
       "    </tr>\n",
       "    <tr>\n",
       "      <th>mean</th>\n",
       "      <td>2610.666667</td>\n",
       "      <td>82.526623</td>\n",
       "      <td>80.433645</td>\n",
       "      <td>89.217919</td>\n",
       "      <td>80.984294</td>\n",
       "      <td>73.273847</td>\n",
       "    </tr>\n",
       "    <tr>\n",
       "      <th>std</th>\n",
       "      <td>1421.408339</td>\n",
       "      <td>1.516973</td>\n",
       "      <td>3.375608</td>\n",
       "      <td>8.179495</td>\n",
       "      <td>13.996232</td>\n",
       "      <td>18.988451</td>\n",
       "    </tr>\n",
       "    <tr>\n",
       "      <th>min</th>\n",
       "      <td>427.000000</td>\n",
       "      <td>80.744686</td>\n",
       "      <td>76.629414</td>\n",
       "      <td>79.299014</td>\n",
       "      <td>65.683922</td>\n",
       "      <td>52.988247</td>\n",
       "    </tr>\n",
       "    <tr>\n",
       "      <th>25%</th>\n",
       "      <td>1693.000000</td>\n",
       "      <td>81.000178</td>\n",
       "      <td>77.060448</td>\n",
       "      <td>81.042716</td>\n",
       "      <td>66.523328</td>\n",
       "      <td>53.533340</td>\n",
       "    </tr>\n",
       "    <tr>\n",
       "      <th>50%</th>\n",
       "      <td>2283.000000</td>\n",
       "      <td>83.725724</td>\n",
       "      <td>83.061895</td>\n",
       "      <td>95.854628</td>\n",
       "      <td>92.505855</td>\n",
       "      <td>89.227166</td>\n",
       "    </tr>\n",
       "    <tr>\n",
       "      <th>75%</th>\n",
       "      <td>3474.000000</td>\n",
       "      <td>83.885879</td>\n",
       "      <td>83.397266</td>\n",
       "      <td>96.575376</td>\n",
       "      <td>93.629746</td>\n",
       "      <td>90.561554</td>\n",
       "    </tr>\n",
       "    <tr>\n",
       "      <th>max</th>\n",
       "      <td>4976.000000</td>\n",
       "      <td>84.044699</td>\n",
       "      <td>83.839917</td>\n",
       "      <td>97.292308</td>\n",
       "      <td>94.594595</td>\n",
       "      <td>91.334769</td>\n",
       "    </tr>\n",
       "  </tbody>\n",
       "</table>\n",
       "</div>"
      ],
      "text/plain": [
       "       Total Estudantes  Nota Média Aprovação Redação  \\\n",
       "count         15.000000                     15.000000   \n",
       "mean        2610.666667                     82.526623   \n",
       "std         1421.408339                      1.516973   \n",
       "min          427.000000                     80.744686   \n",
       "25%         1693.000000                     81.000178   \n",
       "50%         2283.000000                     83.725724   \n",
       "75%         3474.000000                     83.885879   \n",
       "max         4976.000000                     84.044699   \n",
       "\n",
       "       Nota Média Aprovação Matemática  % Aprovados Redação  \\\n",
       "count                        15.000000            15.000000   \n",
       "mean                         80.433645            89.217919   \n",
       "std                           3.375608             8.179495   \n",
       "min                          76.629414            79.299014   \n",
       "25%                          77.060448            81.042716   \n",
       "50%                          83.061895            95.854628   \n",
       "75%                          83.397266            96.575376   \n",
       "max                          83.839917            97.292308   \n",
       "\n",
       "       % Aprovados Matemática  % Geral Aprovados  \n",
       "count               15.000000          15.000000  \n",
       "mean                80.984294          73.273847  \n",
       "std                 13.996232          18.988451  \n",
       "min                 65.683922          52.988247  \n",
       "25%                 66.523328          53.533340  \n",
       "50%                 92.505855          89.227166  \n",
       "75%                 93.629746          90.561554  \n",
       "max                 94.594595          91.334769  "
      ]
     },
     "execution_count": 55,
     "metadata": {},
     "output_type": "execute_result"
    }
   ],
   "source": [
    "df_resumo_performance_escolar.describe()"
   ]
  },
  {
   "cell_type": "markdown",
   "id": "6f7bfbdd",
   "metadata": {},
   "source": [
    "**Considerando a taxa geral de aprovados, quais as 5 escolas com melhor performance?**"
   ]
  },
  {
   "cell_type": "code",
   "execution_count": 56,
   "id": "577f5367",
   "metadata": {},
   "outputs": [
    {
     "data": {
      "text/html": [
       "<div>\n",
       "<style scoped>\n",
       "    .dataframe tbody tr th:only-of-type {\n",
       "        vertical-align: middle;\n",
       "    }\n",
       "\n",
       "    .dataframe tbody tr th {\n",
       "        vertical-align: top;\n",
       "    }\n",
       "\n",
       "    .dataframe thead th {\n",
       "        text-align: right;\n",
       "    }\n",
       "</style>\n",
       "<table border=\"1\" class=\"dataframe\">\n",
       "  <thead>\n",
       "    <tr style=\"text-align: right;\">\n",
       "      <th></th>\n",
       "      <th>Tipo Escola</th>\n",
       "      <th>Total Estudantes</th>\n",
       "      <th>Total Orçamento</th>\n",
       "      <th>Orçamento Por Estudante</th>\n",
       "      <th>Nota Média Aprovação Redação</th>\n",
       "      <th>Nota Média Aprovação Matemática</th>\n",
       "      <th>% Aprovados Redação</th>\n",
       "      <th>% Aprovados Matemática</th>\n",
       "      <th>% Geral Aprovados</th>\n",
       "    </tr>\n",
       "  </thead>\n",
       "  <tbody>\n",
       "    <tr>\n",
       "      <th>Escola G</th>\n",
       "      <td>Particular</td>\n",
       "      <td>1858</td>\n",
       "      <td>$1,081,356.00</td>\n",
       "      <td>$582.00</td>\n",
       "      <td>83.975780</td>\n",
       "      <td>83.061895</td>\n",
       "      <td>97.039828</td>\n",
       "      <td>94.133477</td>\n",
       "      <td>91.334769</td>\n",
       "    </tr>\n",
       "    <tr>\n",
       "      <th>Escola O</th>\n",
       "      <td>Particular</td>\n",
       "      <td>1625</td>\n",
       "      <td>$1,043,130.00</td>\n",
       "      <td>$641.93</td>\n",
       "      <td>83.810462</td>\n",
       "      <td>83.435077</td>\n",
       "      <td>97.292308</td>\n",
       "      <td>93.230769</td>\n",
       "      <td>90.892308</td>\n",
       "    </tr>\n",
       "    <tr>\n",
       "      <th>Escola E</th>\n",
       "      <td>Particular</td>\n",
       "      <td>1468</td>\n",
       "      <td>$917,500.00</td>\n",
       "      <td>$625.00</td>\n",
       "      <td>83.816757</td>\n",
       "      <td>83.351499</td>\n",
       "      <td>97.138965</td>\n",
       "      <td>93.392371</td>\n",
       "      <td>90.599455</td>\n",
       "    </tr>\n",
       "    <tr>\n",
       "      <th>Escola F</th>\n",
       "      <td>Particular</td>\n",
       "      <td>2283</td>\n",
       "      <td>$1,319,574.00</td>\n",
       "      <td>$578.00</td>\n",
       "      <td>83.989488</td>\n",
       "      <td>83.274201</td>\n",
       "      <td>96.539641</td>\n",
       "      <td>93.867718</td>\n",
       "      <td>90.582567</td>\n",
       "    </tr>\n",
       "    <tr>\n",
       "      <th>Escola J</th>\n",
       "      <td>Particular</td>\n",
       "      <td>962</td>\n",
       "      <td>$585,858.00</td>\n",
       "      <td>$609.00</td>\n",
       "      <td>84.044699</td>\n",
       "      <td>83.839917</td>\n",
       "      <td>95.945946</td>\n",
       "      <td>94.594595</td>\n",
       "      <td>90.540541</td>\n",
       "    </tr>\n",
       "  </tbody>\n",
       "</table>\n",
       "</div>"
      ],
      "text/plain": [
       "         Tipo Escola  Total Estudantes Total Orçamento  \\\n",
       "Escola G  Particular              1858   $1,081,356.00   \n",
       "Escola O  Particular              1625   $1,043,130.00   \n",
       "Escola E  Particular              1468     $917,500.00   \n",
       "Escola F  Particular              2283   $1,319,574.00   \n",
       "Escola J  Particular               962     $585,858.00   \n",
       "\n",
       "         Orçamento Por Estudante  Nota Média Aprovação Redação  \\\n",
       "Escola G                 $582.00                     83.975780   \n",
       "Escola O                 $641.93                     83.810462   \n",
       "Escola E                 $625.00                     83.816757   \n",
       "Escola F                 $578.00                     83.989488   \n",
       "Escola J                 $609.00                     84.044699   \n",
       "\n",
       "          Nota Média Aprovação Matemática  % Aprovados Redação  \\\n",
       "Escola G                        83.061895            97.039828   \n",
       "Escola O                        83.435077            97.292308   \n",
       "Escola E                        83.351499            97.138965   \n",
       "Escola F                        83.274201            96.539641   \n",
       "Escola J                        83.839917            95.945946   \n",
       "\n",
       "          % Aprovados Matemática  % Geral Aprovados  \n",
       "Escola G               94.133477          91.334769  \n",
       "Escola O               93.230769          90.892308  \n",
       "Escola E               93.392371          90.599455  \n",
       "Escola F               93.867718          90.582567  \n",
       "Escola J               94.594595          90.540541  "
      ]
     },
     "execution_count": 56,
     "metadata": {},
     "output_type": "execute_result"
    }
   ],
   "source": [
    "top_cinco = df_resumo_performance_escolar.sort_values('% Geral Aprovados', ascending = False).head(5) ; top_cinco"
   ]
  },
  {
   "cell_type": "markdown",
   "id": "56b5dda1",
   "metadata": {},
   "source": [
    "**Considerando a taxa geral de aprovados, quais as 5 escolas com pior performance?**"
   ]
  },
  {
   "cell_type": "code",
   "execution_count": 57,
   "id": "b86c2d12",
   "metadata": {},
   "outputs": [
    {
     "data": {
      "text/html": [
       "<div>\n",
       "<style scoped>\n",
       "    .dataframe tbody tr th:only-of-type {\n",
       "        vertical-align: middle;\n",
       "    }\n",
       "\n",
       "    .dataframe tbody tr th {\n",
       "        vertical-align: top;\n",
       "    }\n",
       "\n",
       "    .dataframe thead th {\n",
       "        text-align: right;\n",
       "    }\n",
       "</style>\n",
       "<table border=\"1\" class=\"dataframe\">\n",
       "  <thead>\n",
       "    <tr style=\"text-align: right;\">\n",
       "      <th></th>\n",
       "      <th>Tipo Escola</th>\n",
       "      <th>Total Estudantes</th>\n",
       "      <th>Total Orçamento</th>\n",
       "      <th>Orçamento Por Estudante</th>\n",
       "      <th>Nota Média Aprovação Redação</th>\n",
       "      <th>Nota Média Aprovação Matemática</th>\n",
       "      <th>% Aprovados Redação</th>\n",
       "      <th>% Aprovados Matemática</th>\n",
       "      <th>% Geral Aprovados</th>\n",
       "    </tr>\n",
       "  </thead>\n",
       "  <tbody>\n",
       "    <tr>\n",
       "      <th>Escola L</th>\n",
       "      <td>Publica</td>\n",
       "      <td>3999</td>\n",
       "      <td>$2,547,363.00</td>\n",
       "      <td>$637.00</td>\n",
       "      <td>80.744686</td>\n",
       "      <td>76.842711</td>\n",
       "      <td>80.220055</td>\n",
       "      <td>66.366592</td>\n",
       "      <td>52.988247</td>\n",
       "    </tr>\n",
       "    <tr>\n",
       "      <th>Escola B</th>\n",
       "      <td>Publica</td>\n",
       "      <td>2949</td>\n",
       "      <td>$1,884,411.00</td>\n",
       "      <td>$639.00</td>\n",
       "      <td>81.158020</td>\n",
       "      <td>76.711767</td>\n",
       "      <td>80.739234</td>\n",
       "      <td>65.988471</td>\n",
       "      <td>53.204476</td>\n",
       "    </tr>\n",
       "    <tr>\n",
       "      <th>Escola A</th>\n",
       "      <td>Publica</td>\n",
       "      <td>2917</td>\n",
       "      <td>$1,910,635.00</td>\n",
       "      <td>$655.00</td>\n",
       "      <td>81.182722</td>\n",
       "      <td>76.629414</td>\n",
       "      <td>81.316421</td>\n",
       "      <td>65.683922</td>\n",
       "      <td>53.513884</td>\n",
       "    </tr>\n",
       "    <tr>\n",
       "      <th>Escola D</th>\n",
       "      <td>Publica</td>\n",
       "      <td>4635</td>\n",
       "      <td>$3,022,020.00</td>\n",
       "      <td>$652.00</td>\n",
       "      <td>80.934412</td>\n",
       "      <td>77.289752</td>\n",
       "      <td>80.862999</td>\n",
       "      <td>66.752967</td>\n",
       "      <td>53.527508</td>\n",
       "    </tr>\n",
       "    <tr>\n",
       "      <th>Escola M</th>\n",
       "      <td>Publica</td>\n",
       "      <td>4761</td>\n",
       "      <td>$3,094,650.00</td>\n",
       "      <td>$650.00</td>\n",
       "      <td>80.966394</td>\n",
       "      <td>77.072464</td>\n",
       "      <td>81.222432</td>\n",
       "      <td>66.057551</td>\n",
       "      <td>53.539172</td>\n",
       "    </tr>\n",
       "  </tbody>\n",
       "</table>\n",
       "</div>"
      ],
      "text/plain": [
       "         Tipo Escola  Total Estudantes Total Orçamento  \\\n",
       "Escola L     Publica              3999   $2,547,363.00   \n",
       "Escola B     Publica              2949   $1,884,411.00   \n",
       "Escola A     Publica              2917   $1,910,635.00   \n",
       "Escola D     Publica              4635   $3,022,020.00   \n",
       "Escola M     Publica              4761   $3,094,650.00   \n",
       "\n",
       "         Orçamento Por Estudante  Nota Média Aprovação Redação  \\\n",
       "Escola L                 $637.00                     80.744686   \n",
       "Escola B                 $639.00                     81.158020   \n",
       "Escola A                 $655.00                     81.182722   \n",
       "Escola D                 $652.00                     80.934412   \n",
       "Escola M                 $650.00                     80.966394   \n",
       "\n",
       "          Nota Média Aprovação Matemática  % Aprovados Redação  \\\n",
       "Escola L                        76.842711            80.220055   \n",
       "Escola B                        76.711767            80.739234   \n",
       "Escola A                        76.629414            81.316421   \n",
       "Escola D                        77.289752            80.862999   \n",
       "Escola M                        77.072464            81.222432   \n",
       "\n",
       "          % Aprovados Matemática  % Geral Aprovados  \n",
       "Escola L               66.366592          52.988247  \n",
       "Escola B               65.988471          53.204476  \n",
       "Escola A               65.683922          53.513884  \n",
       "Escola D               66.752967          53.527508  \n",
       "Escola M               66.057551          53.539172  "
      ]
     },
     "execution_count": 57,
     "metadata": {},
     "output_type": "execute_result"
    }
   ],
   "source": [
    "pior_cinco = df_resumo_performance_escolar.sort_values('% Geral Aprovados', ascending = True).head(5) ; pior_cinco"
   ]
  },
  {
   "cell_type": "markdown",
   "id": "147ceb4e",
   "metadata": {},
   "source": [
    "**Em cada série, qual escola teve os alunos com melhor performance em Matemática?**"
   ]
  },
  {
   "cell_type": "code",
   "execution_count": 58,
   "id": "e30cf345",
   "metadata": {},
   "outputs": [],
   "source": [
    "# Filtro por série\n",
    "sexta_serie = df_full[(df_full[\"Serie\"] == 6)]\n",
    "setima_serie = df_full[(df_full[\"Serie\"] == 7)]\n",
    "oitava_serie = df_full[(df_full[\"Serie\"] == 8)]\n",
    "nona_serie = df_full[(df_full[\"Serie\"] == 9)]"
   ]
  },
  {
   "cell_type": "code",
   "execution_count": 59,
   "id": "0bc4526b",
   "metadata": {},
   "outputs": [],
   "source": [
    "notas_sexta_serie = sexta_serie.groupby([\"Nome_Escola\"]).mean()[\"Nota_Matematica\"]\n",
    "notas_setima_serie = setima_serie.groupby([\"Nome_Escola\"]).mean()[\"Nota_Matematica\"]\n",
    "notas_oitava_serie = oitava_serie.groupby([\"Nome_Escola\"]).mean()[\"Nota_Matematica\"]\n",
    "notas_nona_serie = nona_serie.groupby([\"Nome_Escola\"]).mean()[\"Nota_Matematica\"]"
   ]
  },
  {
   "cell_type": "code",
   "execution_count": 60,
   "id": "2208cfc9",
   "metadata": {},
   "outputs": [],
   "source": [
    "notas_por_serie = pd.DataFrame({\"Sexta Série\": notas_sexta_serie, \n",
    "                                \"Sétima Série\": notas_setima_serie,\n",
    "                                \"Oitava Série\": notas_oitava_serie, \n",
    "                                \"Nona Série\": notas_nona_serie})"
   ]
  },
  {
   "cell_type": "code",
   "execution_count": 61,
   "id": "926d1edf",
   "metadata": {},
   "outputs": [
    {
     "data": {
      "text/html": [
       "<div>\n",
       "<style scoped>\n",
       "    .dataframe tbody tr th:only-of-type {\n",
       "        vertical-align: middle;\n",
       "    }\n",
       "\n",
       "    .dataframe tbody tr th {\n",
       "        vertical-align: top;\n",
       "    }\n",
       "\n",
       "    .dataframe thead th {\n",
       "        text-align: right;\n",
       "    }\n",
       "</style>\n",
       "<table border=\"1\" class=\"dataframe\">\n",
       "  <thead>\n",
       "    <tr style=\"text-align: right;\">\n",
       "      <th></th>\n",
       "      <th>Sexta Série</th>\n",
       "      <th>Sétima Série</th>\n",
       "      <th>Oitava Série</th>\n",
       "      <th>Nona Série</th>\n",
       "    </tr>\n",
       "    <tr>\n",
       "      <th>Nome_Escola</th>\n",
       "      <th></th>\n",
       "      <th></th>\n",
       "      <th></th>\n",
       "      <th></th>\n",
       "    </tr>\n",
       "  </thead>\n",
       "  <tbody>\n",
       "    <tr>\n",
       "      <th>Escola A</th>\n",
       "      <td>77.027251</td>\n",
       "      <td>75.908735</td>\n",
       "      <td>76.446602</td>\n",
       "      <td>77.225641</td>\n",
       "    </tr>\n",
       "    <tr>\n",
       "      <th>Escola B</th>\n",
       "      <td>76.403037</td>\n",
       "      <td>76.539974</td>\n",
       "      <td>76.884344</td>\n",
       "      <td>77.151369</td>\n",
       "    </tr>\n",
       "    <tr>\n",
       "      <th>Escola C</th>\n",
       "      <td>83.420755</td>\n",
       "      <td>82.917411</td>\n",
       "      <td>83.383495</td>\n",
       "      <td>83.778976</td>\n",
       "    </tr>\n",
       "    <tr>\n",
       "      <th>Escola D</th>\n",
       "      <td>77.438495</td>\n",
       "      <td>77.337408</td>\n",
       "      <td>77.136029</td>\n",
       "      <td>77.186567</td>\n",
       "    </tr>\n",
       "    <tr>\n",
       "      <th>Escola E</th>\n",
       "      <td>82.044010</td>\n",
       "      <td>84.229064</td>\n",
       "      <td>83.842105</td>\n",
       "      <td>83.356164</td>\n",
       "    </tr>\n",
       "    <tr>\n",
       "      <th>Escola F</th>\n",
       "      <td>83.085578</td>\n",
       "      <td>83.724422</td>\n",
       "      <td>83.195326</td>\n",
       "      <td>83.035794</td>\n",
       "    </tr>\n",
       "    <tr>\n",
       "      <th>Escola G</th>\n",
       "      <td>83.094697</td>\n",
       "      <td>83.154506</td>\n",
       "      <td>82.765560</td>\n",
       "      <td>83.277487</td>\n",
       "    </tr>\n",
       "    <tr>\n",
       "      <th>Escola H</th>\n",
       "      <td>77.083676</td>\n",
       "      <td>76.996772</td>\n",
       "      <td>77.515588</td>\n",
       "      <td>76.492218</td>\n",
       "    </tr>\n",
       "    <tr>\n",
       "      <th>Escola I</th>\n",
       "      <td>83.787402</td>\n",
       "      <td>83.429825</td>\n",
       "      <td>85.000000</td>\n",
       "      <td>82.855422</td>\n",
       "    </tr>\n",
       "    <tr>\n",
       "      <th>Escola J</th>\n",
       "      <td>83.625455</td>\n",
       "      <td>83.372000</td>\n",
       "      <td>84.328125</td>\n",
       "      <td>84.121547</td>\n",
       "    </tr>\n",
       "    <tr>\n",
       "      <th>Escola K</th>\n",
       "      <td>83.264706</td>\n",
       "      <td>84.010288</td>\n",
       "      <td>83.836782</td>\n",
       "      <td>83.644986</td>\n",
       "    </tr>\n",
       "    <tr>\n",
       "      <th>Escola L</th>\n",
       "      <td>76.859966</td>\n",
       "      <td>76.612500</td>\n",
       "      <td>76.395626</td>\n",
       "      <td>77.690748</td>\n",
       "    </tr>\n",
       "    <tr>\n",
       "      <th>Escola M</th>\n",
       "      <td>77.187857</td>\n",
       "      <td>76.691117</td>\n",
       "      <td>77.491653</td>\n",
       "      <td>76.863248</td>\n",
       "    </tr>\n",
       "    <tr>\n",
       "      <th>Escola N</th>\n",
       "      <td>77.361345</td>\n",
       "      <td>77.672316</td>\n",
       "      <td>76.918058</td>\n",
       "      <td>76.179963</td>\n",
       "    </tr>\n",
       "    <tr>\n",
       "      <th>Escola O</th>\n",
       "      <td>83.605664</td>\n",
       "      <td>83.100478</td>\n",
       "      <td>83.533981</td>\n",
       "      <td>83.497024</td>\n",
       "    </tr>\n",
       "  </tbody>\n",
       "</table>\n",
       "</div>"
      ],
      "text/plain": [
       "             Sexta Série  Sétima Série  Oitava Série  Nona Série\n",
       "Nome_Escola                                                     \n",
       "Escola A       77.027251     75.908735     76.446602   77.225641\n",
       "Escola B       76.403037     76.539974     76.884344   77.151369\n",
       "Escola C       83.420755     82.917411     83.383495   83.778976\n",
       "Escola D       77.438495     77.337408     77.136029   77.186567\n",
       "Escola E       82.044010     84.229064     83.842105   83.356164\n",
       "Escola F       83.085578     83.724422     83.195326   83.035794\n",
       "Escola G       83.094697     83.154506     82.765560   83.277487\n",
       "Escola H       77.083676     76.996772     77.515588   76.492218\n",
       "Escola I       83.787402     83.429825     85.000000   82.855422\n",
       "Escola J       83.625455     83.372000     84.328125   84.121547\n",
       "Escola K       83.264706     84.010288     83.836782   83.644986\n",
       "Escola L       76.859966     76.612500     76.395626   77.690748\n",
       "Escola M       77.187857     76.691117     77.491653   76.863248\n",
       "Escola N       77.361345     77.672316     76.918058   76.179963\n",
       "Escola O       83.605664     83.100478     83.533981   83.497024"
      ]
     },
     "execution_count": 61,
     "metadata": {},
     "output_type": "execute_result"
    }
   ],
   "source": [
    "notas_por_serie.sort_values(by = \"Nome_Escola\")"
   ]
  },
  {
   "cell_type": "code",
   "execution_count": 62,
   "id": "3b1782d3",
   "metadata": {},
   "outputs": [
    {
     "data": {
      "text/plain": [
       "'Escola I'"
      ]
     },
     "execution_count": 62,
     "metadata": {},
     "output_type": "execute_result"
    }
   ],
   "source": [
    "notas_por_serie[\"Sexta Série\"].idxmax()"
   ]
  },
  {
   "cell_type": "code",
   "execution_count": 63,
   "id": "55e6a0af",
   "metadata": {},
   "outputs": [
    {
     "data": {
      "text/plain": [
       "'Escola E'"
      ]
     },
     "execution_count": 63,
     "metadata": {},
     "output_type": "execute_result"
    }
   ],
   "source": [
    "notas_por_serie[\"Sétima Série\"].idxmax()"
   ]
  },
  {
   "cell_type": "code",
   "execution_count": 64,
   "id": "f40cd809",
   "metadata": {},
   "outputs": [
    {
     "data": {
      "text/plain": [
       "'Escola I'"
      ]
     },
     "execution_count": 64,
     "metadata": {},
     "output_type": "execute_result"
    }
   ],
   "source": [
    "notas_por_serie[\"Oitava Série\"].idxmax()"
   ]
  },
  {
   "cell_type": "code",
   "execution_count": 65,
   "id": "6413b35e",
   "metadata": {},
   "outputs": [
    {
     "data": {
      "text/plain": [
       "'Escola J'"
      ]
     },
     "execution_count": 65,
     "metadata": {},
     "output_type": "execute_result"
    }
   ],
   "source": [
    "notas_por_serie[\"Nona Série\"].idxmax()"
   ]
  },
  {
   "cell_type": "markdown",
   "id": "e6476fcb",
   "metadata": {},
   "source": [
    "**Considerando as faixas de gastos por estudante como sendo: [0, 585, 630, 645, 680], qual faixa resulta em estudantes com melhor performance?**"
   ]
  },
  {
   "cell_type": "code",
   "execution_count": 66,
   "id": "e36fd7a0",
   "metadata": {},
   "outputs": [
    {
     "data": {
      "text/html": [
       "<div>\n",
       "<style scoped>\n",
       "    .dataframe tbody tr th:only-of-type {\n",
       "        vertical-align: middle;\n",
       "    }\n",
       "\n",
       "    .dataframe tbody tr th {\n",
       "        vertical-align: top;\n",
       "    }\n",
       "\n",
       "    .dataframe thead th {\n",
       "        text-align: right;\n",
       "    }\n",
       "</style>\n",
       "<table border=\"1\" class=\"dataframe\">\n",
       "  <thead>\n",
       "    <tr style=\"text-align: right;\">\n",
       "      <th></th>\n",
       "      <th>Tipo Escola</th>\n",
       "      <th>Total Estudantes</th>\n",
       "      <th>Total Orçamento</th>\n",
       "      <th>Orçamento Por Estudante</th>\n",
       "      <th>Nota Média Aprovação Redação</th>\n",
       "      <th>Nota Média Aprovação Matemática</th>\n",
       "      <th>% Aprovados Redação</th>\n",
       "      <th>% Aprovados Matemática</th>\n",
       "      <th>% Geral Aprovados</th>\n",
       "    </tr>\n",
       "  </thead>\n",
       "  <tbody>\n",
       "    <tr>\n",
       "      <th>Escola A</th>\n",
       "      <td>Publica</td>\n",
       "      <td>2917</td>\n",
       "      <td>$1,910,635.00</td>\n",
       "      <td>$655.00</td>\n",
       "      <td>81.182722</td>\n",
       "      <td>76.629414</td>\n",
       "      <td>81.316421</td>\n",
       "      <td>65.683922</td>\n",
       "      <td>53.513884</td>\n",
       "    </tr>\n",
       "    <tr>\n",
       "      <th>Escola B</th>\n",
       "      <td>Publica</td>\n",
       "      <td>2949</td>\n",
       "      <td>$1,884,411.00</td>\n",
       "      <td>$639.00</td>\n",
       "      <td>81.158020</td>\n",
       "      <td>76.711767</td>\n",
       "      <td>80.739234</td>\n",
       "      <td>65.988471</td>\n",
       "      <td>53.204476</td>\n",
       "    </tr>\n",
       "    <tr>\n",
       "      <th>Escola C</th>\n",
       "      <td>Particular</td>\n",
       "      <td>1761</td>\n",
       "      <td>$1,056,600.00</td>\n",
       "      <td>$600.00</td>\n",
       "      <td>83.725724</td>\n",
       "      <td>83.359455</td>\n",
       "      <td>95.854628</td>\n",
       "      <td>93.867121</td>\n",
       "      <td>89.892107</td>\n",
       "    </tr>\n",
       "    <tr>\n",
       "      <th>Escola D</th>\n",
       "      <td>Publica</td>\n",
       "      <td>4635</td>\n",
       "      <td>$3,022,020.00</td>\n",
       "      <td>$652.00</td>\n",
       "      <td>80.934412</td>\n",
       "      <td>77.289752</td>\n",
       "      <td>80.862999</td>\n",
       "      <td>66.752967</td>\n",
       "      <td>53.527508</td>\n",
       "    </tr>\n",
       "    <tr>\n",
       "      <th>Escola E</th>\n",
       "      <td>Particular</td>\n",
       "      <td>1468</td>\n",
       "      <td>$917,500.00</td>\n",
       "      <td>$625.00</td>\n",
       "      <td>83.816757</td>\n",
       "      <td>83.351499</td>\n",
       "      <td>97.138965</td>\n",
       "      <td>93.392371</td>\n",
       "      <td>90.599455</td>\n",
       "    </tr>\n",
       "  </tbody>\n",
       "</table>\n",
       "</div>"
      ],
      "text/plain": [
       "         Tipo Escola  Total Estudantes Total Orçamento  \\\n",
       "Escola A     Publica              2917   $1,910,635.00   \n",
       "Escola B     Publica              2949   $1,884,411.00   \n",
       "Escola C  Particular              1761   $1,056,600.00   \n",
       "Escola D     Publica              4635   $3,022,020.00   \n",
       "Escola E  Particular              1468     $917,500.00   \n",
       "\n",
       "         Orçamento Por Estudante  Nota Média Aprovação Redação  \\\n",
       "Escola A                 $655.00                     81.182722   \n",
       "Escola B                 $639.00                     81.158020   \n",
       "Escola C                 $600.00                     83.725724   \n",
       "Escola D                 $652.00                     80.934412   \n",
       "Escola E                 $625.00                     83.816757   \n",
       "\n",
       "          Nota Média Aprovação Matemática  % Aprovados Redação  \\\n",
       "Escola A                        76.629414            81.316421   \n",
       "Escola B                        76.711767            80.739234   \n",
       "Escola C                        83.359455            95.854628   \n",
       "Escola D                        77.289752            80.862999   \n",
       "Escola E                        83.351499            97.138965   \n",
       "\n",
       "          % Aprovados Matemática  % Geral Aprovados  \n",
       "Escola A               65.683922          53.513884  \n",
       "Escola B               65.988471          53.204476  \n",
       "Escola C               93.867121          89.892107  \n",
       "Escola D               66.752967          53.527508  \n",
       "Escola E               93.392371          90.599455  "
      ]
     },
     "execution_count": 66,
     "metadata": {},
     "output_type": "execute_result"
    }
   ],
   "source": [
    "df_resumo_performance_escolar.head()"
   ]
  },
  {
   "cell_type": "code",
   "execution_count": 67,
   "id": "805ffb75",
   "metadata": {},
   "outputs": [
    {
     "data": {
      "text/plain": [
       "Index(['Tipo Escola', 'Total Estudantes', 'Total Orçamento',\n",
       "       'Orçamento Por Estudante', 'Nota Média Aprovação Redação',\n",
       "       'Nota Média Aprovação Matemática', '% Aprovados Redação',\n",
       "       '% Aprovados Matemática', '% Geral Aprovados'],\n",
       "      dtype='object')"
      ]
     },
     "execution_count": 67,
     "metadata": {},
     "output_type": "execute_result"
    }
   ],
   "source": [
    "df_resumo_performance_escolar.columns"
   ]
  },
  {
   "cell_type": "code",
   "execution_count": 68,
   "id": "5526a6d0",
   "metadata": {},
   "outputs": [],
   "source": [
    "# Cria a variável para faixa de gasto\n",
    "faixa_bins = [0,585,630,645, 680]"
   ]
  },
  {
   "cell_type": "code",
   "execution_count": 69,
   "id": "a0ad0fa4",
   "metadata": {},
   "outputs": [],
   "source": [
    "# Cria a variável para nome da faixa_gasto\n",
    "labels_faixa = ['<$585', '$585-630', '$630-645', '$645-680']"
   ]
  },
  {
   "cell_type": "code",
   "execution_count": 70,
   "id": "6fc53f99",
   "metadata": {},
   "outputs": [],
   "source": [
    "df_resumo_performance_escolar['Faixa Gasto Por Estudante'] = pd.cut(tot_orc_per_capita,\n",
    "                                                                    faixa_bins,\n",
    "                                                                    labels = labels_faixa,\n",
    "                                                                    right = False)"
   ]
  },
  {
   "cell_type": "code",
   "execution_count": 71,
   "id": "509ba576",
   "metadata": {},
   "outputs": [
    {
     "data": {
      "text/html": [
       "<div>\n",
       "<style scoped>\n",
       "    .dataframe tbody tr th:only-of-type {\n",
       "        vertical-align: middle;\n",
       "    }\n",
       "\n",
       "    .dataframe tbody tr th {\n",
       "        vertical-align: top;\n",
       "    }\n",
       "\n",
       "    .dataframe thead th {\n",
       "        text-align: right;\n",
       "    }\n",
       "</style>\n",
       "<table border=\"1\" class=\"dataframe\">\n",
       "  <thead>\n",
       "    <tr style=\"text-align: right;\">\n",
       "      <th></th>\n",
       "      <th>Tipo Escola</th>\n",
       "      <th>Total Estudantes</th>\n",
       "      <th>Total Orçamento</th>\n",
       "      <th>Orçamento Por Estudante</th>\n",
       "      <th>Nota Média Aprovação Redação</th>\n",
       "      <th>Nota Média Aprovação Matemática</th>\n",
       "      <th>% Aprovados Redação</th>\n",
       "      <th>% Aprovados Matemática</th>\n",
       "      <th>% Geral Aprovados</th>\n",
       "      <th>Faixa Gasto Por Estudante</th>\n",
       "    </tr>\n",
       "  </thead>\n",
       "  <tbody>\n",
       "    <tr>\n",
       "      <th>Escola A</th>\n",
       "      <td>Publica</td>\n",
       "      <td>2917</td>\n",
       "      <td>$1,910,635.00</td>\n",
       "      <td>$655.00</td>\n",
       "      <td>81.182722</td>\n",
       "      <td>76.629414</td>\n",
       "      <td>81.316421</td>\n",
       "      <td>65.683922</td>\n",
       "      <td>53.513884</td>\n",
       "      <td>$645-680</td>\n",
       "    </tr>\n",
       "    <tr>\n",
       "      <th>Escola B</th>\n",
       "      <td>Publica</td>\n",
       "      <td>2949</td>\n",
       "      <td>$1,884,411.00</td>\n",
       "      <td>$639.00</td>\n",
       "      <td>81.158020</td>\n",
       "      <td>76.711767</td>\n",
       "      <td>80.739234</td>\n",
       "      <td>65.988471</td>\n",
       "      <td>53.204476</td>\n",
       "      <td>$630-645</td>\n",
       "    </tr>\n",
       "    <tr>\n",
       "      <th>Escola C</th>\n",
       "      <td>Particular</td>\n",
       "      <td>1761</td>\n",
       "      <td>$1,056,600.00</td>\n",
       "      <td>$600.00</td>\n",
       "      <td>83.725724</td>\n",
       "      <td>83.359455</td>\n",
       "      <td>95.854628</td>\n",
       "      <td>93.867121</td>\n",
       "      <td>89.892107</td>\n",
       "      <td>$585-630</td>\n",
       "    </tr>\n",
       "    <tr>\n",
       "      <th>Escola D</th>\n",
       "      <td>Publica</td>\n",
       "      <td>4635</td>\n",
       "      <td>$3,022,020.00</td>\n",
       "      <td>$652.00</td>\n",
       "      <td>80.934412</td>\n",
       "      <td>77.289752</td>\n",
       "      <td>80.862999</td>\n",
       "      <td>66.752967</td>\n",
       "      <td>53.527508</td>\n",
       "      <td>$645-680</td>\n",
       "    </tr>\n",
       "    <tr>\n",
       "      <th>Escola E</th>\n",
       "      <td>Particular</td>\n",
       "      <td>1468</td>\n",
       "      <td>$917,500.00</td>\n",
       "      <td>$625.00</td>\n",
       "      <td>83.816757</td>\n",
       "      <td>83.351499</td>\n",
       "      <td>97.138965</td>\n",
       "      <td>93.392371</td>\n",
       "      <td>90.599455</td>\n",
       "      <td>$585-630</td>\n",
       "    </tr>\n",
       "  </tbody>\n",
       "</table>\n",
       "</div>"
      ],
      "text/plain": [
       "         Tipo Escola  Total Estudantes Total Orçamento  \\\n",
       "Escola A     Publica              2917   $1,910,635.00   \n",
       "Escola B     Publica              2949   $1,884,411.00   \n",
       "Escola C  Particular              1761   $1,056,600.00   \n",
       "Escola D     Publica              4635   $3,022,020.00   \n",
       "Escola E  Particular              1468     $917,500.00   \n",
       "\n",
       "         Orçamento Por Estudante  Nota Média Aprovação Redação  \\\n",
       "Escola A                 $655.00                     81.182722   \n",
       "Escola B                 $639.00                     81.158020   \n",
       "Escola C                 $600.00                     83.725724   \n",
       "Escola D                 $652.00                     80.934412   \n",
       "Escola E                 $625.00                     83.816757   \n",
       "\n",
       "          Nota Média Aprovação Matemática  % Aprovados Redação  \\\n",
       "Escola A                        76.629414            81.316421   \n",
       "Escola B                        76.711767            80.739234   \n",
       "Escola C                        83.359455            95.854628   \n",
       "Escola D                        77.289752            80.862999   \n",
       "Escola E                        83.351499            97.138965   \n",
       "\n",
       "          % Aprovados Matemática  % Geral Aprovados Faixa Gasto Por Estudante  \n",
       "Escola A               65.683922          53.513884                  $645-680  \n",
       "Escola B               65.988471          53.204476                  $630-645  \n",
       "Escola C               93.867121          89.892107                  $585-630  \n",
       "Escola D               66.752967          53.527508                  $645-680  \n",
       "Escola E               93.392371          90.599455                  $585-630  "
      ]
     },
     "execution_count": 71,
     "metadata": {},
     "output_type": "execute_result"
    }
   ],
   "source": [
    "df_resumo_performance_escolar.head()"
   ]
  },
  {
   "cell_type": "code",
   "execution_count": 72,
   "id": "84c06cab",
   "metadata": {},
   "outputs": [],
   "source": [
    "# Filtro para criação de um dataset\n",
    "df_bins_1 = df_resumo_performance_escolar.groupby(['Faixa Gasto Por Estudante']).mean()['Nota Média Aprovação Redação']\n",
    "df_bins_2 = df_resumo_performance_escolar.groupby(['Faixa Gasto Por Estudante']).mean()['Nota Média Aprovação Matemática']\n",
    "df_bins_3 = df_resumo_performance_escolar.groupby(['Faixa Gasto Por Estudante']).mean()['% Aprovados Redação']\n",
    "df_bins_4 = df_resumo_performance_escolar.groupby(['Faixa Gasto Por Estudante']).mean()['% Aprovados Matemática']\n",
    "df_bins_5 = df_resumo_performance_escolar.groupby(['Faixa Gasto Por Estudante']).mean()['% Geral Aprovados']"
   ]
  },
  {
   "cell_type": "code",
   "execution_count": 73,
   "id": "50c8577c",
   "metadata": {},
   "outputs": [],
   "source": [
    "# Criação do Dataframe\n",
    "df_performance_gastos = pd.DataFrame({'Média Redação': df_bins_1.round(2),\n",
    "                                      'Média Matemática' : df_bins_2.round(2),\n",
    "                                      '% Aprovados Redação' : df_bins_3.round(2),\n",
    "                                      '% Aprovados Matemática' : df_bins_4.round(2),\n",
    "                                      '% Geral Aprovados': df_bins_5.round(2)})"
   ]
  },
  {
   "cell_type": "code",
   "execution_count": 74,
   "id": "bd787c29",
   "metadata": {},
   "outputs": [
    {
     "data": {
      "text/html": [
       "<div>\n",
       "<style scoped>\n",
       "    .dataframe tbody tr th:only-of-type {\n",
       "        vertical-align: middle;\n",
       "    }\n",
       "\n",
       "    .dataframe tbody tr th {\n",
       "        vertical-align: top;\n",
       "    }\n",
       "\n",
       "    .dataframe thead th {\n",
       "        text-align: right;\n",
       "    }\n",
       "</style>\n",
       "<table border=\"1\" class=\"dataframe\">\n",
       "  <thead>\n",
       "    <tr style=\"text-align: right;\">\n",
       "      <th></th>\n",
       "      <th>Média Redação</th>\n",
       "      <th>Média Matemática</th>\n",
       "      <th>% Aprovados Redação</th>\n",
       "      <th>% Aprovados Matemática</th>\n",
       "      <th>% Geral Aprovados</th>\n",
       "    </tr>\n",
       "    <tr>\n",
       "      <th>Faixa Gasto Por Estudante</th>\n",
       "      <th></th>\n",
       "      <th></th>\n",
       "      <th></th>\n",
       "      <th></th>\n",
       "      <th></th>\n",
       "    </tr>\n",
       "  </thead>\n",
       "  <tbody>\n",
       "    <tr>\n",
       "      <th>&lt;$585</th>\n",
       "      <td>83.93</td>\n",
       "      <td>83.46</td>\n",
       "      <td>96.61</td>\n",
       "      <td>93.46</td>\n",
       "      <td>90.37</td>\n",
       "    </tr>\n",
       "    <tr>\n",
       "      <th>$585-630</th>\n",
       "      <td>83.16</td>\n",
       "      <td>81.90</td>\n",
       "      <td>92.72</td>\n",
       "      <td>87.13</td>\n",
       "      <td>81.42</td>\n",
       "    </tr>\n",
       "    <tr>\n",
       "      <th>$630-645</th>\n",
       "      <td>81.61</td>\n",
       "      <td>78.52</td>\n",
       "      <td>84.39</td>\n",
       "      <td>73.47</td>\n",
       "      <td>62.84</td>\n",
       "    </tr>\n",
       "    <tr>\n",
       "      <th>$645-680</th>\n",
       "      <td>81.03</td>\n",
       "      <td>77.00</td>\n",
       "      <td>81.13</td>\n",
       "      <td>66.16</td>\n",
       "      <td>53.53</td>\n",
       "    </tr>\n",
       "  </tbody>\n",
       "</table>\n",
       "</div>"
      ],
      "text/plain": [
       "                           Média Redação  Média Matemática  \\\n",
       "Faixa Gasto Por Estudante                                    \n",
       "<$585                              83.93             83.46   \n",
       "$585-630                           83.16             81.90   \n",
       "$630-645                           81.61             78.52   \n",
       "$645-680                           81.03             77.00   \n",
       "\n",
       "                           % Aprovados Redação  % Aprovados Matemática  \\\n",
       "Faixa Gasto Por Estudante                                                \n",
       "<$585                                    96.61                   93.46   \n",
       "$585-630                                 92.72                   87.13   \n",
       "$630-645                                 84.39                   73.47   \n",
       "$645-680                                 81.13                   66.16   \n",
       "\n",
       "                           % Geral Aprovados  \n",
       "Faixa Gasto Por Estudante                     \n",
       "<$585                                  90.37  \n",
       "$585-630                               81.42  \n",
       "$630-645                               62.84  \n",
       "$645-680                               53.53  "
      ]
     },
     "execution_count": 74,
     "metadata": {},
     "output_type": "execute_result"
    }
   ],
   "source": [
    "df_performance_gastos"
   ]
  },
  {
   "cell_type": "markdown",
   "id": "97e4d554",
   "metadata": {},
   "source": [
    "**Considerando as faixas de tamanho (número de alunos) das escolas como sendo: [0, 1000, 2000, 5000], qual faixa resulta em estudantes com melhor performance?**"
   ]
  },
  {
   "cell_type": "code",
   "execution_count": 75,
   "id": "aca5113b",
   "metadata": {},
   "outputs": [],
   "source": [
    "# Criação da variável de faixa\n",
    "faixa_bins_est = [0,1000, 2000, 5000]"
   ]
  },
  {
   "cell_type": "code",
   "execution_count": 76,
   "id": "77863eb4",
   "metadata": {},
   "outputs": [],
   "source": [
    "# Criação da variável com nomes das faixas\n",
    "labels_est = [\"Pequeno Porte (<1000)\", \"Médio Porte (1000-2000)\", \"Grande Porte (2000-5000)\"]"
   ]
  },
  {
   "cell_type": "code",
   "execution_count": 77,
   "id": "4282c020",
   "metadata": {},
   "outputs": [
    {
     "data": {
      "text/plain": [
       "Index(['Tipo Escola', 'Total Estudantes', 'Total Orçamento',\n",
       "       'Orçamento Por Estudante', 'Nota Média Aprovação Redação',\n",
       "       'Nota Média Aprovação Matemática', '% Aprovados Redação',\n",
       "       '% Aprovados Matemática', '% Geral Aprovados',\n",
       "       'Faixa Gasto Por Estudante'],\n",
       "      dtype='object')"
      ]
     },
     "execution_count": 77,
     "metadata": {},
     "output_type": "execute_result"
    }
   ],
   "source": [
    "df_resumo_performance_escolar.columns"
   ]
  },
  {
   "cell_type": "code",
   "execution_count": 78,
   "id": "2802da96",
   "metadata": {},
   "outputs": [],
   "source": [
    "df_resumo_performance_escolar['Porte Escola'] = pd.cut(tot_estudantes_escolas,\n",
    "                                                       faixa_bins_est,\n",
    "                                                       labels = labels_est,\n",
    "                                                       right = False)"
   ]
  },
  {
   "cell_type": "code",
   "execution_count": 79,
   "id": "4bb7eb67",
   "metadata": {},
   "outputs": [
    {
     "data": {
      "text/html": [
       "<div>\n",
       "<style scoped>\n",
       "    .dataframe tbody tr th:only-of-type {\n",
       "        vertical-align: middle;\n",
       "    }\n",
       "\n",
       "    .dataframe tbody tr th {\n",
       "        vertical-align: top;\n",
       "    }\n",
       "\n",
       "    .dataframe thead th {\n",
       "        text-align: right;\n",
       "    }\n",
       "</style>\n",
       "<table border=\"1\" class=\"dataframe\">\n",
       "  <thead>\n",
       "    <tr style=\"text-align: right;\">\n",
       "      <th></th>\n",
       "      <th>Tipo Escola</th>\n",
       "      <th>Total Estudantes</th>\n",
       "      <th>Total Orçamento</th>\n",
       "      <th>Orçamento Por Estudante</th>\n",
       "      <th>Nota Média Aprovação Redação</th>\n",
       "      <th>Nota Média Aprovação Matemática</th>\n",
       "      <th>% Aprovados Redação</th>\n",
       "      <th>% Aprovados Matemática</th>\n",
       "      <th>% Geral Aprovados</th>\n",
       "      <th>Faixa Gasto Por Estudante</th>\n",
       "      <th>Porte Escola</th>\n",
       "    </tr>\n",
       "  </thead>\n",
       "  <tbody>\n",
       "    <tr>\n",
       "      <th>Escola A</th>\n",
       "      <td>Publica</td>\n",
       "      <td>2917</td>\n",
       "      <td>$1,910,635.00</td>\n",
       "      <td>$655.00</td>\n",
       "      <td>81.182722</td>\n",
       "      <td>76.629414</td>\n",
       "      <td>81.316421</td>\n",
       "      <td>65.683922</td>\n",
       "      <td>53.513884</td>\n",
       "      <td>$645-680</td>\n",
       "      <td>Grande Porte (2000-5000)</td>\n",
       "    </tr>\n",
       "    <tr>\n",
       "      <th>Escola B</th>\n",
       "      <td>Publica</td>\n",
       "      <td>2949</td>\n",
       "      <td>$1,884,411.00</td>\n",
       "      <td>$639.00</td>\n",
       "      <td>81.158020</td>\n",
       "      <td>76.711767</td>\n",
       "      <td>80.739234</td>\n",
       "      <td>65.988471</td>\n",
       "      <td>53.204476</td>\n",
       "      <td>$630-645</td>\n",
       "      <td>Grande Porte (2000-5000)</td>\n",
       "    </tr>\n",
       "    <tr>\n",
       "      <th>Escola C</th>\n",
       "      <td>Particular</td>\n",
       "      <td>1761</td>\n",
       "      <td>$1,056,600.00</td>\n",
       "      <td>$600.00</td>\n",
       "      <td>83.725724</td>\n",
       "      <td>83.359455</td>\n",
       "      <td>95.854628</td>\n",
       "      <td>93.867121</td>\n",
       "      <td>89.892107</td>\n",
       "      <td>$585-630</td>\n",
       "      <td>Médio Porte (1000-2000)</td>\n",
       "    </tr>\n",
       "  </tbody>\n",
       "</table>\n",
       "</div>"
      ],
      "text/plain": [
       "         Tipo Escola  Total Estudantes Total Orçamento  \\\n",
       "Escola A     Publica              2917   $1,910,635.00   \n",
       "Escola B     Publica              2949   $1,884,411.00   \n",
       "Escola C  Particular              1761   $1,056,600.00   \n",
       "\n",
       "         Orçamento Por Estudante  Nota Média Aprovação Redação  \\\n",
       "Escola A                 $655.00                     81.182722   \n",
       "Escola B                 $639.00                     81.158020   \n",
       "Escola C                 $600.00                     83.725724   \n",
       "\n",
       "          Nota Média Aprovação Matemática  % Aprovados Redação  \\\n",
       "Escola A                        76.629414            81.316421   \n",
       "Escola B                        76.711767            80.739234   \n",
       "Escola C                        83.359455            95.854628   \n",
       "\n",
       "          % Aprovados Matemática  % Geral Aprovados Faixa Gasto Por Estudante  \\\n",
       "Escola A               65.683922          53.513884                  $645-680   \n",
       "Escola B               65.988471          53.204476                  $630-645   \n",
       "Escola C               93.867121          89.892107                  $585-630   \n",
       "\n",
       "                      Porte Escola  \n",
       "Escola A  Grande Porte (2000-5000)  \n",
       "Escola B  Grande Porte (2000-5000)  \n",
       "Escola C   Médio Porte (1000-2000)  "
      ]
     },
     "execution_count": 79,
     "metadata": {},
     "output_type": "execute_result"
    }
   ],
   "source": [
    "df_resumo_performance_escolar.head(3)"
   ]
  },
  {
   "cell_type": "code",
   "execution_count": 80,
   "id": "d0c56e4f",
   "metadata": {},
   "outputs": [],
   "source": [
    "# Filtro para criação de um dataset\n",
    "df_est_1 = df_resumo_performance_escolar.groupby(['Porte Escola']).mean()['Nota Média Aprovação Redação']\n",
    "df_est_2 = df_resumo_performance_escolar.groupby(['Porte Escola']).mean()['Nota Média Aprovação Matemática']\n",
    "df_est_3 = df_resumo_performance_escolar.groupby(['Porte Escola']).mean()['% Aprovados Redação']\n",
    "df_est_4 = df_resumo_performance_escolar.groupby(['Porte Escola']).mean()['% Aprovados Matemática']\n",
    "df_est_5 = df_resumo_performance_escolar.groupby(['Porte Escola']).mean()['% Geral Aprovados']"
   ]
  },
  {
   "cell_type": "code",
   "execution_count": 81,
   "id": "a70fc24a",
   "metadata": {},
   "outputs": [],
   "source": [
    "# Criação do dataset\n",
    "df_performance_porte = pd.DataFrame({'Média Redação': df_est_1.round(2),\n",
    "                                      'Média Matemática' : df_est_2.round(2),\n",
    "                                      '% Aprovados Redação' : df_est_3.round(2),\n",
    "                                      '% Aprovados Matemática' : df_est_4.round(2),\n",
    "                                      '% Geral Aprovados': df_est_5.round(2)})"
   ]
  },
  {
   "cell_type": "code",
   "execution_count": 82,
   "id": "6e1606ce",
   "metadata": {},
   "outputs": [
    {
     "data": {
      "text/html": [
       "<div>\n",
       "<style scoped>\n",
       "    .dataframe tbody tr th:only-of-type {\n",
       "        vertical-align: middle;\n",
       "    }\n",
       "\n",
       "    .dataframe tbody tr th {\n",
       "        vertical-align: top;\n",
       "    }\n",
       "\n",
       "    .dataframe thead th {\n",
       "        text-align: right;\n",
       "    }\n",
       "</style>\n",
       "<table border=\"1\" class=\"dataframe\">\n",
       "  <thead>\n",
       "    <tr style=\"text-align: right;\">\n",
       "      <th></th>\n",
       "      <th>Média Redação</th>\n",
       "      <th>Média Matemática</th>\n",
       "      <th>% Aprovados Redação</th>\n",
       "      <th>% Aprovados Matemática</th>\n",
       "      <th>% Geral Aprovados</th>\n",
       "    </tr>\n",
       "    <tr>\n",
       "      <th>Porte Escola</th>\n",
       "      <th></th>\n",
       "      <th></th>\n",
       "      <th></th>\n",
       "      <th></th>\n",
       "      <th></th>\n",
       "    </tr>\n",
       "  </thead>\n",
       "  <tbody>\n",
       "    <tr>\n",
       "      <th>Pequeno Porte (&lt;1000)</th>\n",
       "      <td>83.93</td>\n",
       "      <td>83.82</td>\n",
       "      <td>96.10</td>\n",
       "      <td>93.55</td>\n",
       "      <td>89.88</td>\n",
       "    </tr>\n",
       "    <tr>\n",
       "      <th>Médio Porte (1000-2000)</th>\n",
       "      <td>83.86</td>\n",
       "      <td>83.38</td>\n",
       "      <td>96.79</td>\n",
       "      <td>93.59</td>\n",
       "      <td>90.61</td>\n",
       "    </tr>\n",
       "    <tr>\n",
       "      <th>Grande Porte (2000-5000)</th>\n",
       "      <td>81.34</td>\n",
       "      <td>77.75</td>\n",
       "      <td>82.77</td>\n",
       "      <td>69.96</td>\n",
       "      <td>58.29</td>\n",
       "    </tr>\n",
       "  </tbody>\n",
       "</table>\n",
       "</div>"
      ],
      "text/plain": [
       "                          Média Redação  Média Matemática  \\\n",
       "Porte Escola                                                \n",
       "Pequeno Porte (<1000)             83.93             83.82   \n",
       "Médio Porte (1000-2000)           83.86             83.38   \n",
       "Grande Porte (2000-5000)          81.34             77.75   \n",
       "\n",
       "                          % Aprovados Redação  % Aprovados Matemática  \\\n",
       "Porte Escola                                                            \n",
       "Pequeno Porte (<1000)                   96.10                   93.55   \n",
       "Médio Porte (1000-2000)                 96.79                   93.59   \n",
       "Grande Porte (2000-5000)                82.77                   69.96   \n",
       "\n",
       "                          % Geral Aprovados  \n",
       "Porte Escola                                 \n",
       "Pequeno Porte (<1000)                 89.88  \n",
       "Médio Porte (1000-2000)               90.61  \n",
       "Grande Porte (2000-5000)              58.29  "
      ]
     },
     "execution_count": 82,
     "metadata": {},
     "output_type": "execute_result"
    }
   ],
   "source": [
    "df_performance_porte"
   ]
  },
  {
   "cell_type": "markdown",
   "id": "4955ab85",
   "metadata": {},
   "source": [
    "**Qual o impacto do tipo de escola na performance dos alunos?**"
   ]
  },
  {
   "cell_type": "code",
   "execution_count": 83,
   "id": "487bc2b5",
   "metadata": {},
   "outputs": [
    {
     "data": {
      "text/plain": [
       "Index(['Tipo Escola', 'Total Estudantes', 'Total Orçamento',\n",
       "       'Orçamento Por Estudante', 'Nota Média Aprovação Redação',\n",
       "       'Nota Média Aprovação Matemática', '% Aprovados Redação',\n",
       "       '% Aprovados Matemática', '% Geral Aprovados',\n",
       "       'Faixa Gasto Por Estudante', 'Porte Escola'],\n",
       "      dtype='object')"
      ]
     },
     "execution_count": 83,
     "metadata": {},
     "output_type": "execute_result"
    }
   ],
   "source": [
    "df_resumo_performance_escolar.columns"
   ]
  },
  {
   "cell_type": "code",
   "execution_count": 84,
   "id": "23256592",
   "metadata": {},
   "outputs": [],
   "source": [
    "# Filtro para criação de um dataset\n",
    "df_tipo_1 = df_resumo_performance_escolar.groupby(['Tipo Escola']).mean()['Nota Média Aprovação Redação']\n",
    "df_tipo_2 = df_resumo_performance_escolar.groupby(['Tipo Escola']).mean()['Nota Média Aprovação Matemática']\n",
    "df_tipo_3 = df_resumo_performance_escolar.groupby(['Tipo Escola']).mean()['% Aprovados Redação']\n",
    "df_tipo_4 = df_resumo_performance_escolar.groupby(['Tipo Escola']).mean()['% Aprovados Matemática']\n",
    "df_tipo_5 = df_resumo_performance_escolar.groupby(['Tipo Escola']).mean()['% Geral Aprovados']"
   ]
  },
  {
   "cell_type": "code",
   "execution_count": 85,
   "id": "e24cbec1",
   "metadata": {},
   "outputs": [],
   "source": [
    "# Criação do dataset\n",
    "df_performance_tipo = pd.DataFrame({'Média Redação': df_tipo_1.round(2),\n",
    "                                      'Média Matemática' : df_tipo_2.round(2),\n",
    "                                      '% Aprovados Redação' : df_tipo_3.round(2),\n",
    "                                      '% Aprovados Matemática' : df_tipo_4.round(2),\n",
    "                                      '% Geral Aprovados': df_tipo_5.round(2)})"
   ]
  },
  {
   "cell_type": "code",
   "execution_count": 86,
   "id": "4232bdc4",
   "metadata": {},
   "outputs": [
    {
     "data": {
      "text/html": [
       "<div>\n",
       "<style scoped>\n",
       "    .dataframe tbody tr th:only-of-type {\n",
       "        vertical-align: middle;\n",
       "    }\n",
       "\n",
       "    .dataframe tbody tr th {\n",
       "        vertical-align: top;\n",
       "    }\n",
       "\n",
       "    .dataframe thead th {\n",
       "        text-align: right;\n",
       "    }\n",
       "</style>\n",
       "<table border=\"1\" class=\"dataframe\">\n",
       "  <thead>\n",
       "    <tr style=\"text-align: right;\">\n",
       "      <th></th>\n",
       "      <th>Média Redação</th>\n",
       "      <th>Média Matemática</th>\n",
       "      <th>% Aprovados Redação</th>\n",
       "      <th>% Aprovados Matemática</th>\n",
       "      <th>% Geral Aprovados</th>\n",
       "    </tr>\n",
       "    <tr>\n",
       "      <th>Tipo Escola</th>\n",
       "      <th></th>\n",
       "      <th></th>\n",
       "      <th></th>\n",
       "      <th></th>\n",
       "      <th></th>\n",
       "    </tr>\n",
       "  </thead>\n",
       "  <tbody>\n",
       "    <tr>\n",
       "      <th>Particular</th>\n",
       "      <td>83.89</td>\n",
       "      <td>83.48</td>\n",
       "      <td>96.58</td>\n",
       "      <td>93.62</td>\n",
       "      <td>90.43</td>\n",
       "    </tr>\n",
       "    <tr>\n",
       "      <th>Publica</th>\n",
       "      <td>80.97</td>\n",
       "      <td>76.96</td>\n",
       "      <td>80.80</td>\n",
       "      <td>66.55</td>\n",
       "      <td>53.67</td>\n",
       "    </tr>\n",
       "  </tbody>\n",
       "</table>\n",
       "</div>"
      ],
      "text/plain": [
       "             Média Redação  Média Matemática  % Aprovados Redação  \\\n",
       "Tipo Escola                                                         \n",
       "Particular           83.89             83.48                96.58   \n",
       "Publica              80.97             76.96                80.80   \n",
       "\n",
       "             % Aprovados Matemática  % Geral Aprovados  \n",
       "Tipo Escola                                             \n",
       "Particular                    93.62              90.43  \n",
       "Publica                       66.55              53.67  "
      ]
     },
     "execution_count": 86,
     "metadata": {},
     "output_type": "execute_result"
    }
   ],
   "source": [
    "df_performance_tipo"
   ]
  },
  {
   "cell_type": "code",
   "execution_count": 87,
   "id": "a872499d",
   "metadata": {},
   "outputs": [],
   "source": [
    "# Salvando em formato Excel\n",
    "df_resumo_performance_escolar.to_excel('dados/df_resumo_performance_escolar.xlsx')"
   ]
  },
  {
   "cell_type": "markdown",
   "id": "827edf52",
   "metadata": {},
   "source": [
    "### Fim"
   ]
  }
 ],
 "metadata": {
  "kernelspec": {
   "display_name": "Python 3 (ipykernel)",
   "language": "python",
   "name": "python3"
  },
  "language_info": {
   "codemirror_mode": {
    "name": "ipython",
    "version": 3
   },
   "file_extension": ".py",
   "mimetype": "text/x-python",
   "name": "python",
   "nbconvert_exporter": "python",
   "pygments_lexer": "ipython3",
   "version": "3.9.7"
  }
 },
 "nbformat": 4,
 "nbformat_minor": 5
}
